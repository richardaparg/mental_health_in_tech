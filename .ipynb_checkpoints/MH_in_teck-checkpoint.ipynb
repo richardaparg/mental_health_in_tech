{
 "cells": [
  {
   "cell_type": "code",
   "execution_count": 1,
   "metadata": {},
   "outputs": [
    {
     "data": {
      "application/javascript": [
       "\n",
       "            setTimeout(function() {\n",
       "                var nbb_cell_id = 1;\n",
       "                var nbb_unformatted_code = \"%load_ext nb_black\";\n",
       "                var nbb_formatted_code = \"%load_ext nb_black\";\n",
       "                var nbb_cells = Jupyter.notebook.get_cells();\n",
       "                for (var i = 0; i < nbb_cells.length; ++i) {\n",
       "                    if (nbb_cells[i].input_prompt_number == nbb_cell_id) {\n",
       "                        if (nbb_cells[i].get_text() == nbb_unformatted_code) {\n",
       "                             nbb_cells[i].set_text(nbb_formatted_code);\n",
       "                        }\n",
       "                        break;\n",
       "                    }\n",
       "                }\n",
       "            }, 500);\n",
       "            "
      ],
      "text/plain": [
       "<IPython.core.display.Javascript object>"
      ]
     },
     "metadata": {},
     "output_type": "display_data"
    }
   ],
   "source": [
    "%load_ext nb_black"
   ]
  },
  {
   "cell_type": "code",
   "execution_count": 2,
   "metadata": {},
   "outputs": [
    {
     "data": {
      "application/javascript": [
       "\n",
       "            setTimeout(function() {\n",
       "                var nbb_cell_id = 2;\n",
       "                var nbb_unformatted_code = \"import re\\nimport pandas as pd\\nimport numpy as np\\nimport matplotlib.pyplot as plt\\nimport seaborn as sns\\nfrom sklearn.preprocessing import OneHotEncoder\\nfrom sklearn.impute import KNNImputer\\nfrom sklearn.model_selection import train_test_split\\nfrom sklearn.preprocessing import StandardScaler\\nfrom sklearn.pipeline import Pipeline\\nfrom sklearn.model_selection import GridSearchCV\\nfrom sklearn.preprocessing import FunctionTransformer\\nfrom sklearn.preprocessing import MinMaxScaler\\nfrom sklearn.feature_selection import SelectKBest\\nfrom sklearn.feature_selection import chi2\\nfrom sklearn.linear_model import LogisticRegression\\nfrom sklearn import svm\\nfrom sklearn.ensemble import RandomForestClassifier\\nfrom sklearn.metrics import accuracy_score\\nfrom sklearn.metrics import precision_score\\nfrom sklearn.metrics import classification_report\\n\\nfrom xgboost import XGBClassifier, plot_importance\\nfrom sklearn.feature_selection import RFECV\\nfrom xgboost import XGBClassifier\\nfrom sklearn.metrics import accuracy_score\\n\\npd.options.mode.chained_assignment = None\";\n",
       "                var nbb_formatted_code = \"import re\\nimport pandas as pd\\nimport numpy as np\\nimport matplotlib.pyplot as plt\\nimport seaborn as sns\\nfrom sklearn.preprocessing import OneHotEncoder\\nfrom sklearn.impute import KNNImputer\\nfrom sklearn.model_selection import train_test_split\\nfrom sklearn.preprocessing import StandardScaler\\nfrom sklearn.pipeline import Pipeline\\nfrom sklearn.model_selection import GridSearchCV\\nfrom sklearn.preprocessing import FunctionTransformer\\nfrom sklearn.preprocessing import MinMaxScaler\\nfrom sklearn.feature_selection import SelectKBest\\nfrom sklearn.feature_selection import chi2\\nfrom sklearn.linear_model import LogisticRegression\\nfrom sklearn import svm\\nfrom sklearn.ensemble import RandomForestClassifier\\nfrom sklearn.metrics import accuracy_score\\nfrom sklearn.metrics import precision_score\\nfrom sklearn.metrics import classification_report\\n\\nfrom xgboost import XGBClassifier, plot_importance\\nfrom sklearn.feature_selection import RFECV\\nfrom xgboost import XGBClassifier\\nfrom sklearn.metrics import accuracy_score\\n\\npd.options.mode.chained_assignment = None\";\n",
       "                var nbb_cells = Jupyter.notebook.get_cells();\n",
       "                for (var i = 0; i < nbb_cells.length; ++i) {\n",
       "                    if (nbb_cells[i].input_prompt_number == nbb_cell_id) {\n",
       "                        if (nbb_cells[i].get_text() == nbb_unformatted_code) {\n",
       "                             nbb_cells[i].set_text(nbb_formatted_code);\n",
       "                        }\n",
       "                        break;\n",
       "                    }\n",
       "                }\n",
       "            }, 500);\n",
       "            "
      ],
      "text/plain": [
       "<IPython.core.display.Javascript object>"
      ]
     },
     "metadata": {},
     "output_type": "display_data"
    }
   ],
   "source": [
    "import re\n",
    "import pandas as pd\n",
    "import numpy as np\n",
    "import matplotlib.pyplot as plt\n",
    "import seaborn as sns\n",
    "from sklearn.preprocessing import OneHotEncoder\n",
    "from sklearn.impute import KNNImputer\n",
    "from sklearn.model_selection import train_test_split\n",
    "from sklearn.preprocessing import StandardScaler\n",
    "from sklearn.pipeline import Pipeline\n",
    "from sklearn.model_selection import GridSearchCV\n",
    "from sklearn.preprocessing import FunctionTransformer\n",
    "from sklearn.preprocessing import MinMaxScaler\n",
    "from sklearn.feature_selection import SelectKBest\n",
    "from sklearn.feature_selection import chi2\n",
    "from sklearn.linear_model import LogisticRegression\n",
    "from sklearn import svm\n",
    "from sklearn.ensemble import RandomForestClassifier\n",
    "from sklearn.metrics import accuracy_score\n",
    "from sklearn.metrics import precision_score\n",
    "from sklearn.metrics import classification_report\n",
    "\n",
    "from xgboost import XGBClassifier, plot_importance\n",
    "from sklearn.feature_selection import RFECV\n",
    "from xgboost import XGBClassifier\n",
    "from sklearn.metrics import accuracy_score\n",
    "\n",
    "pd.options.mode.chained_assignment = None"
   ]
  },
  {
   "cell_type": "code",
   "execution_count": 3,
   "metadata": {},
   "outputs": [
    {
     "data": {
      "application/javascript": [
       "\n",
       "            setTimeout(function() {\n",
       "                var nbb_cell_id = 3;\n",
       "                var nbb_unformatted_code = \"s16_df = pd.read_csv(\\n    \\\"C:/Users/rparg/Documents/Data/mental_health_in_tech/mental_health_in_tech_survey_2016.csv\\\"\\n)\\ns17_df = pd.read_csv(\\n    \\\"C:/Users/rparg/Documents/Data/mental_health_in_tech/mental_health_in_tech_survey_2017.csv\\\"\\n)\\ns18_df = pd.read_csv(\\n    \\\"C:/Users/rparg/Documents/Data/mental_health_in_tech/mental_health_in_tech_survey_2018.csv\\\"\\n)\";\n",
       "                var nbb_formatted_code = \"s16_df = pd.read_csv(\\n    \\\"C:/Users/rparg/Documents/Data/mental_health_in_tech/mental_health_in_tech_survey_2016.csv\\\"\\n)\\ns17_df = pd.read_csv(\\n    \\\"C:/Users/rparg/Documents/Data/mental_health_in_tech/mental_health_in_tech_survey_2017.csv\\\"\\n)\\ns18_df = pd.read_csv(\\n    \\\"C:/Users/rparg/Documents/Data/mental_health_in_tech/mental_health_in_tech_survey_2018.csv\\\"\\n)\";\n",
       "                var nbb_cells = Jupyter.notebook.get_cells();\n",
       "                for (var i = 0; i < nbb_cells.length; ++i) {\n",
       "                    if (nbb_cells[i].input_prompt_number == nbb_cell_id) {\n",
       "                        if (nbb_cells[i].get_text() == nbb_unformatted_code) {\n",
       "                             nbb_cells[i].set_text(nbb_formatted_code);\n",
       "                        }\n",
       "                        break;\n",
       "                    }\n",
       "                }\n",
       "            }, 500);\n",
       "            "
      ],
      "text/plain": [
       "<IPython.core.display.Javascript object>"
      ]
     },
     "metadata": {},
     "output_type": "display_data"
    }
   ],
   "source": [
    "s16_df = pd.read_csv(\n",
    "    \"C:/Users/rparg/Documents/Data/mental_health_in_tech/mental_health_in_tech_survey_2016.csv\"\n",
    ")\n",
    "s17_df = pd.read_csv(\n",
    "    \"C:/Users/rparg/Documents/Data/mental_health_in_tech/mental_health_in_tech_survey_2017.csv\"\n",
    ")\n",
    "s18_df = pd.read_csv(\n",
    "    \"C:/Users/rparg/Documents/Data/mental_health_in_tech/mental_health_in_tech_survey_2018.csv\"\n",
    ")"
   ]
  },
  {
   "cell_type": "code",
   "execution_count": 4,
   "metadata": {},
   "outputs": [
    {
     "data": {
      "application/javascript": [
       "\n",
       "            setTimeout(function() {\n",
       "                var nbb_cell_id = 4;\n",
       "                var nbb_unformatted_code = \"#Text cleaning function\\n\\ndef text_cleaner(text):\\n\\n    text = str(text)\\n    text = text.lower()\\n    text = re.sub(\\\"<.*>\\\", \\\" \\\", text)\\n    text = re.sub(\\\"[,./?;:*&^%$#@!()-_=+]\\\", \\\" \\\", text)\\n    text = re.sub(\\\"[0-9]\\\", \\\" \\\", text)\\n    text = re.sub(\\\" +\\\", \\\" \\\", text)\\n    text = text.strip()\\n    text = re.sub(\\\" \\\", \\\"_\\\", text)\\n\\n    return text\\n\\n#Function to run text_cleaner iteratively on column headers of df\\n\\ndef header_cleaner(df):\\n\\n    cleaned = [text_cleaner(column) for column in df.columns.values]\\n\\n    return cleaned\\n\\n#Function to call text_cleaner on each row of a column (or series)\\n\\ndef column_cleaner(col):\\n\\n    cleaned = [text_cleaner(row) for row in col]\\n\\n    return cleaned\";\n",
       "                var nbb_formatted_code = \"# Text cleaning function\\n\\n\\ndef text_cleaner(text):\\n\\n    text = str(text)\\n    text = text.lower()\\n    text = re.sub(\\\"<.*>\\\", \\\" \\\", text)\\n    text = re.sub(\\\"[,./?;:*&^%$#@!()-_=+]\\\", \\\" \\\", text)\\n    text = re.sub(\\\"[0-9]\\\", \\\" \\\", text)\\n    text = re.sub(\\\" +\\\", \\\" \\\", text)\\n    text = text.strip()\\n    text = re.sub(\\\" \\\", \\\"_\\\", text)\\n\\n    return text\\n\\n\\n# Function to run text_cleaner iteratively on column headers of df\\n\\n\\ndef header_cleaner(df):\\n\\n    cleaned = [text_cleaner(column) for column in df.columns.values]\\n\\n    return cleaned\\n\\n\\n# Function to call text_cleaner on each row of a column (or series)\\n\\n\\ndef column_cleaner(col):\\n\\n    cleaned = [text_cleaner(row) for row in col]\\n\\n    return cleaned\";\n",
       "                var nbb_cells = Jupyter.notebook.get_cells();\n",
       "                for (var i = 0; i < nbb_cells.length; ++i) {\n",
       "                    if (nbb_cells[i].input_prompt_number == nbb_cell_id) {\n",
       "                        if (nbb_cells[i].get_text() == nbb_unformatted_code) {\n",
       "                             nbb_cells[i].set_text(nbb_formatted_code);\n",
       "                        }\n",
       "                        break;\n",
       "                    }\n",
       "                }\n",
       "            }, 500);\n",
       "            "
      ],
      "text/plain": [
       "<IPython.core.display.Javascript object>"
      ]
     },
     "metadata": {},
     "output_type": "display_data"
    }
   ],
   "source": [
    "#Text cleaning function\n",
    "\n",
    "def text_cleaner(text):\n",
    "\n",
    "    text = str(text)\n",
    "    text = text.lower()\n",
    "    text = re.sub(\"<.*>\", \" \", text)\n",
    "    text = re.sub(\"[,./?;:*&^%$#@!()-_=+]\", \" \", text)\n",
    "    text = re.sub(\"[0-9]\", \" \", text)\n",
    "    text = re.sub(\" +\", \" \", text)\n",
    "    text = text.strip()\n",
    "    text = re.sub(\" \", \"_\", text)\n",
    "\n",
    "    return text\n",
    "\n",
    "#Function to run text_cleaner iteratively on column headers of df\n",
    "\n",
    "def header_cleaner(df):\n",
    "\n",
    "    cleaned = [text_cleaner(column) for column in df.columns.values]\n",
    "\n",
    "    return cleaned\n",
    "\n",
    "#Function to call text_cleaner on each row of a column (or series)\n",
    "\n",
    "def column_cleaner(col):\n",
    "\n",
    "    cleaned = [text_cleaner(row) for row in col]\n",
    "\n",
    "    return cleaned\n"
   ]
  },
  {
   "cell_type": "code",
   "execution_count": 5,
   "metadata": {
    "scrolled": true
   },
   "outputs": [
    {
     "data": {
      "application/javascript": [
       "\n",
       "            setTimeout(function() {\n",
       "                var nbb_cell_id = 5;\n",
       "                var nbb_unformatted_code = \"# Cleans the headers (questions) of each df (survey)\\n\\ns16_df.columns = column_cleaner(s16_df)\\ns17_df.columns = column_cleaner(s17_df)\\ns18_df.columns = column_cleaner(s18_df)\\n\\n# Creates three sets of column headers (questions) and prints the columns which are in all three surveys (intersection)\\n\\ns16 = set(header_cleaner(s16_df))\\ns17 = set(header_cleaner(s17_df))\\ns18 = set(header_cleaner(s18_df))\\ninter_cols = list(set.intersection(s16, s17, s18))\";\n",
       "                var nbb_formatted_code = \"# Cleans the headers (questions) of each df (survey)\\n\\ns16_df.columns = column_cleaner(s16_df)\\ns17_df.columns = column_cleaner(s17_df)\\ns18_df.columns = column_cleaner(s18_df)\\n\\n# Creates three sets of column headers (questions) and prints the columns which are in all three surveys (intersection)\\n\\ns16 = set(header_cleaner(s16_df))\\ns17 = set(header_cleaner(s17_df))\\ns18 = set(header_cleaner(s18_df))\\ninter_cols = list(set.intersection(s16, s17, s18))\";\n",
       "                var nbb_cells = Jupyter.notebook.get_cells();\n",
       "                for (var i = 0; i < nbb_cells.length; ++i) {\n",
       "                    if (nbb_cells[i].input_prompt_number == nbb_cell_id) {\n",
       "                        if (nbb_cells[i].get_text() == nbb_unformatted_code) {\n",
       "                             nbb_cells[i].set_text(nbb_formatted_code);\n",
       "                        }\n",
       "                        break;\n",
       "                    }\n",
       "                }\n",
       "            }, 500);\n",
       "            "
      ],
      "text/plain": [
       "<IPython.core.display.Javascript object>"
      ]
     },
     "metadata": {},
     "output_type": "display_data"
    }
   ],
   "source": [
    "# Cleans the headers (questions) of each df (survey)\n",
    "\n",
    "s16_df.columns = column_cleaner(s16_df)\n",
    "s17_df.columns = column_cleaner(s17_df)\n",
    "s18_df.columns = column_cleaner(s18_df)\n",
    "\n",
    "# Creates three sets of column headers (questions) and prints the columns which are in all three surveys (intersection)\n",
    "\n",
    "s16 = set(header_cleaner(s16_df))\n",
    "s17 = set(header_cleaner(s17_df))\n",
    "s18 = set(header_cleaner(s18_df))\n",
    "inter_cols = list(set.intersection(s16, s17, s18))"
   ]
  },
  {
   "cell_type": "code",
   "execution_count": 6,
   "metadata": {},
   "outputs": [
    {
     "data": {
      "application/javascript": [
       "\n",
       "            setTimeout(function() {\n",
       "                var nbb_cell_id = 6;\n",
       "                var nbb_unformatted_code = \"# Combines the responses for the overlaping questions from all three years into one df\\nall_df = pd.concat(\\n    [\\n        s16_df[inter_cols],\\n        s17_df[inter_cols],\\n        s18_df[inter_cols],\\n    ],\\n    axis=0,\\n    ignore_index=True,\\n).drop(columns=\\\"why_or_why_not\\\")\";\n",
       "                var nbb_formatted_code = \"# Combines the responses for the overlaping questions from all three years into one df\\nall_df = pd.concat(\\n    [\\n        s16_df[inter_cols],\\n        s17_df[inter_cols],\\n        s18_df[inter_cols],\\n    ],\\n    axis=0,\\n    ignore_index=True,\\n).drop(columns=\\\"why_or_why_not\\\")\";\n",
       "                var nbb_cells = Jupyter.notebook.get_cells();\n",
       "                for (var i = 0; i < nbb_cells.length; ++i) {\n",
       "                    if (nbb_cells[i].input_prompt_number == nbb_cell_id) {\n",
       "                        if (nbb_cells[i].get_text() == nbb_unformatted_code) {\n",
       "                             nbb_cells[i].set_text(nbb_formatted_code);\n",
       "                        }\n",
       "                        break;\n",
       "                    }\n",
       "                }\n",
       "            }, 500);\n",
       "            "
      ],
      "text/plain": [
       "<IPython.core.display.Javascript object>"
      ]
     },
     "metadata": {},
     "output_type": "display_data"
    }
   ],
   "source": [
    "# Combines the responses for the overlaping questions from all three years into one df\n",
    "all_df = pd.concat(\n",
    "    [\n",
    "        s16_df[inter_cols],\n",
    "        s17_df[inter_cols],\n",
    "        s18_df[inter_cols],\n",
    "    ],\n",
    "    axis=0,\n",
    "    ignore_index=True,\n",
    ").drop(columns=\"why_or_why_not\")"
   ]
  },
  {
   "cell_type": "code",
   "execution_count": 7,
   "metadata": {
    "scrolled": true
   },
   "outputs": [
    {
     "name": "stdout",
     "output_type": "stream",
     "text": [
      "do_you_have_a_family_history_of_mental_illness ['No' 'Yes' \"I don't know\"]\n",
      "was_your_anonymity_protected_if_you_chose_to_take_advantage_of_mental_health_or_substance_abuse_treatment_resources_with_previous_employers [\"I don't know\" 'Yes, always' 'Sometimes' 'No' nan]\n",
      "what_is_your_age [ 39.  29.  38.  43.  42.  30.  37.  44.  28.  34.  35.  52.  32.  25.\n",
      "  31.  26.  33.  27.  36.  40.  46.  41.  45.  19.  21.  24.  17.  23.\n",
      "  22.  51.  48.  55.  50.  49.  20.  54.  47.  56.  57.  63.  99.  61.\n",
      " 323.  62.  53.  58.   3.  66.  59.  15.  65.  74.  70.  18.  64.  60.\n",
      "  67.  nan]\n",
      "did_your_previous_employers_ever_formally_discuss_mental_health_as_part_of_a_wellness_campaign_or_other_official_communication [\"I don't know\" 'None did' 'Some did' nan 'Yes, they all did']\n",
      "how_many_employees_does_your_company_or_organization_have ['26-100' '6-25' nan 'More than 1000' '100-500' '500-1000' '1-5']\n",
      "is_your_anonymity_protected_if_you_choose_to_take_advantage_of_mental_health_or_substance_abuse_treatment_resources_provided_by_your_employer [\"I don't know\" 'Yes' nan 'No']\n",
      "do_you_believe_your_productivity_is_ever_affected_by_a_mental_health_issue [nan 'Yes' 'Not applicable to me' 'No' 'Unsure']\n",
      "is_your_primary_role_within_your_company_related_to_tech_it [nan  1.  0.]\n",
      "do_you_currently_have_a_mental_health_disorder ['No' 'Yes' 'Maybe' 'Possibly' \"Don't Know\"]\n",
      "have_you_had_a_mental_health_disorder_in_the_past ['Yes' 'Maybe' 'No' 'Possibly' nan \"Don't Know\"]\n",
      "is_your_employer_primarily_a_tech_company_organization [ 1. nan  0.]\n",
      "if_yes_what_percentage_of_your_work_time_time_performing_primary_or_secondary_job_functions_is_affected_by_a_mental_health_issue [nan '1-25%' '76-100%' '26-50%' '51-75%']\n",
      "what_is_your_gender ['Male' 'male' 'Male ' 'Female' 'M' 'female' 'm' 'I identify as female.'\n",
      " 'female ' 'Bigender' 'non-binary' 'Female assigned at birth ' 'F' 'Woman'\n",
      " 'man' 'fm' 'f' 'Cis female ' 'Transitioned, M2F'\n",
      " 'Genderfluid (born female)' 'Other/Transfeminine'\n",
      " 'Female or Multi-Gender Femme' 'Female ' 'woman' 'female/woman'\n",
      " 'Cis male' 'Male.' 'Androgynous' 'male 9:1 female, roughly' nan\n",
      " 'Male (cis)' 'Other' 'nb masculine' 'Cisgender Female' 'Man'\n",
      " 'Sex is male' 'none of your business' 'genderqueer' 'cis male' 'Human'\n",
      " 'Genderfluid' 'Enby' 'Malr' 'genderqueer woman' 'mtf' 'Queer' 'Agender'\n",
      " 'Dude' 'Fluid'\n",
      " \"I'm a man why didn't you make this a drop down question. You should of asked sex? And I would of answered yes please. Seriously how much text can this take? \"\n",
      " 'mail' 'M|' 'Male/genderqueer' 'fem' 'Nonbinary' 'male ' 'human'\n",
      " 'Female (props for making this a freeform field, though)' ' Female'\n",
      " 'Unicorn' 'Cis Male' 'Male (trans, FtM)' 'Cis-woman' 'Genderqueer'\n",
      " 'cisdude' 'Genderflux demi-girl'\n",
      " 'female-bodied; no feelings about gender' 'cis man' 'AFAB'\n",
      " 'Transgender woman' 'MALE' 'cis-male' 'Mail' 'male/androgynous '\n",
      " 'cis hetero male' 'femalw' 'femail' 'uhhhhhhhhh fem genderqueer?'\n",
      " \"male (hey this is the tech industry you're talking about)\"\n",
      " 'female (cis)' 'God King of the Valajar' 'My sex is female.' 'Cis-male'\n",
      " 'Non-binary' 'Male, cis' 'cis male ' 'Agender/genderfluid' 'Male-ish'\n",
      " 'sometimes' 'female (cisgender)' 'Female (cis) ' 'Woman-identified'\n",
      " 'Contextual' 'Non binary' 'Genderqueer demigirl' 'Genderqueer/non-binary'\n",
      " 'cis-Female' 'cis female' 'nonbinary' 'F, cisgender' 'Female-ish' '\\\\-'\n",
      " 'trans woman' 'Transfeminine' 'None' 'dude' 'Ostensibly Male'\n",
      " 'male, born with xy chromosoms' 'Malel' 'I identify as female'\n",
      " '*shrug emoji* (F)' 'Male (or female, or both)' 'Trans man' 'transgender'\n",
      " 'non binary' 'Female/gender non-binary.' 'Cis woman' 'Female (cisgender)'\n",
      " 'Cis-Female' 'Cisgendered woman' 'Trans woman' 'genderfluid' 'Demiguy'\n",
      " 'none' 'Trans female' 'Cisgender male' 'She/her/they/them' 'SWM'\n",
      " 'cisgender female' 'NB' 'Nonbinary/femme' 'gender non-conforming woman']\n",
      "would_you_be_willing_to_bring_up_a_physical_health_issue_with_a_potential_employer_in_an_interview ['Maybe' 'Yes' 'No']\n",
      "has_your_employer_ever_formally_discussed_mental_health_for_example_as_part_of_a_wellness_campaign_or_other_official_communication ['No' 'Yes' nan \"I don't know\"]\n",
      "how_willing_would_you_be_to_share_with_friends_and_family_that_you_have_a_mental_illness ['Somewhat open' 'Neutral'\n",
      " 'Not applicable to me (I do not have a mental illness)' 'Very open'\n",
      " 'Not open at all' 'Somewhat not open' 5 4 10 8 3 6 2 9 7 1 0]\n"
     ]
    },
    {
     "data": {
      "application/javascript": [
       "\n",
       "            setTimeout(function() {\n",
       "                var nbb_cell_id = 7;\n",
       "                var nbb_unformatted_code = \"# prints the unique values of each column\\nfor col in all_df.columns:\\n    print(col, all_df[col].unique())\";\n",
       "                var nbb_formatted_code = \"# prints the unique values of each column\\nfor col in all_df.columns:\\n    print(col, all_df[col].unique())\";\n",
       "                var nbb_cells = Jupyter.notebook.get_cells();\n",
       "                for (var i = 0; i < nbb_cells.length; ++i) {\n",
       "                    if (nbb_cells[i].input_prompt_number == nbb_cell_id) {\n",
       "                        if (nbb_cells[i].get_text() == nbb_unformatted_code) {\n",
       "                             nbb_cells[i].set_text(nbb_formatted_code);\n",
       "                        }\n",
       "                        break;\n",
       "                    }\n",
       "                }\n",
       "            }, 500);\n",
       "            "
      ],
      "text/plain": [
       "<IPython.core.display.Javascript object>"
      ]
     },
     "metadata": {},
     "output_type": "display_data"
    }
   ],
   "source": [
    "# prints the unique values of each column\n",
    "for col in all_df.columns:\n",
    "    print(col, all_df[col].unique())"
   ]
  },
  {
   "cell_type": "code",
   "execution_count": 8,
   "metadata": {},
   "outputs": [
    {
     "data": {
      "application/javascript": [
       "\n",
       "            setTimeout(function() {\n",
       "                var nbb_cell_id = 8;\n",
       "                var nbb_unformatted_code = \"# A dictionary used to map drop down responses to numeric values which can then be normalized\\nresp_dict = {\\n    \\\"Very open\\\": 10,\\n    \\\"Somewhat open\\\": 8,\\n    \\\"Neutral\\\": 5,\\n    \\\"Somewhat not open\\\": 2,\\n    \\\"Yes, always\\\": 2,\\n    \\\"Yes, they all did\\\": 2,\\n    \\\"Sometimes\\\": 1,\\n    \\\"Yes\\\": 1,\\n    \\\"Some did\\\": 1,\\n    \\\"Not open at all\\\": 0,\\n    \\\"Unsure\\\": 0,\\n    \\\"Not applicable to me\\\": 0,\\n    \\\"I don't know\\\": 0,\\n    \\\"Don't Know\\\": 0,\\n    \\\"Possibly\\\": 0,\\n    \\\"Maybe\\\": 0,\\n    \\\"No\\\": -1,\\n    \\\"None did\\\": -1,\\n    \\\"1-25%\\\": \\\"q1\\\",\\n    \\\"26-50%\\\": \\\"q2\\\",\\n    \\\"51-75%\\\": \\\"q3\\\",\\n    \\\"76-100%\\\": \\\"q4\\\",\\n}\\n\\n# A list of numeric keys from dict_quest which corrispond to dropdown response questions to be mapped to numeric values\\nnorm_cols = [\\n    \\\"if_yes_what_percentage_of_your_work_time_time_performing_primary_or_secondary_job_functions_is_affected_by_a_mental_health_issue\\\",\\n    \\\"did_your_previous_employers_ever_formally_discuss_mental_health_as_part_of_a_wellness_campaign_or_other_official_communication\\\",\\n    \\\"have_you_had_a_mental_health_disorder_in_the_past\\\",\\n    \\\"how_willing_would_you_be_to_share_with_friends_and_family_that_you_have_a_mental_illness\\\",\\n    \\\"is_your_anonymity_protected_if_you_choose_to_take_advantage_of_mental_health_or_substance_abuse_treatment_resources_provided_by_your_employer\\\",\\n    \\\"was_your_anonymity_protected_if_you_chose_to_take_advantage_of_mental_health_or_substance_abuse_treatment_resources_with_previous_employers\\\",\\n    \\\"has_your_employer_ever_formally_discussed_mental_health_for_example_as_part_of_a_wellness_campaign_or_other_official_communication\\\",\\n    \\\"do_you_have_a_family_history_of_mental_illness\\\",\\n    \\\"do_you_currently_have_a_mental_health_disorder\\\",\\n    \\\"do_you_believe_your_productivity_is_ever_affected_by_a_mental_health_issue\\\",\\n]\\n\\n# Maps each column in quest_norm to numerics\\nfor col in norm_cols:\\n    all_df[col] = all_df[col].map(resp_dict)\";\n",
       "                var nbb_formatted_code = \"# A dictionary used to map drop down responses to numeric values which can then be normalized\\nresp_dict = {\\n    \\\"Very open\\\": 10,\\n    \\\"Somewhat open\\\": 8,\\n    \\\"Neutral\\\": 5,\\n    \\\"Somewhat not open\\\": 2,\\n    \\\"Yes, always\\\": 2,\\n    \\\"Yes, they all did\\\": 2,\\n    \\\"Sometimes\\\": 1,\\n    \\\"Yes\\\": 1,\\n    \\\"Some did\\\": 1,\\n    \\\"Not open at all\\\": 0,\\n    \\\"Unsure\\\": 0,\\n    \\\"Not applicable to me\\\": 0,\\n    \\\"I don't know\\\": 0,\\n    \\\"Don't Know\\\": 0,\\n    \\\"Possibly\\\": 0,\\n    \\\"Maybe\\\": 0,\\n    \\\"No\\\": -1,\\n    \\\"None did\\\": -1,\\n    \\\"1-25%\\\": \\\"q1\\\",\\n    \\\"26-50%\\\": \\\"q2\\\",\\n    \\\"51-75%\\\": \\\"q3\\\",\\n    \\\"76-100%\\\": \\\"q4\\\",\\n}\\n\\n# A list of numeric keys from dict_quest which corrispond to dropdown response questions to be mapped to numeric values\\nnorm_cols = [\\n    \\\"if_yes_what_percentage_of_your_work_time_time_performing_primary_or_secondary_job_functions_is_affected_by_a_mental_health_issue\\\",\\n    \\\"did_your_previous_employers_ever_formally_discuss_mental_health_as_part_of_a_wellness_campaign_or_other_official_communication\\\",\\n    \\\"have_you_had_a_mental_health_disorder_in_the_past\\\",\\n    \\\"how_willing_would_you_be_to_share_with_friends_and_family_that_you_have_a_mental_illness\\\",\\n    \\\"is_your_anonymity_protected_if_you_choose_to_take_advantage_of_mental_health_or_substance_abuse_treatment_resources_provided_by_your_employer\\\",\\n    \\\"was_your_anonymity_protected_if_you_chose_to_take_advantage_of_mental_health_or_substance_abuse_treatment_resources_with_previous_employers\\\",\\n    \\\"has_your_employer_ever_formally_discussed_mental_health_for_example_as_part_of_a_wellness_campaign_or_other_official_communication\\\",\\n    \\\"do_you_have_a_family_history_of_mental_illness\\\",\\n    \\\"do_you_currently_have_a_mental_health_disorder\\\",\\n    \\\"do_you_believe_your_productivity_is_ever_affected_by_a_mental_health_issue\\\",\\n]\\n\\n# Maps each column in quest_norm to numerics\\nfor col in norm_cols:\\n    all_df[col] = all_df[col].map(resp_dict)\";\n",
       "                var nbb_cells = Jupyter.notebook.get_cells();\n",
       "                for (var i = 0; i < nbb_cells.length; ++i) {\n",
       "                    if (nbb_cells[i].input_prompt_number == nbb_cell_id) {\n",
       "                        if (nbb_cells[i].get_text() == nbb_unformatted_code) {\n",
       "                             nbb_cells[i].set_text(nbb_formatted_code);\n",
       "                        }\n",
       "                        break;\n",
       "                    }\n",
       "                }\n",
       "            }, 500);\n",
       "            "
      ],
      "text/plain": [
       "<IPython.core.display.Javascript object>"
      ]
     },
     "metadata": {},
     "output_type": "display_data"
    }
   ],
   "source": [
    "# A dictionary used to map drop down responses to numeric values which can then be normalized\n",
    "resp_dict = {\n",
    "    \"Very open\": 10,\n",
    "    \"Somewhat open\": 8,\n",
    "    \"Neutral\": 5,\n",
    "    \"Somewhat not open\": 2,\n",
    "    \"Yes, always\": 2,\n",
    "    \"Yes, they all did\": 2,\n",
    "    \"Sometimes\": 1,\n",
    "    \"Yes\": 1,\n",
    "    \"Some did\": 1,\n",
    "    \"Not open at all\": 0,\n",
    "    \"Unsure\": 0,\n",
    "    \"Not applicable to me\": 0,\n",
    "    \"I don't know\": 0,\n",
    "    \"Don't Know\": 0,\n",
    "    \"Possibly\": 0,\n",
    "    \"Maybe\": 0,\n",
    "    \"No\": -1,\n",
    "    \"None did\": -1,\n",
    "    \"1-25%\": \"q1\",\n",
    "    \"26-50%\": \"q2\",\n",
    "    \"51-75%\": \"q3\",\n",
    "    \"76-100%\": \"q4\",\n",
    "}\n",
    "\n",
    "# A list of numeric keys from dict_quest which corrispond to dropdown response questions to be mapped to numeric values\n",
    "norm_cols = [\n",
    "    \"if_yes_what_percentage_of_your_work_time_time_performing_primary_or_secondary_job_functions_is_affected_by_a_mental_health_issue\",\n",
    "    \"did_your_previous_employers_ever_formally_discuss_mental_health_as_part_of_a_wellness_campaign_or_other_official_communication\",\n",
    "    \"have_you_had_a_mental_health_disorder_in_the_past\",\n",
    "    \"how_willing_would_you_be_to_share_with_friends_and_family_that_you_have_a_mental_illness\",\n",
    "    \"is_your_anonymity_protected_if_you_choose_to_take_advantage_of_mental_health_or_substance_abuse_treatment_resources_provided_by_your_employer\",\n",
    "    \"was_your_anonymity_protected_if_you_chose_to_take_advantage_of_mental_health_or_substance_abuse_treatment_resources_with_previous_employers\",\n",
    "    \"has_your_employer_ever_formally_discussed_mental_health_for_example_as_part_of_a_wellness_campaign_or_other_official_communication\",\n",
    "    \"do_you_have_a_family_history_of_mental_illness\",\n",
    "    \"do_you_currently_have_a_mental_health_disorder\",\n",
    "    \"do_you_believe_your_productivity_is_ever_affected_by_a_mental_health_issue\",\n",
    "]\n",
    "\n",
    "# Maps each column in quest_norm to numerics\n",
    "for col in norm_cols:\n",
    "    all_df[col] = all_df[col].map(resp_dict)"
   ]
  },
  {
   "cell_type": "code",
   "execution_count": 9,
   "metadata": {},
   "outputs": [
    {
     "data": {
      "application/javascript": [
       "\n",
       "            setTimeout(function() {\n",
       "                var nbb_cell_id = 9;\n",
       "                var nbb_unformatted_code = \"# Cleans the text responses to question 8 \\\"what is your gender\\\"\\nall_df[\\\"what_is_your_gender\\\"] = column_cleaner(all_df[\\\"what_is_your_gender\\\"])\\n\\n# Creates a dictionary which maps the most common (binary) responses (mostly frequent text fillable typos) to \\\"what is your gender\\\"\\nm_list = [\\n    \\\"male\\\",\\n    \\\"m\\\",\\n    \\\"man\\\",\\n    \\\"cis_male\\\",\\n    \\\"male_cis\\\",\\n    \\\"sex_is_male\\\",\\n    \\\"malr\\\",\\n    \\\"dude\\\",\\n    \\\"mail\\\",\\n    \\\"male_trans_ftm\\\",\\n    \\\"cisdude\\\",\\n    \\\"m|\\\",\\n    \\\"cis_man\\\",\\n    \\\"male_androgynous\\\",\\n    \\\"cis_hetero_male\\\",\\n    \\\"male_ish\\\",\\n    \\\"ostensibly_male\\\",\\n    \\\"male_born_with_xy_chromosoms\\\",\\n    \\\"malel\\\",\\n    \\\"trans_man\\\",\\n    \\\"cisgender_male\\\",\\n]\\nf_list = [\\n    \\\"female\\\",\\n    \\\"i_identify_as_female\\\",\\n    \\\"female_assigned_at_birth\\\",\\n    \\\"f\\\",\\n    \\\"woman\\\",\\n    \\\"fm\\\",\\n    \\\"cis_female\\\",\\n    \\\"transitioned_m_f\\\",\\n    \\\"female_woman\\\",\\n    \\\"cisgender_female\\\",\\n    \\\"mtf\\\",\\n    \\\"fem\\\",\\n    \\\"cis_woman\\\",\\n    \\\"transgender_woman\\\",\\n    \\\"femalw\\\",\\n    \\\"femail\\\",\\n    \\\"female_cis\\\",\\n    \\\"my_sex_is_female\\\",\\n    \\\"female_cisgender\\\",\\n    \\\"woman_identified\\\",\\n    \\\"f_cisgender\\\",\\n    \\\"female_ish\\\",\\n    \\\"trans_woman\\\",\\n    \\\"transfeminine\\\",\\n    \\\"female_gender_non_binary\\\",\\n    \\\"cisgendered_woman\\\",\\n    \\\"trans_female\\\",\\n    \\\"gender_non_conforming_woman\\\",\\n]\";\n",
       "                var nbb_formatted_code = \"# Cleans the text responses to question 8 \\\"what is your gender\\\"\\nall_df[\\\"what_is_your_gender\\\"] = column_cleaner(all_df[\\\"what_is_your_gender\\\"])\\n\\n# Creates a dictionary which maps the most common (binary) responses (mostly frequent text fillable typos) to \\\"what is your gender\\\"\\nm_list = [\\n    \\\"male\\\",\\n    \\\"m\\\",\\n    \\\"man\\\",\\n    \\\"cis_male\\\",\\n    \\\"male_cis\\\",\\n    \\\"sex_is_male\\\",\\n    \\\"malr\\\",\\n    \\\"dude\\\",\\n    \\\"mail\\\",\\n    \\\"male_trans_ftm\\\",\\n    \\\"cisdude\\\",\\n    \\\"m|\\\",\\n    \\\"cis_man\\\",\\n    \\\"male_androgynous\\\",\\n    \\\"cis_hetero_male\\\",\\n    \\\"male_ish\\\",\\n    \\\"ostensibly_male\\\",\\n    \\\"male_born_with_xy_chromosoms\\\",\\n    \\\"malel\\\",\\n    \\\"trans_man\\\",\\n    \\\"cisgender_male\\\",\\n]\\nf_list = [\\n    \\\"female\\\",\\n    \\\"i_identify_as_female\\\",\\n    \\\"female_assigned_at_birth\\\",\\n    \\\"f\\\",\\n    \\\"woman\\\",\\n    \\\"fm\\\",\\n    \\\"cis_female\\\",\\n    \\\"transitioned_m_f\\\",\\n    \\\"female_woman\\\",\\n    \\\"cisgender_female\\\",\\n    \\\"mtf\\\",\\n    \\\"fem\\\",\\n    \\\"cis_woman\\\",\\n    \\\"transgender_woman\\\",\\n    \\\"femalw\\\",\\n    \\\"femail\\\",\\n    \\\"female_cis\\\",\\n    \\\"my_sex_is_female\\\",\\n    \\\"female_cisgender\\\",\\n    \\\"woman_identified\\\",\\n    \\\"f_cisgender\\\",\\n    \\\"female_ish\\\",\\n    \\\"trans_woman\\\",\\n    \\\"transfeminine\\\",\\n    \\\"female_gender_non_binary\\\",\\n    \\\"cisgendered_woman\\\",\\n    \\\"trans_female\\\",\\n    \\\"gender_non_conforming_woman\\\",\\n]\";\n",
       "                var nbb_cells = Jupyter.notebook.get_cells();\n",
       "                for (var i = 0; i < nbb_cells.length; ++i) {\n",
       "                    if (nbb_cells[i].input_prompt_number == nbb_cell_id) {\n",
       "                        if (nbb_cells[i].get_text() == nbb_unformatted_code) {\n",
       "                             nbb_cells[i].set_text(nbb_formatted_code);\n",
       "                        }\n",
       "                        break;\n",
       "                    }\n",
       "                }\n",
       "            }, 500);\n",
       "            "
      ],
      "text/plain": [
       "<IPython.core.display.Javascript object>"
      ]
     },
     "metadata": {},
     "output_type": "display_data"
    }
   ],
   "source": [
    "# Cleans the text responses to question 8 \"what is your gender\"\n",
    "all_df[\"what_is_your_gender\"] = column_cleaner(all_df[\"what_is_your_gender\"])\n",
    "\n",
    "# Creates a dictionary which maps the most common (binary) responses (mostly frequent text fillable typos) to \"what is your gender\"\n",
    "m_list = [\n",
    "    \"male\",\n",
    "    \"m\",\n",
    "    \"man\",\n",
    "    \"cis_male\",\n",
    "    \"male_cis\",\n",
    "    \"sex_is_male\",\n",
    "    \"malr\",\n",
    "    \"dude\",\n",
    "    \"mail\",\n",
    "    \"male_trans_ftm\",\n",
    "    \"cisdude\",\n",
    "    \"m|\",\n",
    "    \"cis_man\",\n",
    "    \"male_androgynous\",\n",
    "    \"cis_hetero_male\",\n",
    "    \"male_ish\",\n",
    "    \"ostensibly_male\",\n",
    "    \"male_born_with_xy_chromosoms\",\n",
    "    \"malel\",\n",
    "    \"trans_man\",\n",
    "    \"cisgender_male\",\n",
    "]\n",
    "f_list = [\n",
    "    \"female\",\n",
    "    \"i_identify_as_female\",\n",
    "    \"female_assigned_at_birth\",\n",
    "    \"f\",\n",
    "    \"woman\",\n",
    "    \"fm\",\n",
    "    \"cis_female\",\n",
    "    \"transitioned_m_f\",\n",
    "    \"female_woman\",\n",
    "    \"cisgender_female\",\n",
    "    \"mtf\",\n",
    "    \"fem\",\n",
    "    \"cis_woman\",\n",
    "    \"transgender_woman\",\n",
    "    \"femalw\",\n",
    "    \"femail\",\n",
    "    \"female_cis\",\n",
    "    \"my_sex_is_female\",\n",
    "    \"female_cisgender\",\n",
    "    \"woman_identified\",\n",
    "    \"f_cisgender\",\n",
    "    \"female_ish\",\n",
    "    \"trans_woman\",\n",
    "    \"transfeminine\",\n",
    "    \"female_gender_non_binary\",\n",
    "    \"cisgendered_woman\",\n",
    "    \"trans_female\",\n",
    "    \"gender_non_conforming_woman\",\n",
    "]\n",
    "\n"
   ]
  },
  {
   "cell_type": "code",
   "execution_count": 10,
   "metadata": {},
   "outputs": [
    {
     "data": {
      "application/javascript": [
       "\n",
       "            setTimeout(function() {\n",
       "                var nbb_cell_id = 10;\n",
       "                var nbb_unformatted_code = \"# Creates a dictionary from m_list and f_list with response keys and either m or f as values\\nsex_dict = {**dict.fromkeys(m_list, \\\"m\\\"), **dict.fromkeys(f_list, \\\"f\\\")}\\n\\n# Creates a new column 'sex' with catagories [m,f,o]\\nall_df[\\\"sex\\\"] = all_df[\\\"what_is_your_gender\\\"].map(sex_dict)\\n\\n# Joins to all_df a one hot encoding of 'sex'. Note 'sex' = other is encoded as 'm' = 0, 'f' = 0\\n# This includes all responses not found in sex_dict which represent <5% of responses\\nall_df = all_df.join(pd.get_dummies(all_df[\\\"sex\\\"]))\";\n",
       "                var nbb_formatted_code = \"# Creates a dictionary from m_list and f_list with response keys and either m or f as values\\nsex_dict = {**dict.fromkeys(m_list, \\\"m\\\"), **dict.fromkeys(f_list, \\\"f\\\")}\\n\\n# Creates a new column 'sex' with catagories [m,f,o]\\nall_df[\\\"sex\\\"] = all_df[\\\"what_is_your_gender\\\"].map(sex_dict)\\n\\n# Joins to all_df a one hot encoding of 'sex'. Note 'sex' = other is encoded as 'm' = 0, 'f' = 0\\n# This includes all responses not found in sex_dict which represent <5% of responses\\nall_df = all_df.join(pd.get_dummies(all_df[\\\"sex\\\"]))\";\n",
       "                var nbb_cells = Jupyter.notebook.get_cells();\n",
       "                for (var i = 0; i < nbb_cells.length; ++i) {\n",
       "                    if (nbb_cells[i].input_prompt_number == nbb_cell_id) {\n",
       "                        if (nbb_cells[i].get_text() == nbb_unformatted_code) {\n",
       "                             nbb_cells[i].set_text(nbb_formatted_code);\n",
       "                        }\n",
       "                        break;\n",
       "                    }\n",
       "                }\n",
       "            }, 500);\n",
       "            "
      ],
      "text/plain": [
       "<IPython.core.display.Javascript object>"
      ]
     },
     "metadata": {},
     "output_type": "display_data"
    }
   ],
   "source": [
    "# Creates a dictionary from m_list and f_list with response keys and either m or f as values\n",
    "sex_dict = {**dict.fromkeys(m_list, \"m\"), **dict.fromkeys(f_list, \"f\")}\n",
    "\n",
    "# Creates a new column 'sex' with catagories [m,f,o]\n",
    "all_df[\"sex\"] = all_df[\"what_is_your_gender\"].map(sex_dict)\n",
    "\n",
    "# Joins to all_df a one hot encoding of 'sex'. Note 'sex' = other is encoded as 'm' = 0, 'f' = 0\n",
    "# This includes all responses not found in sex_dict which represent <5% of responses\n",
    "all_df = all_df.join(pd.get_dummies(all_df[\"sex\"]))"
   ]
  },
  {
   "cell_type": "code",
   "execution_count": 11,
   "metadata": {},
   "outputs": [
    {
     "data": {
      "text/html": [
       "<div>\n",
       "<style scoped>\n",
       "    .dataframe tbody tr th:only-of-type {\n",
       "        vertical-align: middle;\n",
       "    }\n",
       "\n",
       "    .dataframe tbody tr th {\n",
       "        vertical-align: top;\n",
       "    }\n",
       "\n",
       "    .dataframe thead th {\n",
       "        text-align: right;\n",
       "    }\n",
       "</style>\n",
       "<table border=\"1\" class=\"dataframe\">\n",
       "  <thead>\n",
       "    <tr style=\"text-align: right;\">\n",
       "      <th></th>\n",
       "      <th></th>\n",
       "      <th>what_is_your_age</th>\n",
       "      <th>do_you_believe_your_productivity_is_ever_affected_by_a_mental_health_issue</th>\n",
       "      <th>if_yes_what_percentage_of_your_work_time_time_performing_primary_or_secondary_job_functions_is_affected_by_a_mental_health_issue</th>\n",
       "    </tr>\n",
       "    <tr>\n",
       "      <th>do_you_currently_have_a_mental_health_disorder</th>\n",
       "      <th>have_you_had_a_mental_health_disorder_in_the_past</th>\n",
       "      <th></th>\n",
       "      <th></th>\n",
       "      <th></th>\n",
       "    </tr>\n",
       "  </thead>\n",
       "  <tbody>\n",
       "    <tr>\n",
       "      <th rowspan=\"3\" valign=\"top\">-1</th>\n",
       "      <th>-1</th>\n",
       "      <td>607</td>\n",
       "      <td>514</td>\n",
       "      <td>583</td>\n",
       "    </tr>\n",
       "    <tr>\n",
       "      <th>0</th>\n",
       "      <td>113</td>\n",
       "      <td>90</td>\n",
       "      <td>101</td>\n",
       "    </tr>\n",
       "    <tr>\n",
       "      <th>1</th>\n",
       "      <td>145</td>\n",
       "      <td>121</td>\n",
       "      <td>127</td>\n",
       "    </tr>\n",
       "    <tr>\n",
       "      <th rowspan=\"3\" valign=\"top\">0</th>\n",
       "      <th>-1</th>\n",
       "      <td>129</td>\n",
       "      <td>108</td>\n",
       "      <td>115</td>\n",
       "    </tr>\n",
       "    <tr>\n",
       "      <th>0</th>\n",
       "      <td>330</td>\n",
       "      <td>268</td>\n",
       "      <td>281</td>\n",
       "    </tr>\n",
       "    <tr>\n",
       "      <th>1</th>\n",
       "      <td>192</td>\n",
       "      <td>156</td>\n",
       "      <td>159</td>\n",
       "    </tr>\n",
       "    <tr>\n",
       "      <th rowspan=\"3\" valign=\"top\">1</th>\n",
       "      <th>-1</th>\n",
       "      <td>53</td>\n",
       "      <td>49</td>\n",
       "      <td>50</td>\n",
       "    </tr>\n",
       "    <tr>\n",
       "      <th>0</th>\n",
       "      <td>91</td>\n",
       "      <td>74</td>\n",
       "      <td>75</td>\n",
       "    </tr>\n",
       "    <tr>\n",
       "      <th>1</th>\n",
       "      <td>934</td>\n",
       "      <td>761</td>\n",
       "      <td>776</td>\n",
       "    </tr>\n",
       "  </tbody>\n",
       "</table>\n",
       "</div>"
      ],
      "text/plain": [
       "                                                                                                  what_is_your_age  \\\n",
       "do_you_currently_have_a_mental_health_disorder have_you_had_a_mental_health_disorder_in_the_past                     \n",
       "-1                                             -1                                                              607   \n",
       "                                                0                                                              113   \n",
       "                                                1                                                              145   \n",
       " 0                                             -1                                                              129   \n",
       "                                                0                                                              330   \n",
       "                                                1                                                              192   \n",
       " 1                                             -1                                                               53   \n",
       "                                                0                                                               91   \n",
       "                                                1                                                              934   \n",
       "\n",
       "                                                                                                  do_you_believe_your_productivity_is_ever_affected_by_a_mental_health_issue  \\\n",
       "do_you_currently_have_a_mental_health_disorder have_you_had_a_mental_health_disorder_in_the_past                                                                               \n",
       "-1                                             -1                                                                                               514                            \n",
       "                                                0                                                                                                90                            \n",
       "                                                1                                                                                               121                            \n",
       " 0                                             -1                                                                                               108                            \n",
       "                                                0                                                                                               268                            \n",
       "                                                1                                                                                               156                            \n",
       " 1                                             -1                                                                                                49                            \n",
       "                                                0                                                                                                74                            \n",
       "                                                1                                                                                               761                            \n",
       "\n",
       "                                                                                                  if_yes_what_percentage_of_your_work_time_time_performing_primary_or_secondary_job_functions_is_affected_by_a_mental_health_issue  \n",
       "do_you_currently_have_a_mental_health_disorder have_you_had_a_mental_health_disorder_in_the_past                                                                                                                                    \n",
       "-1                                             -1                                                                                               583                                                                                 \n",
       "                                                0                                                                                               101                                                                                 \n",
       "                                                1                                                                                               127                                                                                 \n",
       " 0                                             -1                                                                                               115                                                                                 \n",
       "                                                0                                                                                               281                                                                                 \n",
       "                                                1                                                                                               159                                                                                 \n",
       " 1                                             -1                                                                                                50                                                                                 \n",
       "                                                0                                                                                                75                                                                                 \n",
       "                                                1                                                                                               776                                                                                 "
      ]
     },
     "execution_count": 11,
     "metadata": {},
     "output_type": "execute_result"
    },
    {
     "data": {
      "application/javascript": [
       "\n",
       "            setTimeout(function() {\n",
       "                var nbb_cell_id = 11;\n",
       "                var nbb_unformatted_code = \"all_df.groupby(\\n    [\\n        \\\"do_you_currently_have_a_mental_health_disorder\\\",\\n        \\\"have_you_had_a_mental_health_disorder_in_the_past\\\",\\n    ]\\n).agg(\\n    {\\n        \\\"what_is_your_age\\\": \\\"size\\\",\\n        \\\"do_you_believe_your_productivity_is_ever_affected_by_a_mental_health_issue\\\": lambda x: x.isnull().sum(),\\n        \\\"if_yes_what_percentage_of_your_work_time_time_performing_primary_or_secondary_job_functions_is_affected_by_a_mental_health_issue\\\": lambda x: x.isnull().sum(),\\n    }\\n)\";\n",
       "                var nbb_formatted_code = \"all_df.groupby(\\n    [\\n        \\\"do_you_currently_have_a_mental_health_disorder\\\",\\n        \\\"have_you_had_a_mental_health_disorder_in_the_past\\\",\\n    ]\\n).agg(\\n    {\\n        \\\"what_is_your_age\\\": \\\"size\\\",\\n        \\\"do_you_believe_your_productivity_is_ever_affected_by_a_mental_health_issue\\\": lambda x: x.isnull().sum(),\\n        \\\"if_yes_what_percentage_of_your_work_time_time_performing_primary_or_secondary_job_functions_is_affected_by_a_mental_health_issue\\\": lambda x: x.isnull().sum(),\\n    }\\n)\";\n",
       "                var nbb_cells = Jupyter.notebook.get_cells();\n",
       "                for (var i = 0; i < nbb_cells.length; ++i) {\n",
       "                    if (nbb_cells[i].input_prompt_number == nbb_cell_id) {\n",
       "                        if (nbb_cells[i].get_text() == nbb_unformatted_code) {\n",
       "                             nbb_cells[i].set_text(nbb_formatted_code);\n",
       "                        }\n",
       "                        break;\n",
       "                    }\n",
       "                }\n",
       "            }, 500);\n",
       "            "
      ],
      "text/plain": [
       "<IPython.core.display.Javascript object>"
      ]
     },
     "metadata": {},
     "output_type": "display_data"
    }
   ],
   "source": [
    "all_df.groupby(\n",
    "    [\n",
    "        \"do_you_currently_have_a_mental_health_disorder\",\n",
    "        \"have_you_had_a_mental_health_disorder_in_the_past\",\n",
    "    ]\n",
    ").agg(\n",
    "    {\n",
    "        \"what_is_your_age\": \"size\",\n",
    "        \"do_you_believe_your_productivity_is_ever_affected_by_a_mental_health_issue\": lambda x: x.isnull().sum(),\n",
    "        \"if_yes_what_percentage_of_your_work_time_time_performing_primary_or_secondary_job_functions_is_affected_by_a_mental_health_issue\": lambda x: x.isnull().sum(),\n",
    "    }\n",
    ")"
   ]
  },
  {
   "cell_type": "code",
   "execution_count": 12,
   "metadata": {},
   "outputs": [
    {
     "data": {
      "application/javascript": [
       "\n",
       "            setTimeout(function() {\n",
       "                var nbb_cell_id = 12;\n",
       "                var nbb_unformatted_code = \"# Adds lable 'o' (other) to 'sex'\\nall_df[\\\"sex\\\"].fillna(\\\"o\\\", inplace=True)\\n\\n# One Hot Encodes Percentage of work time affected by mental health\\n\\nall_df = all_df.join(\\n    pd.DataFrame(\\n        pd.get_dummies(\\n            all_df[\\n                \\\"if_yes_what_percentage_of_your_work_time_time_performing_primary_or_secondary_job_functions_is_affected_by_a_mental_health_issue\\\"\\n            ]\\n        ),\\n        columns=[\\\"q1\\\", \\\"q2\\\", \\\"q3\\\", \\\"q4\\\"],\\n    )\\n)\";\n",
       "                var nbb_formatted_code = \"# Adds lable 'o' (other) to 'sex'\\nall_df[\\\"sex\\\"].fillna(\\\"o\\\", inplace=True)\\n\\n# One Hot Encodes Percentage of work time affected by mental health\\n\\nall_df = all_df.join(\\n    pd.DataFrame(\\n        pd.get_dummies(\\n            all_df[\\n                \\\"if_yes_what_percentage_of_your_work_time_time_performing_primary_or_secondary_job_functions_is_affected_by_a_mental_health_issue\\\"\\n            ]\\n        ),\\n        columns=[\\\"q1\\\", \\\"q2\\\", \\\"q3\\\", \\\"q4\\\"],\\n    )\\n)\";\n",
       "                var nbb_cells = Jupyter.notebook.get_cells();\n",
       "                for (var i = 0; i < nbb_cells.length; ++i) {\n",
       "                    if (nbb_cells[i].input_prompt_number == nbb_cell_id) {\n",
       "                        if (nbb_cells[i].get_text() == nbb_unformatted_code) {\n",
       "                             nbb_cells[i].set_text(nbb_formatted_code);\n",
       "                        }\n",
       "                        break;\n",
       "                    }\n",
       "                }\n",
       "            }, 500);\n",
       "            "
      ],
      "text/plain": [
       "<IPython.core.display.Javascript object>"
      ]
     },
     "metadata": {},
     "output_type": "display_data"
    }
   ],
   "source": [
    "# Adds lable 'o' (other) to 'sex'\n",
    "all_df[\"sex\"].fillna(\"o\", inplace=True)\n",
    "\n",
    "# One Hot Encodes Percentage of work time affected by mental health\n",
    "\n",
    "all_df = all_df.join(\n",
    "    pd.DataFrame(\n",
    "        pd.get_dummies(\n",
    "            all_df[\n",
    "                \"if_yes_what_percentage_of_your_work_time_time_performing_primary_or_secondary_job_functions_is_affected_by_a_mental_health_issue\"\n",
    "            ]\n",
    "        ),\n",
    "        columns=[\"q1\", \"q2\", \"q3\", \"q4\"],\n",
    "    )\n",
    ")"
   ]
  },
  {
   "cell_type": "code",
   "execution_count": 13,
   "metadata": {},
   "outputs": [
    {
     "data": {
      "application/javascript": [
       "\n",
       "            setTimeout(function() {\n",
       "                var nbb_cell_id = 13;\n",
       "                var nbb_unformatted_code = \"# Joins to all_df a one hot encoding of 'How many employes...'.\\n# These responses are treated as a catagorical varriable as the size of the employing company\\n# likely has a discrete relation with employee experience\\n\\nall_df = all_df.join(\\n    pd.get_dummies(all_df[\\\"how_many_employees_does_your_company_or_organization_have\\\"])\\n)\";\n",
       "                var nbb_formatted_code = \"# Joins to all_df a one hot encoding of 'How many employes...'.\\n# These responses are treated as a catagorical varriable as the size of the employing company\\n# likely has a discrete relation with employee experience\\n\\nall_df = all_df.join(\\n    pd.get_dummies(all_df[\\\"how_many_employees_does_your_company_or_organization_have\\\"])\\n)\";\n",
       "                var nbb_cells = Jupyter.notebook.get_cells();\n",
       "                for (var i = 0; i < nbb_cells.length; ++i) {\n",
       "                    if (nbb_cells[i].input_prompt_number == nbb_cell_id) {\n",
       "                        if (nbb_cells[i].get_text() == nbb_unformatted_code) {\n",
       "                             nbb_cells[i].set_text(nbb_formatted_code);\n",
       "                        }\n",
       "                        break;\n",
       "                    }\n",
       "                }\n",
       "            }, 500);\n",
       "            "
      ],
      "text/plain": [
       "<IPython.core.display.Javascript object>"
      ]
     },
     "metadata": {},
     "output_type": "display_data"
    }
   ],
   "source": [
    "# Joins to all_df a one hot encoding of 'How many employes...'.\n",
    "# These responses are treated as a catagorical varriable as the size of the employing company\n",
    "# likely has a discrete relation with employee experience\n",
    "\n",
    "all_df = all_df.join(\n",
    "    pd.get_dummies(all_df[\"how_many_employees_does_your_company_or_organization_have\"])\n",
    ")"
   ]
  },
  {
   "cell_type": "code",
   "execution_count": 14,
   "metadata": {},
   "outputs": [
    {
     "data": {
      "application/javascript": [
       "\n",
       "            setTimeout(function() {\n",
       "                var nbb_cell_id = 14;\n",
       "                var nbb_unformatted_code = \"# Sets ages outside 15-75 to NaN\\nall_df.loc[(all_df[\\\"what_is_your_age\\\"] > 75) | (all_df[\\\"what_is_your_age\\\"] < 15), 'what_is_your_age'] = np.NaN\";\n",
       "                var nbb_formatted_code = \"# Sets ages outside 15-75 to NaN\\nall_df.loc[\\n    (all_df[\\\"what_is_your_age\\\"] > 75) | (all_df[\\\"what_is_your_age\\\"] < 15),\\n    \\\"what_is_your_age\\\",\\n] = np.NaN\";\n",
       "                var nbb_cells = Jupyter.notebook.get_cells();\n",
       "                for (var i = 0; i < nbb_cells.length; ++i) {\n",
       "                    if (nbb_cells[i].input_prompt_number == nbb_cell_id) {\n",
       "                        if (nbb_cells[i].get_text() == nbb_unformatted_code) {\n",
       "                             nbb_cells[i].set_text(nbb_formatted_code);\n",
       "                        }\n",
       "                        break;\n",
       "                    }\n",
       "                }\n",
       "            }, 500);\n",
       "            "
      ],
      "text/plain": [
       "<IPython.core.display.Javascript object>"
      ]
     },
     "metadata": {},
     "output_type": "display_data"
    }
   ],
   "source": [
    "# Sets ages outside 15-75 to NaN\n",
    "all_df.loc[(all_df[\"what_is_your_age\"] > 75) | (all_df[\"what_is_your_age\"] < 15), 'what_is_your_age'] = np.NaN\n"
   ]
  },
  {
   "cell_type": "code",
   "execution_count": 15,
   "metadata": {
    "scrolled": false
   },
   "outputs": [
    {
     "data": {
      "application/javascript": [
       "\n",
       "            setTimeout(function() {\n",
       "                var nbb_cell_id = 15;\n",
       "                var nbb_unformatted_code = \"# Imputes the missing values using KNN clustering\\nimputer = KNNImputer(n_neighbors=2, weights=\\\"uniform\\\")\\n\\nimpute_cols = [\\n    \\\"is_your_employer_primarily_a_tech_company_organization\\\",\\n    \\\"is_your_primary_role_within_your_company_related_to_tech_it\\\",\\n    \\\"do_you_believe_your_productivity_is_ever_affected_by_a_mental_health_issue\\\",\\n    \\\"have_you_had_a_mental_health_disorder_in_the_past\\\",\\n    \\\"was_your_anonymity_protected_if_you_chose_to_take_advantage_of_mental_health_or_substance_abuse_treatment_resources_with_previous_employers\\\",\\n    \\\"how_willing_would_you_be_to_share_with_friends_and_family_that_you_have_a_mental_illness\\\",\\n    \\\"has_your_employer_ever_formally_discussed_mental_health_for_example_as_part_of_a_wellness_campaign_or_other_official_communication\\\",\\n    \\\"did_your_previous_employers_ever_formally_discuss_mental_health_as_part_of_a_wellness_campaign_or_other_official_communication\\\",\\n    \\\"is_your_anonymity_protected_if_you_choose_to_take_advantage_of_mental_health_or_substance_abuse_treatment_resources_provided_by_your_employer\\\",\\n    \\\"what_is_your_age\\\",\\n]\\n\\nall_df.update(\\n    pd.DataFrame(imputer.fit_transform(all_df[impute_cols]), columns=impute_cols)\\n)\";\n",
       "                var nbb_formatted_code = \"# Imputes the missing values using KNN clustering\\nimputer = KNNImputer(n_neighbors=2, weights=\\\"uniform\\\")\\n\\nimpute_cols = [\\n    \\\"is_your_employer_primarily_a_tech_company_organization\\\",\\n    \\\"is_your_primary_role_within_your_company_related_to_tech_it\\\",\\n    \\\"do_you_believe_your_productivity_is_ever_affected_by_a_mental_health_issue\\\",\\n    \\\"have_you_had_a_mental_health_disorder_in_the_past\\\",\\n    \\\"was_your_anonymity_protected_if_you_chose_to_take_advantage_of_mental_health_or_substance_abuse_treatment_resources_with_previous_employers\\\",\\n    \\\"how_willing_would_you_be_to_share_with_friends_and_family_that_you_have_a_mental_illness\\\",\\n    \\\"has_your_employer_ever_formally_discussed_mental_health_for_example_as_part_of_a_wellness_campaign_or_other_official_communication\\\",\\n    \\\"did_your_previous_employers_ever_formally_discuss_mental_health_as_part_of_a_wellness_campaign_or_other_official_communication\\\",\\n    \\\"is_your_anonymity_protected_if_you_choose_to_take_advantage_of_mental_health_or_substance_abuse_treatment_resources_provided_by_your_employer\\\",\\n    \\\"what_is_your_age\\\",\\n]\\n\\nall_df.update(\\n    pd.DataFrame(imputer.fit_transform(all_df[impute_cols]), columns=impute_cols)\\n)\";\n",
       "                var nbb_cells = Jupyter.notebook.get_cells();\n",
       "                for (var i = 0; i < nbb_cells.length; ++i) {\n",
       "                    if (nbb_cells[i].input_prompt_number == nbb_cell_id) {\n",
       "                        if (nbb_cells[i].get_text() == nbb_unformatted_code) {\n",
       "                             nbb_cells[i].set_text(nbb_formatted_code);\n",
       "                        }\n",
       "                        break;\n",
       "                    }\n",
       "                }\n",
       "            }, 500);\n",
       "            "
      ],
      "text/plain": [
       "<IPython.core.display.Javascript object>"
      ]
     },
     "metadata": {},
     "output_type": "display_data"
    }
   ],
   "source": [
    "# Imputes the missing values using KNN clustering\n",
    "imputer = KNNImputer(n_neighbors=2, weights=\"uniform\")\n",
    "\n",
    "impute_cols = [\n",
    "    \"is_your_employer_primarily_a_tech_company_organization\",\n",
    "    \"is_your_primary_role_within_your_company_related_to_tech_it\",\n",
    "    \"do_you_believe_your_productivity_is_ever_affected_by_a_mental_health_issue\",\n",
    "    \"have_you_had_a_mental_health_disorder_in_the_past\",\n",
    "    \"was_your_anonymity_protected_if_you_chose_to_take_advantage_of_mental_health_or_substance_abuse_treatment_resources_with_previous_employers\",\n",
    "    \"how_willing_would_you_be_to_share_with_friends_and_family_that_you_have_a_mental_illness\",\n",
    "    \"has_your_employer_ever_formally_discussed_mental_health_for_example_as_part_of_a_wellness_campaign_or_other_official_communication\",\n",
    "    \"did_your_previous_employers_ever_formally_discuss_mental_health_as_part_of_a_wellness_campaign_or_other_official_communication\",\n",
    "    \"is_your_anonymity_protected_if_you_choose_to_take_advantage_of_mental_health_or_substance_abuse_treatment_resources_provided_by_your_employer\",\n",
    "    \"what_is_your_age\",\n",
    "]\n",
    "\n",
    "all_df.update(\n",
    "    pd.DataFrame(imputer.fit_transform(all_df[impute_cols]), columns=impute_cols)\n",
    ")"
   ]
  },
  {
   "cell_type": "code",
   "execution_count": 16,
   "metadata": {},
   "outputs": [
    {
     "name": "stdout",
     "output_type": "stream",
     "text": [
      "do_you_have_a_family_history_of_mental_illness 0\n",
      "was_your_anonymity_protected_if_you_chose_to_take_advantage_of_mental_health_or_substance_abuse_treatment_resources_with_previous_employers 0\n",
      "what_is_your_age 0\n",
      "did_your_previous_employers_ever_formally_discuss_mental_health_as_part_of_a_wellness_campaign_or_other_official_communication 0\n",
      "how_many_employees_does_your_company_or_organization_have 456\n",
      "is_your_anonymity_protected_if_you_choose_to_take_advantage_of_mental_health_or_substance_abuse_treatment_resources_provided_by_your_employer 0\n",
      "do_you_believe_your_productivity_is_ever_affected_by_a_mental_health_issue 0\n",
      "is_your_primary_role_within_your_company_related_to_tech_it 0\n",
      "do_you_currently_have_a_mental_health_disorder 0\n",
      "have_you_had_a_mental_health_disorder_in_the_past 0\n",
      "is_your_employer_primarily_a_tech_company_organization 0\n",
      "if_yes_what_percentage_of_your_work_time_time_performing_primary_or_secondary_job_functions_is_affected_by_a_mental_health_issue 2276\n",
      "what_is_your_gender 0\n",
      "would_you_be_willing_to_bring_up_a_physical_health_issue_with_a_potential_employer_in_an_interview 0\n",
      "has_your_employer_ever_formally_discussed_mental_health_for_example_as_part_of_a_wellness_campaign_or_other_official_communication 0\n",
      "how_willing_would_you_be_to_share_with_friends_and_family_that_you_have_a_mental_illness 0\n",
      "sex 0\n",
      "f 0\n",
      "m 0\n",
      "q1 0\n",
      "q2 0\n",
      "q3 0\n",
      "q4 0\n",
      "1-5 0\n",
      "100-500 0\n",
      "26-100 0\n",
      "500-1000 0\n",
      "6-25 0\n",
      "More than 1000 0\n"
     ]
    },
    {
     "data": {
      "application/javascript": [
       "\n",
       "            setTimeout(function() {\n",
       "                var nbb_cell_id = 16;\n",
       "                var nbb_unformatted_code = \"for col in all_df.columns:\\n    print(col, all_df[col].isnull().sum())\";\n",
       "                var nbb_formatted_code = \"for col in all_df.columns:\\n    print(col, all_df[col].isnull().sum())\";\n",
       "                var nbb_cells = Jupyter.notebook.get_cells();\n",
       "                for (var i = 0; i < nbb_cells.length; ++i) {\n",
       "                    if (nbb_cells[i].input_prompt_number == nbb_cell_id) {\n",
       "                        if (nbb_cells[i].get_text() == nbb_unformatted_code) {\n",
       "                             nbb_cells[i].set_text(nbb_formatted_code);\n",
       "                        }\n",
       "                        break;\n",
       "                    }\n",
       "                }\n",
       "            }, 500);\n",
       "            "
      ],
      "text/plain": [
       "<IPython.core.display.Javascript object>"
      ]
     },
     "metadata": {},
     "output_type": "display_data"
    }
   ],
   "source": [
    "for col in all_df.columns:\n",
    "    print(col, all_df[col].isnull().sum())"
   ]
  },
  {
   "cell_type": "code",
   "execution_count": 26,
   "metadata": {},
   "outputs": [
    {
     "data": {
      "application/javascript": [
       "\n",
       "            setTimeout(function() {\n",
       "                var nbb_cell_id = 26;\n",
       "                var nbb_unformatted_code = \"# Select the label as the response to 'would_you_be_willing_to_bring_up_a_physical_health_issue_with_a_potential_employer_in_an_interview'\\nall_y_df = all_df[\\n    \\\"would_you_be_willing_to_bring_up_a_physical_health_issue_with_a_potential_employer_in_an_interview\\\"\\n].map({\\\"Yes\\\": 2, \\\"Maybe\\\": 1, \\\"No\\\": 0})\\n\\n# The remaining responses and one hot variables are the features\\nall_x_df = all_df[\\n    [\\n        \\\"is_your_employer_primarily_a_tech_company_organization\\\",\\n        \\\"is_your_primary_role_within_your_company_related_to_tech_it\\\",\\n        \\\"do_you_currently_have_a_mental_health_disorder\\\",\\n        \\\"have_you_had_a_mental_health_disorder_in_the_past\\\",\\n        \\\"do_you_have_a_family_history_of_mental_illness\\\",\\n        \\\"do_you_believe_your_productivity_is_ever_affected_by_a_mental_health_issue\\\",\\n        \\\"how_willing_would_you_be_to_share_with_friends_and_family_that_you_have_a_mental_illness\\\",\\n        \\\"did_your_previous_employers_ever_formally_discuss_mental_health_as_part_of_a_wellness_campaign_or_other_official_communication\\\",\\n        \\\"has_your_employer_ever_formally_discussed_mental_health_for_example_as_part_of_a_wellness_campaign_or_other_official_communication\\\",\\n        \\\"is_your_anonymity_protected_if_you_choose_to_take_advantage_of_mental_health_or_substance_abuse_treatment_resources_provided_by_your_employer\\\",\\n        \\\"was_your_anonymity_protected_if_you_chose_to_take_advantage_of_mental_health_or_substance_abuse_treatment_resources_with_previous_employers\\\",\\n        \\\"what_is_your_age\\\",\\n        \\\"m\\\",\\n        \\\"f\\\",\\n        \\\"q1\\\",\\n        \\\"q2\\\",\\n        \\\"q3\\\",\\n        \\\"q4\\\",\\n        \\\"1-5\\\",\\n        \\\"6-25\\\",\\n        \\\"26-100\\\",\\n        \\\"100-500\\\",\\n        \\\"500-1000\\\",\\n        \\\"More than 1000\\\",\\n    ]\\n]\\n\\n\\n# Train test split before scaling\\nX_train, X_test, y_train, y_test = train_test_split(\\n    all_x_df, all_y_df, test_size=0.10, random_state=42069\\n)\";\n",
       "                var nbb_formatted_code = \"# Select the label as the response to 'would_you_be_willing_to_bring_up_a_physical_health_issue_with_a_potential_employer_in_an_interview'\\nall_y_df = all_df[\\n    \\\"would_you_be_willing_to_bring_up_a_physical_health_issue_with_a_potential_employer_in_an_interview\\\"\\n].map({\\\"Yes\\\": 2, \\\"Maybe\\\": 1, \\\"No\\\": 0})\\n\\n# The remaining responses and one hot variables are the features\\nall_x_df = all_df[\\n    [\\n        \\\"is_your_employer_primarily_a_tech_company_organization\\\",\\n        \\\"is_your_primary_role_within_your_company_related_to_tech_it\\\",\\n        \\\"do_you_currently_have_a_mental_health_disorder\\\",\\n        \\\"have_you_had_a_mental_health_disorder_in_the_past\\\",\\n        \\\"do_you_have_a_family_history_of_mental_illness\\\",\\n        \\\"do_you_believe_your_productivity_is_ever_affected_by_a_mental_health_issue\\\",\\n        \\\"how_willing_would_you_be_to_share_with_friends_and_family_that_you_have_a_mental_illness\\\",\\n        \\\"did_your_previous_employers_ever_formally_discuss_mental_health_as_part_of_a_wellness_campaign_or_other_official_communication\\\",\\n        \\\"has_your_employer_ever_formally_discussed_mental_health_for_example_as_part_of_a_wellness_campaign_or_other_official_communication\\\",\\n        \\\"is_your_anonymity_protected_if_you_choose_to_take_advantage_of_mental_health_or_substance_abuse_treatment_resources_provided_by_your_employer\\\",\\n        \\\"was_your_anonymity_protected_if_you_chose_to_take_advantage_of_mental_health_or_substance_abuse_treatment_resources_with_previous_employers\\\",\\n        \\\"what_is_your_age\\\",\\n        \\\"m\\\",\\n        \\\"f\\\",\\n        \\\"q1\\\",\\n        \\\"q2\\\",\\n        \\\"q3\\\",\\n        \\\"q4\\\",\\n        \\\"1-5\\\",\\n        \\\"6-25\\\",\\n        \\\"26-100\\\",\\n        \\\"100-500\\\",\\n        \\\"500-1000\\\",\\n        \\\"More than 1000\\\",\\n    ]\\n]\\n\\n\\n# Train test split before scaling\\nX_train, X_test, y_train, y_test = train_test_split(\\n    all_x_df, all_y_df, test_size=0.10, random_state=42069\\n)\";\n",
       "                var nbb_cells = Jupyter.notebook.get_cells();\n",
       "                for (var i = 0; i < nbb_cells.length; ++i) {\n",
       "                    if (nbb_cells[i].input_prompt_number == nbb_cell_id) {\n",
       "                        if (nbb_cells[i].get_text() == nbb_unformatted_code) {\n",
       "                             nbb_cells[i].set_text(nbb_formatted_code);\n",
       "                        }\n",
       "                        break;\n",
       "                    }\n",
       "                }\n",
       "            }, 500);\n",
       "            "
      ],
      "text/plain": [
       "<IPython.core.display.Javascript object>"
      ]
     },
     "metadata": {},
     "output_type": "display_data"
    }
   ],
   "source": [
    "# Select the label as the response to 'would_you_be_willing_to_bring_up_a_physical_health_issue_with_a_potential_employer_in_an_interview'\n",
    "all_y_df = all_df[\n",
    "    \"would_you_be_willing_to_bring_up_a_physical_health_issue_with_a_potential_employer_in_an_interview\"\n",
    "].map({\"Yes\": 2, \"Maybe\": 1, \"No\": 0})\n",
    "\n",
    "# The remaining responses and one hot variables are the features\n",
    "all_x_df = all_df[\n",
    "    [\n",
    "        \"is_your_employer_primarily_a_tech_company_organization\",\n",
    "        \"is_your_primary_role_within_your_company_related_to_tech_it\",\n",
    "        \"do_you_currently_have_a_mental_health_disorder\",\n",
    "        \"have_you_had_a_mental_health_disorder_in_the_past\",\n",
    "        \"do_you_have_a_family_history_of_mental_illness\",\n",
    "        \"do_you_believe_your_productivity_is_ever_affected_by_a_mental_health_issue\",\n",
    "        \"how_willing_would_you_be_to_share_with_friends_and_family_that_you_have_a_mental_illness\",\n",
    "        \"did_your_previous_employers_ever_formally_discuss_mental_health_as_part_of_a_wellness_campaign_or_other_official_communication\",\n",
    "        \"has_your_employer_ever_formally_discussed_mental_health_for_example_as_part_of_a_wellness_campaign_or_other_official_communication\",\n",
    "        \"is_your_anonymity_protected_if_you_choose_to_take_advantage_of_mental_health_or_substance_abuse_treatment_resources_provided_by_your_employer\",\n",
    "        \"was_your_anonymity_protected_if_you_chose_to_take_advantage_of_mental_health_or_substance_abuse_treatment_resources_with_previous_employers\",\n",
    "        \"what_is_your_age\",\n",
    "        \"m\",\n",
    "        \"f\",\n",
    "        \"q1\",\n",
    "        \"q2\",\n",
    "        \"q3\",\n",
    "        \"q4\",\n",
    "        \"1-5\",\n",
    "        \"6-25\",\n",
    "        \"26-100\",\n",
    "        \"100-500\",\n",
    "        \"500-1000\",\n",
    "        \"More than 1000\",\n",
    "    ]\n",
    "]\n",
    "\n",
    "\n",
    "# Train test split before scaling\n",
    "X_train, X_test, y_train, y_test = train_test_split(\n",
    "    all_x_df, all_y_df, test_size=0.10, random_state=42069\n",
    ")"
   ]
  },
  {
   "cell_type": "code",
   "execution_count": 27,
   "metadata": {},
   "outputs": [
    {
     "data": {
      "image/png": "[encoded data removed]",
      "text/plain": [
       "<Figure size 432x288 with 1 Axes>"
      ]
     },
     "metadata": {
      "needs_background": "light"
     },
     "output_type": "display_data"
    },
    {
     "data": {
      "application/javascript": [
       "\n",
       "            setTimeout(function() {\n",
       "                var nbb_cell_id = 27;\n",
       "                var nbb_unformatted_code = \"rf = RandomForestClassifier(random_state=0)\\nrf.fit(X_train, y_train)\\nf_i = list(zip(X_train.columns, rf.feature_importances_))\\nf_i.sort(key=lambda x: x[1])\\nplt.barh([x[0] for x in f_i], [x[1] for x in f_i])\\n\\nplt.show()\";\n",
       "                var nbb_formatted_code = \"rf = RandomForestClassifier(random_state=0)\\nrf.fit(X_train, y_train)\\nf_i = list(zip(X_train.columns, rf.feature_importances_))\\nf_i.sort(key=lambda x: x[1])\\nplt.barh([x[0] for x in f_i], [x[1] for x in f_i])\\n\\nplt.show()\";\n",
       "                var nbb_cells = Jupyter.notebook.get_cells();\n",
       "                for (var i = 0; i < nbb_cells.length; ++i) {\n",
       "                    if (nbb_cells[i].input_prompt_number == nbb_cell_id) {\n",
       "                        if (nbb_cells[i].get_text() == nbb_unformatted_code) {\n",
       "                             nbb_cells[i].set_text(nbb_formatted_code);\n",
       "                        }\n",
       "                        break;\n",
       "                    }\n",
       "                }\n",
       "            }, 500);\n",
       "            "
      ],
      "text/plain": [
       "<IPython.core.display.Javascript object>"
      ]
     },
     "metadata": {},
     "output_type": "display_data"
    }
   ],
   "source": [
    "rf = RandomForestClassifier(random_state=0)\n",
    "rf.fit(X_train, y_train)\n",
    "f_i = list(zip(X_train.columns, rf.feature_importances_))\n",
    "f_i.sort(key=lambda x: x[1])\n",
    "plt.barh([x[0] for x in f_i], [x[1] for x in f_i])\n",
    "\n",
    "plt.show()"
   ]
  },
  {
   "cell_type": "code",
   "execution_count": 28,
   "metadata": {},
   "outputs": [
    {
     "data": {
      "text/plain": [
       "2124    0\n",
       "2063    1\n",
       "2589    0\n",
       "1200    1\n",
       "8       1\n",
       "       ..\n",
       "1248    1\n",
       "357     1\n",
       "2575    1\n",
       "846     0\n",
       "1385    1\n",
       "Name: would_you_be_willing_to_bring_up_a_physical_health_issue_with_a_potential_employer_in_an_interview, Length: 2345, dtype: int64"
      ]
     },
     "execution_count": 28,
     "metadata": {},
     "output_type": "execute_result"
    },
    {
     "data": {
      "application/javascript": [
       "\n",
       "            setTimeout(function() {\n",
       "                var nbb_cell_id = 28;\n",
       "                var nbb_unformatted_code = \"y_train\";\n",
       "                var nbb_formatted_code = \"y_train\";\n",
       "                var nbb_cells = Jupyter.notebook.get_cells();\n",
       "                for (var i = 0; i < nbb_cells.length; ++i) {\n",
       "                    if (nbb_cells[i].input_prompt_number == nbb_cell_id) {\n",
       "                        if (nbb_cells[i].get_text() == nbb_unformatted_code) {\n",
       "                             nbb_cells[i].set_text(nbb_formatted_code);\n",
       "                        }\n",
       "                        break;\n",
       "                    }\n",
       "                }\n",
       "            }, 500);\n",
       "            "
      ],
      "text/plain": [
       "<IPython.core.display.Javascript object>"
      ]
     },
     "metadata": {},
     "output_type": "display_data"
    }
   ],
   "source": [
    "y_train"
   ]
  },
  {
   "cell_type": "code",
   "execution_count": 29,
   "metadata": {},
   "outputs": [
    {
     "ename": "KeyboardInterrupt",
     "evalue": "",
     "output_type": "error",
     "traceback": [
      "\u001b[1;31m---------------------------------------------------------------------------\u001b[0m",
      "\u001b[1;31mKeyboardInterrupt\u001b[0m                         Traceback (most recent call last)",
      "\u001b[1;32m<ipython-input-29-103823a20b98>\u001b[0m in \u001b[0;36m<module>\u001b[1;34m\u001b[0m\n\u001b[0;32m     35\u001b[0m \u001b[1;31m# Search parameter space\u001b[0m\u001b[1;33m\u001b[0m\u001b[1;33m\u001b[0m\u001b[1;33m\u001b[0m\u001b[0m\n\u001b[0;32m     36\u001b[0m \u001b[0mclf_grid\u001b[0m \u001b[1;33m=\u001b[0m \u001b[0mGridSearchCV\u001b[0m\u001b[1;33m(\u001b[0m\u001b[0mpipeline\u001b[0m\u001b[1;33m,\u001b[0m \u001b[0msearch_space\u001b[0m\u001b[1;33m,\u001b[0m \u001b[0mcv\u001b[0m\u001b[1;33m=\u001b[0m\u001b[1;36m10\u001b[0m\u001b[1;33m,\u001b[0m \u001b[0mverbose\u001b[0m\u001b[1;33m=\u001b[0m\u001b[1;36m0\u001b[0m\u001b[1;33m)\u001b[0m\u001b[1;33m\u001b[0m\u001b[1;33m\u001b[0m\u001b[0m\n\u001b[1;32m---> 37\u001b[1;33m \u001b[0mclf_grid\u001b[0m \u001b[1;33m=\u001b[0m \u001b[0mclf_grid\u001b[0m\u001b[1;33m.\u001b[0m\u001b[0mfit\u001b[0m\u001b[1;33m(\u001b[0m\u001b[0mX_train\u001b[0m\u001b[1;33m,\u001b[0m \u001b[0my_train\u001b[0m\u001b[1;33m)\u001b[0m\u001b[1;33m\u001b[0m\u001b[1;33m\u001b[0m\u001b[0m\n\u001b[0m\u001b[0;32m     38\u001b[0m \u001b[0mbest_clf\u001b[0m \u001b[1;33m=\u001b[0m \u001b[0mclf_grid\u001b[0m\u001b[1;33m.\u001b[0m\u001b[0mbest_estimator_\u001b[0m\u001b[1;33m\u001b[0m\u001b[1;33m\u001b[0m\u001b[0m\n\u001b[0;32m     39\u001b[0m \u001b[1;33m\u001b[0m\u001b[0m\n",
      "\u001b[1;32mC:\\ProgramData\\Anaconda3\\lib\\site-packages\\sklearn\\utils\\validation.py\u001b[0m in \u001b[0;36minner_f\u001b[1;34m(*args, **kwargs)\u001b[0m\n\u001b[0;32m     71\u001b[0m                           FutureWarning)\n\u001b[0;32m     72\u001b[0m         \u001b[0mkwargs\u001b[0m\u001b[1;33m.\u001b[0m\u001b[0mupdate\u001b[0m\u001b[1;33m(\u001b[0m\u001b[1;33m{\u001b[0m\u001b[0mk\u001b[0m\u001b[1;33m:\u001b[0m \u001b[0marg\u001b[0m \u001b[1;32mfor\u001b[0m \u001b[0mk\u001b[0m\u001b[1;33m,\u001b[0m \u001b[0marg\u001b[0m \u001b[1;32min\u001b[0m \u001b[0mzip\u001b[0m\u001b[1;33m(\u001b[0m\u001b[0msig\u001b[0m\u001b[1;33m.\u001b[0m\u001b[0mparameters\u001b[0m\u001b[1;33m,\u001b[0m \u001b[0margs\u001b[0m\u001b[1;33m)\u001b[0m\u001b[1;33m}\u001b[0m\u001b[1;33m)\u001b[0m\u001b[1;33m\u001b[0m\u001b[1;33m\u001b[0m\u001b[0m\n\u001b[1;32m---> 73\u001b[1;33m         \u001b[1;32mreturn\u001b[0m \u001b[0mf\u001b[0m\u001b[1;33m(\u001b[0m\u001b[1;33m**\u001b[0m\u001b[0mkwargs\u001b[0m\u001b[1;33m)\u001b[0m\u001b[1;33m\u001b[0m\u001b[1;33m\u001b[0m\u001b[0m\n\u001b[0m\u001b[0;32m     74\u001b[0m     \u001b[1;32mreturn\u001b[0m \u001b[0minner_f\u001b[0m\u001b[1;33m\u001b[0m\u001b[1;33m\u001b[0m\u001b[0m\n\u001b[0;32m     75\u001b[0m \u001b[1;33m\u001b[0m\u001b[0m\n",
      "\u001b[1;32mC:\\ProgramData\\Anaconda3\\lib\\site-packages\\sklearn\\model_selection\\_search.py\u001b[0m in \u001b[0;36mfit\u001b[1;34m(self, X, y, groups, **fit_params)\u001b[0m\n\u001b[0;32m    734\u001b[0m                 \u001b[1;32mreturn\u001b[0m \u001b[0mresults\u001b[0m\u001b[1;33m\u001b[0m\u001b[1;33m\u001b[0m\u001b[0m\n\u001b[0;32m    735\u001b[0m \u001b[1;33m\u001b[0m\u001b[0m\n\u001b[1;32m--> 736\u001b[1;33m             \u001b[0mself\u001b[0m\u001b[1;33m.\u001b[0m\u001b[0m_run_search\u001b[0m\u001b[1;33m(\u001b[0m\u001b[0mevaluate_candidates\u001b[0m\u001b[1;33m)\u001b[0m\u001b[1;33m\u001b[0m\u001b[1;33m\u001b[0m\u001b[0m\n\u001b[0m\u001b[0;32m    737\u001b[0m \u001b[1;33m\u001b[0m\u001b[0m\n\u001b[0;32m    738\u001b[0m         \u001b[1;31m# For multi-metric evaluation, store the best_index_, best_params_ and\u001b[0m\u001b[1;33m\u001b[0m\u001b[1;33m\u001b[0m\u001b[1;33m\u001b[0m\u001b[0m\n",
      "\u001b[1;32mC:\\ProgramData\\Anaconda3\\lib\\site-packages\\sklearn\\model_selection\\_search.py\u001b[0m in \u001b[0;36m_run_search\u001b[1;34m(self, evaluate_candidates)\u001b[0m\n\u001b[0;32m   1186\u001b[0m     \u001b[1;32mdef\u001b[0m \u001b[0m_run_search\u001b[0m\u001b[1;33m(\u001b[0m\u001b[0mself\u001b[0m\u001b[1;33m,\u001b[0m \u001b[0mevaluate_candidates\u001b[0m\u001b[1;33m)\u001b[0m\u001b[1;33m:\u001b[0m\u001b[1;33m\u001b[0m\u001b[1;33m\u001b[0m\u001b[0m\n\u001b[0;32m   1187\u001b[0m         \u001b[1;34m\"\"\"Search all candidates in param_grid\"\"\"\u001b[0m\u001b[1;33m\u001b[0m\u001b[1;33m\u001b[0m\u001b[0m\n\u001b[1;32m-> 1188\u001b[1;33m         \u001b[0mevaluate_candidates\u001b[0m\u001b[1;33m(\u001b[0m\u001b[0mParameterGrid\u001b[0m\u001b[1;33m(\u001b[0m\u001b[0mself\u001b[0m\u001b[1;33m.\u001b[0m\u001b[0mparam_grid\u001b[0m\u001b[1;33m)\u001b[0m\u001b[1;33m)\u001b[0m\u001b[1;33m\u001b[0m\u001b[1;33m\u001b[0m\u001b[0m\n\u001b[0m\u001b[0;32m   1189\u001b[0m \u001b[1;33m\u001b[0m\u001b[0m\n\u001b[0;32m   1190\u001b[0m \u001b[1;33m\u001b[0m\u001b[0m\n",
      "\u001b[1;32mC:\\ProgramData\\Anaconda3\\lib\\site-packages\\sklearn\\model_selection\\_search.py\u001b[0m in \u001b[0;36mevaluate_candidates\u001b[1;34m(candidate_params)\u001b[0m\n\u001b[0;32m    706\u001b[0m                               n_splits, n_candidates, n_candidates * n_splits))\n\u001b[0;32m    707\u001b[0m \u001b[1;33m\u001b[0m\u001b[0m\n\u001b[1;32m--> 708\u001b[1;33m                 out = parallel(delayed(_fit_and_score)(clone(base_estimator),\n\u001b[0m\u001b[0;32m    709\u001b[0m                                                        \u001b[0mX\u001b[0m\u001b[1;33m,\u001b[0m \u001b[0my\u001b[0m\u001b[1;33m,\u001b[0m\u001b[1;33m\u001b[0m\u001b[1;33m\u001b[0m\u001b[0m\n\u001b[0;32m    710\u001b[0m                                                        \u001b[0mtrain\u001b[0m\u001b[1;33m=\u001b[0m\u001b[0mtrain\u001b[0m\u001b[1;33m,\u001b[0m \u001b[0mtest\u001b[0m\u001b[1;33m=\u001b[0m\u001b[0mtest\u001b[0m\u001b[1;33m,\u001b[0m\u001b[1;33m\u001b[0m\u001b[1;33m\u001b[0m\u001b[0m\n",
      "\u001b[1;32mC:\\ProgramData\\Anaconda3\\lib\\site-packages\\joblib\\parallel.py\u001b[0m in \u001b[0;36m__call__\u001b[1;34m(self, iterable)\u001b[0m\n\u001b[0;32m   1030\u001b[0m                 \u001b[0mself\u001b[0m\u001b[1;33m.\u001b[0m\u001b[0m_iterating\u001b[0m \u001b[1;33m=\u001b[0m \u001b[0mself\u001b[0m\u001b[1;33m.\u001b[0m\u001b[0m_original_iterator\u001b[0m \u001b[1;32mis\u001b[0m \u001b[1;32mnot\u001b[0m \u001b[1;32mNone\u001b[0m\u001b[1;33m\u001b[0m\u001b[1;33m\u001b[0m\u001b[0m\n\u001b[0;32m   1031\u001b[0m \u001b[1;33m\u001b[0m\u001b[0m\n\u001b[1;32m-> 1032\u001b[1;33m             \u001b[1;32mwhile\u001b[0m \u001b[0mself\u001b[0m\u001b[1;33m.\u001b[0m\u001b[0mdispatch_one_batch\u001b[0m\u001b[1;33m(\u001b[0m\u001b[0miterator\u001b[0m\u001b[1;33m)\u001b[0m\u001b[1;33m:\u001b[0m\u001b[1;33m\u001b[0m\u001b[1;33m\u001b[0m\u001b[0m\n\u001b[0m\u001b[0;32m   1033\u001b[0m                 \u001b[1;32mpass\u001b[0m\u001b[1;33m\u001b[0m\u001b[1;33m\u001b[0m\u001b[0m\n\u001b[0;32m   1034\u001b[0m \u001b[1;33m\u001b[0m\u001b[0m\n",
      "\u001b[1;32mC:\\ProgramData\\Anaconda3\\lib\\site-packages\\joblib\\parallel.py\u001b[0m in \u001b[0;36mdispatch_one_batch\u001b[1;34m(self, iterator)\u001b[0m\n\u001b[0;32m    845\u001b[0m                 \u001b[1;32mreturn\u001b[0m \u001b[1;32mFalse\u001b[0m\u001b[1;33m\u001b[0m\u001b[1;33m\u001b[0m\u001b[0m\n\u001b[0;32m    846\u001b[0m             \u001b[1;32melse\u001b[0m\u001b[1;33m:\u001b[0m\u001b[1;33m\u001b[0m\u001b[1;33m\u001b[0m\u001b[0m\n\u001b[1;32m--> 847\u001b[1;33m                 \u001b[0mself\u001b[0m\u001b[1;33m.\u001b[0m\u001b[0m_dispatch\u001b[0m\u001b[1;33m(\u001b[0m\u001b[0mtasks\u001b[0m\u001b[1;33m)\u001b[0m\u001b[1;33m\u001b[0m\u001b[1;33m\u001b[0m\u001b[0m\n\u001b[0m\u001b[0;32m    848\u001b[0m                 \u001b[1;32mreturn\u001b[0m \u001b[1;32mTrue\u001b[0m\u001b[1;33m\u001b[0m\u001b[1;33m\u001b[0m\u001b[0m\n\u001b[0;32m    849\u001b[0m \u001b[1;33m\u001b[0m\u001b[0m\n",
      "\u001b[1;32mC:\\ProgramData\\Anaconda3\\lib\\site-packages\\joblib\\parallel.py\u001b[0m in \u001b[0;36m_dispatch\u001b[1;34m(self, batch)\u001b[0m\n\u001b[0;32m    763\u001b[0m         \u001b[1;32mwith\u001b[0m \u001b[0mself\u001b[0m\u001b[1;33m.\u001b[0m\u001b[0m_lock\u001b[0m\u001b[1;33m:\u001b[0m\u001b[1;33m\u001b[0m\u001b[1;33m\u001b[0m\u001b[0m\n\u001b[0;32m    764\u001b[0m             \u001b[0mjob_idx\u001b[0m \u001b[1;33m=\u001b[0m \u001b[0mlen\u001b[0m\u001b[1;33m(\u001b[0m\u001b[0mself\u001b[0m\u001b[1;33m.\u001b[0m\u001b[0m_jobs\u001b[0m\u001b[1;33m)\u001b[0m\u001b[1;33m\u001b[0m\u001b[1;33m\u001b[0m\u001b[0m\n\u001b[1;32m--> 765\u001b[1;33m             \u001b[0mjob\u001b[0m \u001b[1;33m=\u001b[0m \u001b[0mself\u001b[0m\u001b[1;33m.\u001b[0m\u001b[0m_backend\u001b[0m\u001b[1;33m.\u001b[0m\u001b[0mapply_async\u001b[0m\u001b[1;33m(\u001b[0m\u001b[0mbatch\u001b[0m\u001b[1;33m,\u001b[0m \u001b[0mcallback\u001b[0m\u001b[1;33m=\u001b[0m\u001b[0mcb\u001b[0m\u001b[1;33m)\u001b[0m\u001b[1;33m\u001b[0m\u001b[1;33m\u001b[0m\u001b[0m\n\u001b[0m\u001b[0;32m    766\u001b[0m             \u001b[1;31m# A job can complete so quickly than its callback is\u001b[0m\u001b[1;33m\u001b[0m\u001b[1;33m\u001b[0m\u001b[1;33m\u001b[0m\u001b[0m\n\u001b[0;32m    767\u001b[0m             \u001b[1;31m# called before we get here, causing self._jobs to\u001b[0m\u001b[1;33m\u001b[0m\u001b[1;33m\u001b[0m\u001b[1;33m\u001b[0m\u001b[0m\n",
      "\u001b[1;32mC:\\ProgramData\\Anaconda3\\lib\\site-packages\\joblib\\_parallel_backends.py\u001b[0m in \u001b[0;36mapply_async\u001b[1;34m(self, func, callback)\u001b[0m\n\u001b[0;32m    206\u001b[0m     \u001b[1;32mdef\u001b[0m \u001b[0mapply_async\u001b[0m\u001b[1;33m(\u001b[0m\u001b[0mself\u001b[0m\u001b[1;33m,\u001b[0m \u001b[0mfunc\u001b[0m\u001b[1;33m,\u001b[0m \u001b[0mcallback\u001b[0m\u001b[1;33m=\u001b[0m\u001b[1;32mNone\u001b[0m\u001b[1;33m)\u001b[0m\u001b[1;33m:\u001b[0m\u001b[1;33m\u001b[0m\u001b[1;33m\u001b[0m\u001b[0m\n\u001b[0;32m    207\u001b[0m         \u001b[1;34m\"\"\"Schedule a func to be run\"\"\"\u001b[0m\u001b[1;33m\u001b[0m\u001b[1;33m\u001b[0m\u001b[0m\n\u001b[1;32m--> 208\u001b[1;33m         \u001b[0mresult\u001b[0m \u001b[1;33m=\u001b[0m \u001b[0mImmediateResult\u001b[0m\u001b[1;33m(\u001b[0m\u001b[0mfunc\u001b[0m\u001b[1;33m)\u001b[0m\u001b[1;33m\u001b[0m\u001b[1;33m\u001b[0m\u001b[0m\n\u001b[0m\u001b[0;32m    209\u001b[0m         \u001b[1;32mif\u001b[0m \u001b[0mcallback\u001b[0m\u001b[1;33m:\u001b[0m\u001b[1;33m\u001b[0m\u001b[1;33m\u001b[0m\u001b[0m\n\u001b[0;32m    210\u001b[0m             \u001b[0mcallback\u001b[0m\u001b[1;33m(\u001b[0m\u001b[0mresult\u001b[0m\u001b[1;33m)\u001b[0m\u001b[1;33m\u001b[0m\u001b[1;33m\u001b[0m\u001b[0m\n",
      "\u001b[1;32mC:\\ProgramData\\Anaconda3\\lib\\site-packages\\joblib\\_parallel_backends.py\u001b[0m in \u001b[0;36m__init__\u001b[1;34m(self, batch)\u001b[0m\n\u001b[0;32m    570\u001b[0m         \u001b[1;31m# Don't delay the application, to avoid keeping the input\u001b[0m\u001b[1;33m\u001b[0m\u001b[1;33m\u001b[0m\u001b[1;33m\u001b[0m\u001b[0m\n\u001b[0;32m    571\u001b[0m         \u001b[1;31m# arguments in memory\u001b[0m\u001b[1;33m\u001b[0m\u001b[1;33m\u001b[0m\u001b[1;33m\u001b[0m\u001b[0m\n\u001b[1;32m--> 572\u001b[1;33m         \u001b[0mself\u001b[0m\u001b[1;33m.\u001b[0m\u001b[0mresults\u001b[0m \u001b[1;33m=\u001b[0m \u001b[0mbatch\u001b[0m\u001b[1;33m(\u001b[0m\u001b[1;33m)\u001b[0m\u001b[1;33m\u001b[0m\u001b[1;33m\u001b[0m\u001b[0m\n\u001b[0m\u001b[0;32m    573\u001b[0m \u001b[1;33m\u001b[0m\u001b[0m\n\u001b[0;32m    574\u001b[0m     \u001b[1;32mdef\u001b[0m \u001b[0mget\u001b[0m\u001b[1;33m(\u001b[0m\u001b[0mself\u001b[0m\u001b[1;33m)\u001b[0m\u001b[1;33m:\u001b[0m\u001b[1;33m\u001b[0m\u001b[1;33m\u001b[0m\u001b[0m\n",
      "\u001b[1;32mC:\\ProgramData\\Anaconda3\\lib\\site-packages\\joblib\\parallel.py\u001b[0m in \u001b[0;36m__call__\u001b[1;34m(self)\u001b[0m\n\u001b[0;32m    250\u001b[0m         \u001b[1;31m# change the default number of processes to -1\u001b[0m\u001b[1;33m\u001b[0m\u001b[1;33m\u001b[0m\u001b[1;33m\u001b[0m\u001b[0m\n\u001b[0;32m    251\u001b[0m         \u001b[1;32mwith\u001b[0m \u001b[0mparallel_backend\u001b[0m\u001b[1;33m(\u001b[0m\u001b[0mself\u001b[0m\u001b[1;33m.\u001b[0m\u001b[0m_backend\u001b[0m\u001b[1;33m,\u001b[0m \u001b[0mn_jobs\u001b[0m\u001b[1;33m=\u001b[0m\u001b[0mself\u001b[0m\u001b[1;33m.\u001b[0m\u001b[0m_n_jobs\u001b[0m\u001b[1;33m)\u001b[0m\u001b[1;33m:\u001b[0m\u001b[1;33m\u001b[0m\u001b[1;33m\u001b[0m\u001b[0m\n\u001b[1;32m--> 252\u001b[1;33m             return [func(*args, **kwargs)\n\u001b[0m\u001b[0;32m    253\u001b[0m                     for func, args, kwargs in self.items]\n\u001b[0;32m    254\u001b[0m \u001b[1;33m\u001b[0m\u001b[0m\n",
      "\u001b[1;32mC:\\ProgramData\\Anaconda3\\lib\\site-packages\\joblib\\parallel.py\u001b[0m in \u001b[0;36m<listcomp>\u001b[1;34m(.0)\u001b[0m\n\u001b[0;32m    250\u001b[0m         \u001b[1;31m# change the default number of processes to -1\u001b[0m\u001b[1;33m\u001b[0m\u001b[1;33m\u001b[0m\u001b[1;33m\u001b[0m\u001b[0m\n\u001b[0;32m    251\u001b[0m         \u001b[1;32mwith\u001b[0m \u001b[0mparallel_backend\u001b[0m\u001b[1;33m(\u001b[0m\u001b[0mself\u001b[0m\u001b[1;33m.\u001b[0m\u001b[0m_backend\u001b[0m\u001b[1;33m,\u001b[0m \u001b[0mn_jobs\u001b[0m\u001b[1;33m=\u001b[0m\u001b[0mself\u001b[0m\u001b[1;33m.\u001b[0m\u001b[0m_n_jobs\u001b[0m\u001b[1;33m)\u001b[0m\u001b[1;33m:\u001b[0m\u001b[1;33m\u001b[0m\u001b[1;33m\u001b[0m\u001b[0m\n\u001b[1;32m--> 252\u001b[1;33m             return [func(*args, **kwargs)\n\u001b[0m\u001b[0;32m    253\u001b[0m                     for func, args, kwargs in self.items]\n\u001b[0;32m    254\u001b[0m \u001b[1;33m\u001b[0m\u001b[0m\n",
      "\u001b[1;32mC:\\ProgramData\\Anaconda3\\lib\\site-packages\\sklearn\\model_selection\\_validation.py\u001b[0m in \u001b[0;36m_fit_and_score\u001b[1;34m(estimator, X, y, scorer, train, test, verbose, parameters, fit_params, return_train_score, return_parameters, return_n_test_samples, return_times, return_estimator, error_score)\u001b[0m\n\u001b[0;32m    529\u001b[0m             \u001b[0mestimator\u001b[0m\u001b[1;33m.\u001b[0m\u001b[0mfit\u001b[0m\u001b[1;33m(\u001b[0m\u001b[0mX_train\u001b[0m\u001b[1;33m,\u001b[0m \u001b[1;33m**\u001b[0m\u001b[0mfit_params\u001b[0m\u001b[1;33m)\u001b[0m\u001b[1;33m\u001b[0m\u001b[1;33m\u001b[0m\u001b[0m\n\u001b[0;32m    530\u001b[0m         \u001b[1;32melse\u001b[0m\u001b[1;33m:\u001b[0m\u001b[1;33m\u001b[0m\u001b[1;33m\u001b[0m\u001b[0m\n\u001b[1;32m--> 531\u001b[1;33m             \u001b[0mestimator\u001b[0m\u001b[1;33m.\u001b[0m\u001b[0mfit\u001b[0m\u001b[1;33m(\u001b[0m\u001b[0mX_train\u001b[0m\u001b[1;33m,\u001b[0m \u001b[0my_train\u001b[0m\u001b[1;33m,\u001b[0m \u001b[1;33m**\u001b[0m\u001b[0mfit_params\u001b[0m\u001b[1;33m)\u001b[0m\u001b[1;33m\u001b[0m\u001b[1;33m\u001b[0m\u001b[0m\n\u001b[0m\u001b[0;32m    532\u001b[0m \u001b[1;33m\u001b[0m\u001b[0m\n\u001b[0;32m    533\u001b[0m     \u001b[1;32mexcept\u001b[0m \u001b[0mException\u001b[0m \u001b[1;32mas\u001b[0m \u001b[0me\u001b[0m\u001b[1;33m:\u001b[0m\u001b[1;33m\u001b[0m\u001b[1;33m\u001b[0m\u001b[0m\n",
      "\u001b[1;32mC:\\ProgramData\\Anaconda3\\lib\\site-packages\\sklearn\\pipeline.py\u001b[0m in \u001b[0;36mfit\u001b[1;34m(self, X, y, **fit_params)\u001b[0m\n\u001b[0;32m    333\u001b[0m             \u001b[1;32mif\u001b[0m \u001b[0mself\u001b[0m\u001b[1;33m.\u001b[0m\u001b[0m_final_estimator\u001b[0m \u001b[1;33m!=\u001b[0m \u001b[1;34m'passthrough'\u001b[0m\u001b[1;33m:\u001b[0m\u001b[1;33m\u001b[0m\u001b[1;33m\u001b[0m\u001b[0m\n\u001b[0;32m    334\u001b[0m                 \u001b[0mfit_params_last_step\u001b[0m \u001b[1;33m=\u001b[0m \u001b[0mfit_params_steps\u001b[0m\u001b[1;33m[\u001b[0m\u001b[0mself\u001b[0m\u001b[1;33m.\u001b[0m\u001b[0msteps\u001b[0m\u001b[1;33m[\u001b[0m\u001b[1;33m-\u001b[0m\u001b[1;36m1\u001b[0m\u001b[1;33m]\u001b[0m\u001b[1;33m[\u001b[0m\u001b[1;36m0\u001b[0m\u001b[1;33m]\u001b[0m\u001b[1;33m]\u001b[0m\u001b[1;33m\u001b[0m\u001b[1;33m\u001b[0m\u001b[0m\n\u001b[1;32m--> 335\u001b[1;33m                 \u001b[0mself\u001b[0m\u001b[1;33m.\u001b[0m\u001b[0m_final_estimator\u001b[0m\u001b[1;33m.\u001b[0m\u001b[0mfit\u001b[0m\u001b[1;33m(\u001b[0m\u001b[0mXt\u001b[0m\u001b[1;33m,\u001b[0m \u001b[0my\u001b[0m\u001b[1;33m,\u001b[0m \u001b[1;33m**\u001b[0m\u001b[0mfit_params_last_step\u001b[0m\u001b[1;33m)\u001b[0m\u001b[1;33m\u001b[0m\u001b[1;33m\u001b[0m\u001b[0m\n\u001b[0m\u001b[0;32m    336\u001b[0m \u001b[1;33m\u001b[0m\u001b[0m\n\u001b[0;32m    337\u001b[0m         \u001b[1;32mreturn\u001b[0m \u001b[0mself\u001b[0m\u001b[1;33m\u001b[0m\u001b[1;33m\u001b[0m\u001b[0m\n",
      "\u001b[1;32mC:\\ProgramData\\Anaconda3\\lib\\site-packages\\xgboost\\core.py\u001b[0m in \u001b[0;36minner_f\u001b[1;34m(*args, **kwargs)\u001b[0m\n\u001b[0;32m    618\u001b[0m             \u001b[1;32mfor\u001b[0m \u001b[0mk\u001b[0m\u001b[1;33m,\u001b[0m \u001b[0marg\u001b[0m \u001b[1;32min\u001b[0m \u001b[0mzip\u001b[0m\u001b[1;33m(\u001b[0m\u001b[0msig\u001b[0m\u001b[1;33m.\u001b[0m\u001b[0mparameters\u001b[0m\u001b[1;33m,\u001b[0m \u001b[0margs\u001b[0m\u001b[1;33m)\u001b[0m\u001b[1;33m:\u001b[0m\u001b[1;33m\u001b[0m\u001b[1;33m\u001b[0m\u001b[0m\n\u001b[0;32m    619\u001b[0m                 \u001b[0mkwargs\u001b[0m\u001b[1;33m[\u001b[0m\u001b[0mk\u001b[0m\u001b[1;33m]\u001b[0m \u001b[1;33m=\u001b[0m \u001b[0marg\u001b[0m\u001b[1;33m\u001b[0m\u001b[1;33m\u001b[0m\u001b[0m\n\u001b[1;32m--> 620\u001b[1;33m             \u001b[1;32mreturn\u001b[0m \u001b[0mfunc\u001b[0m\u001b[1;33m(\u001b[0m\u001b[1;33m**\u001b[0m\u001b[0mkwargs\u001b[0m\u001b[1;33m)\u001b[0m\u001b[1;33m\u001b[0m\u001b[1;33m\u001b[0m\u001b[0m\n\u001b[0m\u001b[0;32m    621\u001b[0m \u001b[1;33m\u001b[0m\u001b[0m\n\u001b[0;32m    622\u001b[0m         \u001b[1;32mreturn\u001b[0m \u001b[0minner_f\u001b[0m\u001b[1;33m\u001b[0m\u001b[1;33m\u001b[0m\u001b[0m\n",
      "\u001b[1;32mC:\\ProgramData\\Anaconda3\\lib\\site-packages\\xgboost\\sklearn.py\u001b[0m in \u001b[0;36mfit\u001b[1;34m(self, X, y, sample_weight, base_margin, eval_set, eval_metric, early_stopping_rounds, verbose, xgb_model, sample_weight_eval_set, base_margin_eval_set, feature_weights, callbacks)\u001b[0m\n\u001b[0;32m   1514\u001b[0m             )\n\u001b[0;32m   1515\u001b[0m \u001b[1;33m\u001b[0m\u001b[0m\n\u001b[1;32m-> 1516\u001b[1;33m             self._Booster = train(\n\u001b[0m\u001b[0;32m   1517\u001b[0m                 \u001b[0mparams\u001b[0m\u001b[1;33m,\u001b[0m\u001b[1;33m\u001b[0m\u001b[1;33m\u001b[0m\u001b[0m\n\u001b[0;32m   1518\u001b[0m                 \u001b[0mtrain_dmatrix\u001b[0m\u001b[1;33m,\u001b[0m\u001b[1;33m\u001b[0m\u001b[1;33m\u001b[0m\u001b[0m\n",
      "\u001b[1;32mC:\\ProgramData\\Anaconda3\\lib\\site-packages\\xgboost\\core.py\u001b[0m in \u001b[0;36minner_f\u001b[1;34m(*args, **kwargs)\u001b[0m\n\u001b[0;32m    618\u001b[0m             \u001b[1;32mfor\u001b[0m \u001b[0mk\u001b[0m\u001b[1;33m,\u001b[0m \u001b[0marg\u001b[0m \u001b[1;32min\u001b[0m \u001b[0mzip\u001b[0m\u001b[1;33m(\u001b[0m\u001b[0msig\u001b[0m\u001b[1;33m.\u001b[0m\u001b[0mparameters\u001b[0m\u001b[1;33m,\u001b[0m \u001b[0margs\u001b[0m\u001b[1;33m)\u001b[0m\u001b[1;33m:\u001b[0m\u001b[1;33m\u001b[0m\u001b[1;33m\u001b[0m\u001b[0m\n\u001b[0;32m    619\u001b[0m                 \u001b[0mkwargs\u001b[0m\u001b[1;33m[\u001b[0m\u001b[0mk\u001b[0m\u001b[1;33m]\u001b[0m \u001b[1;33m=\u001b[0m \u001b[0marg\u001b[0m\u001b[1;33m\u001b[0m\u001b[1;33m\u001b[0m\u001b[0m\n\u001b[1;32m--> 620\u001b[1;33m             \u001b[1;32mreturn\u001b[0m \u001b[0mfunc\u001b[0m\u001b[1;33m(\u001b[0m\u001b[1;33m**\u001b[0m\u001b[0mkwargs\u001b[0m\u001b[1;33m)\u001b[0m\u001b[1;33m\u001b[0m\u001b[1;33m\u001b[0m\u001b[0m\n\u001b[0m\u001b[0;32m    621\u001b[0m \u001b[1;33m\u001b[0m\u001b[0m\n\u001b[0;32m    622\u001b[0m         \u001b[1;32mreturn\u001b[0m \u001b[0minner_f\u001b[0m\u001b[1;33m\u001b[0m\u001b[1;33m\u001b[0m\u001b[0m\n",
      "\u001b[1;32mC:\\ProgramData\\Anaconda3\\lib\\site-packages\\xgboost\\training.py\u001b[0m in \u001b[0;36mtrain\u001b[1;34m(params, dtrain, num_boost_round, evals, obj, feval, maximize, early_stopping_rounds, evals_result, verbose_eval, xgb_model, callbacks, custom_metric)\u001b[0m\n\u001b[0;32m    183\u001b[0m         \u001b[1;32mif\u001b[0m \u001b[0mcb_container\u001b[0m\u001b[1;33m.\u001b[0m\u001b[0mbefore_iteration\u001b[0m\u001b[1;33m(\u001b[0m\u001b[0mbst\u001b[0m\u001b[1;33m,\u001b[0m \u001b[0mi\u001b[0m\u001b[1;33m,\u001b[0m \u001b[0mdtrain\u001b[0m\u001b[1;33m,\u001b[0m \u001b[0mevals\u001b[0m\u001b[1;33m)\u001b[0m\u001b[1;33m:\u001b[0m\u001b[1;33m\u001b[0m\u001b[1;33m\u001b[0m\u001b[0m\n\u001b[0;32m    184\u001b[0m             \u001b[1;32mbreak\u001b[0m\u001b[1;33m\u001b[0m\u001b[1;33m\u001b[0m\u001b[0m\n\u001b[1;32m--> 185\u001b[1;33m         \u001b[0mbst\u001b[0m\u001b[1;33m.\u001b[0m\u001b[0mupdate\u001b[0m\u001b[1;33m(\u001b[0m\u001b[0mdtrain\u001b[0m\u001b[1;33m,\u001b[0m \u001b[0mi\u001b[0m\u001b[1;33m,\u001b[0m \u001b[0mobj\u001b[0m\u001b[1;33m)\u001b[0m\u001b[1;33m\u001b[0m\u001b[1;33m\u001b[0m\u001b[0m\n\u001b[0m\u001b[0;32m    186\u001b[0m         \u001b[1;32mif\u001b[0m \u001b[0mcb_container\u001b[0m\u001b[1;33m.\u001b[0m\u001b[0mafter_iteration\u001b[0m\u001b[1;33m(\u001b[0m\u001b[0mbst\u001b[0m\u001b[1;33m,\u001b[0m \u001b[0mi\u001b[0m\u001b[1;33m,\u001b[0m \u001b[0mdtrain\u001b[0m\u001b[1;33m,\u001b[0m \u001b[0mevals\u001b[0m\u001b[1;33m)\u001b[0m\u001b[1;33m:\u001b[0m\u001b[1;33m\u001b[0m\u001b[1;33m\u001b[0m\u001b[0m\n\u001b[0;32m    187\u001b[0m             \u001b[1;32mbreak\u001b[0m\u001b[1;33m\u001b[0m\u001b[1;33m\u001b[0m\u001b[0m\n",
      "\u001b[1;32mC:\\ProgramData\\Anaconda3\\lib\\site-packages\\xgboost\\core.py\u001b[0m in \u001b[0;36mupdate\u001b[1;34m(self, dtrain, iteration, fobj)\u001b[0m\n\u001b[0;32m   1916\u001b[0m \u001b[1;33m\u001b[0m\u001b[0m\n\u001b[0;32m   1917\u001b[0m         \u001b[1;32mif\u001b[0m \u001b[0mfobj\u001b[0m \u001b[1;32mis\u001b[0m \u001b[1;32mNone\u001b[0m\u001b[1;33m:\u001b[0m\u001b[1;33m\u001b[0m\u001b[1;33m\u001b[0m\u001b[0m\n\u001b[1;32m-> 1918\u001b[1;33m             _check_call(_LIB.XGBoosterUpdateOneIter(self.handle,\n\u001b[0m\u001b[0;32m   1919\u001b[0m                                                     \u001b[0mctypes\u001b[0m\u001b[1;33m.\u001b[0m\u001b[0mc_int\u001b[0m\u001b[1;33m(\u001b[0m\u001b[0miteration\u001b[0m\u001b[1;33m)\u001b[0m\u001b[1;33m,\u001b[0m\u001b[1;33m\u001b[0m\u001b[1;33m\u001b[0m\u001b[0m\n\u001b[0;32m   1920\u001b[0m                                                     dtrain.handle))\n",
      "\u001b[1;31mKeyboardInterrupt\u001b[0m: "
     ]
    },
    {
     "data": {
      "application/javascript": [
       "\n",
       "            setTimeout(function() {\n",
       "                var nbb_cell_id = 29;\n",
       "                var nbb_unformatted_code = \"pipeline = Pipeline(\\n    [\\n        (\\\"maxab_scaler\\\", MinMaxScaler()),\\n        (\\\"selector\\\", SelectKBest(score_func=chi2, k=\\\"all\\\")),\\n        (\\\"estimator\\\", LogisticRegression(solver=\\\"liblinear\\\")),\\n    ]\\n)\\n\\nsearch_space = [\\n    {\\\"selector__k\\\": [2, 5, 10]},\\n    {\\n        \\\"estimator\\\": [LogisticRegression(solver=\\\"liblinear\\\")],\\n        \\\"estimator__C\\\": [0.01, 0.1, 1.0, 10.0],\\n        \\\"estimator__penalty\\\": [\\\"l1\\\", \\\"l2\\\"],\\n    },\\n    {\\n        \\\"estimator\\\": [svm.SVC()],\\n        \\\"estimator__C\\\": [0.01, 0.1, 1.0, 10.0],\\n        \\\"estimator__kernel\\\": [\\\"linear\\\", \\\"poly\\\", \\\"rbf\\\"],\\n    },\\n    {\\n        \\\"estimator\\\": [RandomForestClassifier(random_state=0)],\\n        \\\"estimator__max_depth\\\": [1, 2, 3, 4, 5, 6],\\n        \\\"estimator__criterion\\\": [\\\"gini\\\", \\\"entropy\\\"],\\n    },\\n    {\\n        \\\"estimator\\\": [XGBClassifier(random_state=0)],\\n        \\\"estimator__max_depth\\\": [2, 4, 6, 8, 10],\\n        \\\"estimator__n_estimators\\\": [10, 100, 500],\\n        \\\"estimator__min_child_weight\\\": [1, 3, 5, 7],\\n        \\\"estimator__gamma\\\": [0.0, 0.1, 0.2, 0.3, 0.4],\\n    },\\n]\\n\\n# Search parameter space\\nclf_grid = GridSearchCV(pipeline, search_space, cv=10, verbose=0)\\nclf_grid = clf_grid.fit(X_train, y_train)\\nbest_clf = clf_grid.best_estimator_\\n\\n# Print results\\n# print('Mean training scores: \\\\n', *grid_clf.cv_results_['mean_test_score'], sep = '\\\\n')\\nprint(\\\"\\\\n Best estimator: \\\", best_clf)\\nprint(\\n    \\\"Max mean training score: \\\\n\\\",\\n    np.max(clf_grid.cv_results_[\\\"mean_test_score\\\"]),\\n    sep=\\\"\\\\n\\\",\\n)\\nprint(\\\"\\\\n Best estimator params: \\\")\";\n",
       "                var nbb_formatted_code = \"pipeline = Pipeline(\\n    [\\n        (\\\"maxab_scaler\\\", MinMaxScaler()),\\n        (\\\"selector\\\", SelectKBest(score_func=chi2, k=\\\"all\\\")),\\n        (\\\"estimator\\\", LogisticRegression(solver=\\\"liblinear\\\")),\\n    ]\\n)\\n\\nsearch_space = [\\n    {\\\"selector__k\\\": [2, 5, 10]},\\n    {\\n        \\\"estimator\\\": [LogisticRegression(solver=\\\"liblinear\\\")],\\n        \\\"estimator__C\\\": [0.01, 0.1, 1.0, 10.0],\\n        \\\"estimator__penalty\\\": [\\\"l1\\\", \\\"l2\\\"],\\n    },\\n    {\\n        \\\"estimator\\\": [svm.SVC()],\\n        \\\"estimator__C\\\": [0.01, 0.1, 1.0, 10.0],\\n        \\\"estimator__kernel\\\": [\\\"linear\\\", \\\"poly\\\", \\\"rbf\\\"],\\n    },\\n    {\\n        \\\"estimator\\\": [RandomForestClassifier(random_state=0)],\\n        \\\"estimator__max_depth\\\": [1, 2, 3, 4, 5, 6],\\n        \\\"estimator__criterion\\\": [\\\"gini\\\", \\\"entropy\\\"],\\n    },\\n    {\\n        \\\"estimator\\\": [XGBClassifier(random_state=0)],\\n        \\\"estimator__max_depth\\\": [2, 4, 6, 8, 10],\\n        \\\"estimator__n_estimators\\\": [10, 100, 500],\\n        \\\"estimator__min_child_weight\\\": [1, 3, 5, 7],\\n        \\\"estimator__gamma\\\": [0.0, 0.1, 0.2, 0.3, 0.4],\\n    },\\n]\\n\\n# Search parameter space\\nclf_grid = GridSearchCV(pipeline, search_space, cv=10, verbose=0)\\nclf_grid = clf_grid.fit(X_train, y_train)\\nbest_clf = clf_grid.best_estimator_\\n\\n# Print results\\n# print('Mean training scores: \\\\n', *grid_clf.cv_results_['mean_test_score'], sep = '\\\\n')\\nprint(\\\"\\\\n Best estimator: \\\", best_clf)\\nprint(\\n    \\\"Max mean training score: \\\\n\\\",\\n    np.max(clf_grid.cv_results_[\\\"mean_test_score\\\"]),\\n    sep=\\\"\\\\n\\\",\\n)\\nprint(\\\"\\\\n Best estimator params: \\\")\";\n",
       "                var nbb_cells = Jupyter.notebook.get_cells();\n",
       "                for (var i = 0; i < nbb_cells.length; ++i) {\n",
       "                    if (nbb_cells[i].input_prompt_number == nbb_cell_id) {\n",
       "                        if (nbb_cells[i].get_text() == nbb_unformatted_code) {\n",
       "                             nbb_cells[i].set_text(nbb_formatted_code);\n",
       "                        }\n",
       "                        break;\n",
       "                    }\n",
       "                }\n",
       "            }, 500);\n",
       "            "
      ],
      "text/plain": [
       "<IPython.core.display.Javascript object>"
      ]
     },
     "metadata": {},
     "output_type": "display_data"
    }
   ],
   "source": [
    "pipeline = Pipeline(\n",
    "    [\n",
    "        (\"maxab_scaler\", MinMaxScaler()),\n",
    "        (\"selector\", SelectKBest(score_func=chi2, k=\"all\")),\n",
    "        (\"estimator\", LogisticRegression(solver=\"liblinear\")),\n",
    "    ]\n",
    ")\n",
    "\n",
    "search_space = [\n",
    "    {\"selector__k\": [2, 5, 10]},\n",
    "    {\n",
    "        \"estimator\": [LogisticRegression(solver=\"liblinear\")],\n",
    "        \"estimator__C\": [0.01, 0.1, 1.0, 10.0],\n",
    "        \"estimator__penalty\": [\"l1\", \"l2\"],\n",
    "    },\n",
    "    {\n",
    "        \"estimator\": [svm.SVC()],\n",
    "        \"estimator__C\": [0.01, 0.1, 1.0, 10.0],\n",
    "        \"estimator__kernel\": [\"linear\", \"poly\", \"rbf\"],\n",
    "    },\n",
    "    {\n",
    "        \"estimator\": [RandomForestClassifier(random_state=0)],\n",
    "        \"estimator__max_depth\": [1, 2, 3, 4, 5, 6],\n",
    "        \"estimator__criterion\": [\"gini\", \"entropy\"],\n",
    "    },\n",
    "    {\n",
    "        \"estimator\": [XGBClassifier(random_state=0)],\n",
    "        \"estimator__max_depth\": [2, 4, 6, 8, 10],\n",
    "        \"estimator__n_estimators\": [10, 100, 500],\n",
    "        \"estimator__min_child_weight\": [1, 3, 5, 7],\n",
    "        \"estimator__gamma\": [0.0, 0.1, 0.2, 0.3, 0.4],\n",
    "    },\n",
    "]\n",
    "\n",
    "# Search parameter space\n",
    "clf_grid = GridSearchCV(pipeline, search_space, cv=10, verbose=0)\n",
    "clf_grid = clf_grid.fit(X_train, y_train)\n",
    "best_clf = clf_grid.best_estimator_\n",
    "\n",
    "# Print results\n",
    "# print('Mean training scores: \\n', *grid_clf.cv_results_['mean_test_score'], sep = '\\n')\n",
    "print(\"\\n Best estimator: \", best_clf)\n",
    "print(\n",
    "    \"Max mean training score: \\n\",\n",
    "    np.max(clf_grid.cv_results_[\"mean_test_score\"]),\n",
    "    sep=\"\\n\",\n",
    ")\n",
    "print(\"\\n Best estimator params: \")"
   ]
  },
  {
   "cell_type": "code",
   "execution_count": null,
   "metadata": {},
   "outputs": [],
   "source": [
    "LogisticRegression.get_params(LogisticRegression).keys()"
   ]
  },
  {
   "cell_type": "code",
   "execution_count": null,
   "metadata": {},
   "outputs": [],
   "source": []
  }
 ],
 "metadata": {
  "kernelspec": {
   "display_name": "Python 3",
   "language": "python",
   "name": "python3"
  },
  "language_info": {
   "codemirror_mode": {
    "name": "ipython",
    "version": 3
   },
   "file_extension": ".py",
   "mimetype": "text/x-python",
   "name": "python",
   "nbconvert_exporter": "python",
   "pygments_lexer": "ipython3",
   "version": "3.8.3"
  }
 },
 "nbformat": 4,
 "nbformat_minor": 4
}
