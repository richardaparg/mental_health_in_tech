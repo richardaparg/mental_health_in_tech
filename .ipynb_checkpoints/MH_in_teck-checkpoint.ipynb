{
 "cells": [
  {
   "cell_type": "code",
   "execution_count": 1,
   "metadata": {},
   "outputs": [
    {
     "data": {
      "application/javascript": [
       "\n",
       "            setTimeout(function() {\n",
       "                var nbb_cell_id = 1;\n",
       "                var nbb_unformatted_code = \"%load_ext nb_black\";\n",
       "                var nbb_formatted_code = \"%load_ext nb_black\";\n",
       "                var nbb_cells = Jupyter.notebook.get_cells();\n",
       "                for (var i = 0; i < nbb_cells.length; ++i) {\n",
       "                    if (nbb_cells[i].input_prompt_number == nbb_cell_id) {\n",
       "                        if (nbb_cells[i].get_text() == nbb_unformatted_code) {\n",
       "                             nbb_cells[i].set_text(nbb_formatted_code);\n",
       "                        }\n",
       "                        break;\n",
       "                    }\n",
       "                }\n",
       "            }, 500);\n",
       "            "
      ],
      "text/plain": [
       "<IPython.core.display.Javascript object>"
      ]
     },
     "metadata": {},
     "output_type": "display_data"
    }
   ],
   "source": [
    "%load_ext nb_black"
   ]
  },
  {
   "cell_type": "code",
   "execution_count": 31,
   "metadata": {},
   "outputs": [
    {
     "data": {
      "application/javascript": [
       "\n",
       "            setTimeout(function() {\n",
       "                var nbb_cell_id = 31;\n",
       "                var nbb_unformatted_code = \"import re\\nimport pandas as pd\\nimport numpy as np\\nimport matplotlib.pyplot as plt\\nimport seaborn as sns\\nfrom sklearn.preprocessing import OneHotEncoder\\nfrom sklearn.impute import KNNImputer\\nfrom sklearn.model_selection import train_test_split\\nfrom sklearn.preprocessing import StandardScaler\\nfrom sklearn.pipeline import Pipeline\\nfrom sklearn.model_selection import GridSearchCV\\nfrom sklearn.preprocessing import FunctionTransformer\\nfrom sklearn.preprocessing import MinMaxScaler\\nfrom sklearn.feature_selection import SelectKBest\\nfrom sklearn.feature_selection import chi2\\nfrom sklearn.linear_model import LogisticRegression\\nfrom sklearn import svm\\nfrom sklearn.ensemble import RandomForestClassifier\\nfrom sklearn.metrics import accuracy_score\\nfrom sklearn.metrics import precision_score\\nfrom sklearn.metrics import classification_report\\nimport pprint\\n\\n#from xgboost import XGBClassifier, plot_importance\\nfrom sklearn.feature_selection import RFECV\\n#from xgboost import XGBClassifier\\nfrom sklearn.metrics import accuracy_score\\n\\npd.options.mode.chained_assignment = None\";\n",
       "                var nbb_formatted_code = \"import re\\nimport pandas as pd\\nimport numpy as np\\nimport matplotlib.pyplot as plt\\nimport seaborn as sns\\nfrom sklearn.preprocessing import OneHotEncoder\\nfrom sklearn.impute import KNNImputer\\nfrom sklearn.model_selection import train_test_split\\nfrom sklearn.preprocessing import StandardScaler\\nfrom sklearn.pipeline import Pipeline\\nfrom sklearn.model_selection import GridSearchCV\\nfrom sklearn.preprocessing import FunctionTransformer\\nfrom sklearn.preprocessing import MinMaxScaler\\nfrom sklearn.feature_selection import SelectKBest\\nfrom sklearn.feature_selection import chi2\\nfrom sklearn.linear_model import LogisticRegression\\nfrom sklearn import svm\\nfrom sklearn.ensemble import RandomForestClassifier\\nfrom sklearn.metrics import accuracy_score\\nfrom sklearn.metrics import precision_score\\nfrom sklearn.metrics import classification_report\\nimport pprint\\n\\n# from xgboost import XGBClassifier, plot_importance\\nfrom sklearn.feature_selection import RFECV\\n\\n# from xgboost import XGBClassifier\\nfrom sklearn.metrics import accuracy_score\\n\\npd.options.mode.chained_assignment = None\";\n",
       "                var nbb_cells = Jupyter.notebook.get_cells();\n",
       "                for (var i = 0; i < nbb_cells.length; ++i) {\n",
       "                    if (nbb_cells[i].input_prompt_number == nbb_cell_id) {\n",
       "                        if (nbb_cells[i].get_text() == nbb_unformatted_code) {\n",
       "                             nbb_cells[i].set_text(nbb_formatted_code);\n",
       "                        }\n",
       "                        break;\n",
       "                    }\n",
       "                }\n",
       "            }, 500);\n",
       "            "
      ],
      "text/plain": [
       "<IPython.core.display.Javascript object>"
      ]
     },
     "metadata": {},
     "output_type": "display_data"
    }
   ],
   "source": [
    "import re\n",
    "import pandas as pd\n",
    "import numpy as np\n",
    "import matplotlib.pyplot as plt\n",
    "import seaborn as sns\n",
    "from sklearn.preprocessing import OneHotEncoder\n",
    "from sklearn.impute import KNNImputer\n",
    "from sklearn.model_selection import train_test_split\n",
    "from sklearn.preprocessing import StandardScaler\n",
    "from sklearn.pipeline import Pipeline\n",
    "from sklearn.model_selection import GridSearchCV\n",
    "from sklearn.preprocessing import FunctionTransformer\n",
    "from sklearn.preprocessing import MinMaxScaler\n",
    "from sklearn.feature_selection import SelectKBest\n",
    "from sklearn.feature_selection import chi2\n",
    "from sklearn.linear_model import LogisticRegression\n",
    "from sklearn import svm\n",
    "from sklearn.ensemble import RandomForestClassifier\n",
    "from sklearn.metrics import accuracy_score\n",
    "from sklearn.metrics import precision_score\n",
    "from sklearn.metrics import classification_report\n",
    "import pprint\n",
    "\n",
    "from xgboost import XGBClassifier, plot_importance\n",
    "from sklearn.feature_selection import RFECV\n",
    "\n",
    "from xgboost import XGBClassifier\n",
    "from sklearn.metrics import accuracy_score\n",
    "\n",
    "pd.options.mode.chained_assignment = None"
   ]
  },
  {
   "cell_type": "markdown",
   "metadata": {},
   "source": [
    "### Mental Health in Tech\n",
    "\n",
    "This notebook covers data cleaning, EDA and a prediction model for a dataset containing survey results about mental health for workers in the tech industry. Overall the quality of the survey data was realtively poor, limiting the predictive power of any resultant model."
   ]
  },
  {
   "cell_type": "markdown",
   "metadata": {},
   "source": [
    "#### Load Data"
   ]
  },
  {
   "cell_type": "code",
   "execution_count": 13,
   "metadata": {},
   "outputs": [
    {
     "data": {
      "application/javascript": [
       "\n",
       "            setTimeout(function() {\n",
       "                var nbb_cell_id = 13;\n",
       "                var nbb_unformatted_code = \"s16_df = pd.read_csv(\\n    \\\"C:/Users/rparg/Documents/Data/mental_health_in_tech/mental_health_in_tech_survey_2016.csv\\\"\\n)\\ns17_df = pd.read_csv(\\n    \\\"C:/Users/rparg/Documents/Data/mental_health_in_tech/mental_health_in_tech_survey_2017.csv\\\"\\n)\\ns18_df = pd.read_csv(\\n    \\\"C:/Users/rparg/Documents/Data/mental_health_in_tech/mental_health_in_tech_survey_2018.csv\\\"\\n)\";\n",
       "                var nbb_formatted_code = \"s16_df = pd.read_csv(\\n    \\\"C:/Users/rparg/Documents/Data/mental_health_in_tech/mental_health_in_tech_survey_2016.csv\\\"\\n)\\ns17_df = pd.read_csv(\\n    \\\"C:/Users/rparg/Documents/Data/mental_health_in_tech/mental_health_in_tech_survey_2017.csv\\\"\\n)\\ns18_df = pd.read_csv(\\n    \\\"C:/Users/rparg/Documents/Data/mental_health_in_tech/mental_health_in_tech_survey_2018.csv\\\"\\n)\";\n",
       "                var nbb_cells = Jupyter.notebook.get_cells();\n",
       "                for (var i = 0; i < nbb_cells.length; ++i) {\n",
       "                    if (nbb_cells[i].input_prompt_number == nbb_cell_id) {\n",
       "                        if (nbb_cells[i].get_text() == nbb_unformatted_code) {\n",
       "                             nbb_cells[i].set_text(nbb_formatted_code);\n",
       "                        }\n",
       "                        break;\n",
       "                    }\n",
       "                }\n",
       "            }, 500);\n",
       "            "
      ],
      "text/plain": [
       "<IPython.core.display.Javascript object>"
      ]
     },
     "metadata": {},
     "output_type": "display_data"
    }
   ],
   "source": [
    "s16_df = pd.read_csv(\n",
    "    \"C:/Users/rparg/Documents/Data/mental_health_in_tech/mental_health_in_tech_survey_2016.csv\"\n",
    ")\n",
    "s17_df = pd.read_csv(\n",
    "    \"C:/Users/rparg/Documents/Data/mental_health_in_tech/mental_health_in_tech_survey_2017.csv\"\n",
    ")\n",
    "s18_df = pd.read_csv(\n",
    "    \"C:/Users/rparg/Documents/Data/mental_health_in_tech/mental_health_in_tech_survey_2018.csv\"\n",
    ")"
   ]
  },
  {
   "cell_type": "markdown",
   "metadata": {},
   "source": [
    "#### Data Pre-Processing/Cleaning"
   ]
  },
  {
   "cell_type": "code",
   "execution_count": 14,
   "metadata": {},
   "outputs": [
    {
     "data": {
      "application/javascript": [
       "\n",
       "            setTimeout(function() {\n",
       "                var nbb_cell_id = 14;\n",
       "                var nbb_unformatted_code = \"# Text cleaning function\\n\\n\\ndef text_cleaner(text):\\n    text = str(text)\\n    text = text.lower()\\n    text = re.sub(\\\"<.*>\\\", \\\" \\\", text)\\n    text = re.sub(\\\"[,./?;:*&^%$#@!()-_=+]\\\", \\\" \\\", text)\\n    text = re.sub(\\\"[0-9]\\\", \\\" \\\", text)\\n    text = re.sub(\\\" +\\\", \\\" \\\", text)\\n    text = text.strip()\\n    text = re.sub(\\\" \\\", \\\"_\\\", text)\\n\\n    return text\\n\\n\\n# Function to run text_cleaner iteratively on column headers of df\\n\\n\\ndef header_cleaner(df):\\n    cleaned = [text_cleaner(column) for column in df.columns.values]\\n\\n    return cleaned\\n\\n\\n# Function to call text_cleaner on each row of a column (or series)\\n\\n\\ndef column_cleaner(col):\\n    cleaned = [text_cleaner(row) for row in col]\\n\\n    return cleaned\";\n",
       "                var nbb_formatted_code = \"# Text cleaning function\\n\\n\\ndef text_cleaner(text):\\n    text = str(text)\\n    text = text.lower()\\n    text = re.sub(\\\"<.*>\\\", \\\" \\\", text)\\n    text = re.sub(\\\"[,./?;:*&^%$#@!()-_=+]\\\", \\\" \\\", text)\\n    text = re.sub(\\\"[0-9]\\\", \\\" \\\", text)\\n    text = re.sub(\\\" +\\\", \\\" \\\", text)\\n    text = text.strip()\\n    text = re.sub(\\\" \\\", \\\"_\\\", text)\\n\\n    return text\\n\\n\\n# Function to run text_cleaner iteratively on column headers of df\\n\\n\\ndef header_cleaner(df):\\n    cleaned = [text_cleaner(column) for column in df.columns.values]\\n\\n    return cleaned\\n\\n\\n# Function to call text_cleaner on each row of a column (or series)\\n\\n\\ndef column_cleaner(col):\\n    cleaned = [text_cleaner(row) for row in col]\\n\\n    return cleaned\";\n",
       "                var nbb_cells = Jupyter.notebook.get_cells();\n",
       "                for (var i = 0; i < nbb_cells.length; ++i) {\n",
       "                    if (nbb_cells[i].input_prompt_number == nbb_cell_id) {\n",
       "                        if (nbb_cells[i].get_text() == nbb_unformatted_code) {\n",
       "                             nbb_cells[i].set_text(nbb_formatted_code);\n",
       "                        }\n",
       "                        break;\n",
       "                    }\n",
       "                }\n",
       "            }, 500);\n",
       "            "
      ],
      "text/plain": [
       "<IPython.core.display.Javascript object>"
      ]
     },
     "metadata": {},
     "output_type": "display_data"
    }
   ],
   "source": [
    "# Text cleaning function\n",
    "\n",
    "\n",
    "def text_cleaner(text):\n",
    "    text = str(text)\n",
    "    text = text.lower()\n",
    "    text = re.sub(\"<.*>\", \" \", text)\n",
    "    text = re.sub(\"[,./?;:*&^%$#@!()-_=+]\", \" \", text)\n",
    "    text = re.sub(\"[0-9]\", \" \", text)\n",
    "    text = re.sub(\" +\", \" \", text)\n",
    "    text = text.strip()\n",
    "    text = re.sub(\" \", \"_\", text)\n",
    "\n",
    "    return text\n",
    "\n",
    "\n",
    "# Function to run text_cleaner iteratively on column headers of df\n",
    "\n",
    "\n",
    "def header_cleaner(df):\n",
    "    cleaned = [text_cleaner(column) for column in df.columns.values]\n",
    "\n",
    "    return cleaned\n",
    "\n",
    "\n",
    "# Function to call text_cleaner on each row of a column (or series)\n",
    "\n",
    "\n",
    "def column_cleaner(col):\n",
    "    cleaned = [text_cleaner(row) for row in col]\n",
    "\n",
    "    return cleaned"
   ]
  },
  {
   "cell_type": "code",
   "execution_count": 21,
   "metadata": {
    "scrolled": true
   },
   "outputs": [
    {
     "data": {
      "application/javascript": [
       "\n",
       "            setTimeout(function() {\n",
       "                var nbb_cell_id = 21;\n",
       "                var nbb_unformatted_code = \"# Cleans the headers (questions) of each df (survey)\\n\\ns16_df.columns = column_cleaner(s16_df)\\ns17_df.columns = column_cleaner(s17_df)\\ns18_df.columns = column_cleaner(s18_df)\\n\\n# Creates three sets of column headers (questions) and prints the columns which are in all three surveys (intersection)\\n\\ns16 = set(header_cleaner(s16_df))\\ns17 = set(header_cleaner(s17_df))\\ns18 = set(header_cleaner(s18_df))\\ninter_cols = list(set.intersection(s16, s17, s18))\";\n",
       "                var nbb_formatted_code = \"# Cleans the headers (questions) of each df (survey)\\n\\ns16_df.columns = column_cleaner(s16_df)\\ns17_df.columns = column_cleaner(s17_df)\\ns18_df.columns = column_cleaner(s18_df)\\n\\n# Creates three sets of column headers (questions) and prints the columns which are in all three surveys (intersection)\\n\\ns16 = set(header_cleaner(s16_df))\\ns17 = set(header_cleaner(s17_df))\\ns18 = set(header_cleaner(s18_df))\\ninter_cols = list(set.intersection(s16, s17, s18))\";\n",
       "                var nbb_cells = Jupyter.notebook.get_cells();\n",
       "                for (var i = 0; i < nbb_cells.length; ++i) {\n",
       "                    if (nbb_cells[i].input_prompt_number == nbb_cell_id) {\n",
       "                        if (nbb_cells[i].get_text() == nbb_unformatted_code) {\n",
       "                             nbb_cells[i].set_text(nbb_formatted_code);\n",
       "                        }\n",
       "                        break;\n",
       "                    }\n",
       "                }\n",
       "            }, 500);\n",
       "            "
      ],
      "text/plain": [
       "<IPython.core.display.Javascript object>"
      ]
     },
     "metadata": {},
     "output_type": "display_data"
    }
   ],
   "source": [
    "# Cleans the headers (questions) of each df (survey)\n",
    "\n",
    "s16_df.columns = column_cleaner(s16_df)\n",
    "s17_df.columns = column_cleaner(s17_df)\n",
    "s18_df.columns = column_cleaner(s18_df)\n",
    "\n",
    "# Creates three sets of column headers (questions) and prints the columns which are in all three surveys (intersection)\n",
    "\n",
    "s16 = set(header_cleaner(s16_df))\n",
    "s17 = set(header_cleaner(s17_df))\n",
    "s18 = set(header_cleaner(s18_df))\n",
    "inter_cols = list(set.intersection(s16, s17, s18))"
   ]
  },
  {
   "cell_type": "code",
   "execution_count": 22,
   "metadata": {},
   "outputs": [
    {
     "data": {
      "application/javascript": [
       "\n",
       "            setTimeout(function() {\n",
       "                var nbb_cell_id = 22;\n",
       "                var nbb_unformatted_code = \"# Combines the responses for the overlaping questions from all three years into one df\\nall_df = pd.concat(\\n    [\\n        s16_df[inter_cols],\\n        s17_df[inter_cols],\\n        s18_df[inter_cols],\\n    ],\\n    axis=0,\\n    ignore_index=True,\\n).drop(columns=\\\"why_or_why_not\\\")\";\n",
       "                var nbb_formatted_code = \"# Combines the responses for the overlaping questions from all three years into one df\\nall_df = pd.concat(\\n    [\\n        s16_df[inter_cols],\\n        s17_df[inter_cols],\\n        s18_df[inter_cols],\\n    ],\\n    axis=0,\\n    ignore_index=True,\\n).drop(columns=\\\"why_or_why_not\\\")\";\n",
       "                var nbb_cells = Jupyter.notebook.get_cells();\n",
       "                for (var i = 0; i < nbb_cells.length; ++i) {\n",
       "                    if (nbb_cells[i].input_prompt_number == nbb_cell_id) {\n",
       "                        if (nbb_cells[i].get_text() == nbb_unformatted_code) {\n",
       "                             nbb_cells[i].set_text(nbb_formatted_code);\n",
       "                        }\n",
       "                        break;\n",
       "                    }\n",
       "                }\n",
       "            }, 500);\n",
       "            "
      ],
      "text/plain": [
       "<IPython.core.display.Javascript object>"
      ]
     },
     "metadata": {},
     "output_type": "display_data"
    }
   ],
   "source": [
    "# Combines the responses for the overlaping questions from all three years into one df\n",
    "all_df = pd.concat(\n",
    "    [\n",
    "        s16_df[inter_cols],\n",
    "        s17_df[inter_cols],\n",
    "        s18_df[inter_cols],\n",
    "    ],\n",
    "    axis=0,\n",
    "    ignore_index=True,\n",
    ").drop(columns=\"why_or_why_not\")"
   ]
  },
  {
   "cell_type": "markdown",
   "metadata": {},
   "source": [
    "#### Encoding/Mapping\n",
    "Certain questions used a drop-down menu of reponses similar to a Likert scale like:\n",
    " - very open\n",
    " - somewhat open\n",
    " - neutral\n",
    " - somewhat not open\n",
    " - very not open\n",
    " \n",
    " These need to be mapped to integers."
   ]
  },
  {
   "cell_type": "code",
   "execution_count": 23,
   "metadata": {},
   "outputs": [
    {
     "data": {
      "application/javascript": [
       "\n",
       "            setTimeout(function() {\n",
       "                var nbb_cell_id = 23;\n",
       "                var nbb_unformatted_code = \"# A dictionary used to map drop down responses to numeric values which can then be normalized\\nresp_dict = {\\n    \\\"Very open\\\": 10,\\n    \\\"Somewhat open\\\": 8,\\n    \\\"Neutral\\\": 5,\\n    \\\"Somewhat not open\\\": 2,\\n    \\\"Yes, always\\\": 2,\\n    \\\"Yes, they all did\\\": 2,\\n    \\\"Sometimes\\\": 1,\\n    \\\"Yes\\\": 1,\\n    \\\"Some did\\\": 1,\\n    \\\"Not open at all\\\": 0,\\n    \\\"Unsure\\\": 0,\\n    \\\"Not applicable to me\\\": 0,\\n    \\\"I don't know\\\": 0,\\n    \\\"Don't Know\\\": 0,\\n    \\\"Possibly\\\": 0,\\n    \\\"Maybe\\\": 0,\\n    \\\"No\\\": -1,\\n    \\\"None did\\\": -1,\\n    \\\"1-25%\\\": \\\"q1\\\",\\n    \\\"26-50%\\\": \\\"q2\\\",\\n    \\\"51-75%\\\": \\\"q3\\\",\\n    \\\"76-100%\\\": \\\"q4\\\",\\n}\\n\\n# A list of numeric keys from dict_quest which corrispond to dropdown response questions to be mapped to numeric values\\nnorm_cols = [\\n    \\\"if_yes_what_percentage_of_your_work_time_time_performing_primary_or_secondary_job_functions_is_affected_by_a_mental_health_issue\\\",\\n    \\\"did_your_previous_employers_ever_formally_discuss_mental_health_as_part_of_a_wellness_campaign_or_other_official_communication\\\",\\n    \\\"have_you_had_a_mental_health_disorder_in_the_past\\\",\\n    \\\"how_willing_would_you_be_to_share_with_friends_and_family_that_you_have_a_mental_illness\\\",\\n    \\\"is_your_anonymity_protected_if_you_choose_to_take_advantage_of_mental_health_or_substance_abuse_treatment_resources_provided_by_your_employer\\\",\\n    \\\"was_your_anonymity_protected_if_you_chose_to_take_advantage_of_mental_health_or_substance_abuse_treatment_resources_with_previous_employers\\\",\\n    \\\"has_your_employer_ever_formally_discussed_mental_health_for_example_as_part_of_a_wellness_campaign_or_other_official_communication\\\",\\n    \\\"do_you_have_a_family_history_of_mental_illness\\\",\\n    \\\"do_you_currently_have_a_mental_health_disorder\\\",\\n    \\\"do_you_believe_your_productivity_is_ever_affected_by_a_mental_health_issue\\\",\\n]\\n\\n# Maps each column in quest_norm to numerics\\nfor col in norm_cols:\\n    all_df[col] = all_df[col].map(resp_dict)\";\n",
       "                var nbb_formatted_code = \"# A dictionary used to map drop down responses to numeric values which can then be normalized\\nresp_dict = {\\n    \\\"Very open\\\": 10,\\n    \\\"Somewhat open\\\": 8,\\n    \\\"Neutral\\\": 5,\\n    \\\"Somewhat not open\\\": 2,\\n    \\\"Yes, always\\\": 2,\\n    \\\"Yes, they all did\\\": 2,\\n    \\\"Sometimes\\\": 1,\\n    \\\"Yes\\\": 1,\\n    \\\"Some did\\\": 1,\\n    \\\"Not open at all\\\": 0,\\n    \\\"Unsure\\\": 0,\\n    \\\"Not applicable to me\\\": 0,\\n    \\\"I don't know\\\": 0,\\n    \\\"Don't Know\\\": 0,\\n    \\\"Possibly\\\": 0,\\n    \\\"Maybe\\\": 0,\\n    \\\"No\\\": -1,\\n    \\\"None did\\\": -1,\\n    \\\"1-25%\\\": \\\"q1\\\",\\n    \\\"26-50%\\\": \\\"q2\\\",\\n    \\\"51-75%\\\": \\\"q3\\\",\\n    \\\"76-100%\\\": \\\"q4\\\",\\n}\\n\\n# A list of numeric keys from dict_quest which corrispond to dropdown response questions to be mapped to numeric values\\nnorm_cols = [\\n    \\\"if_yes_what_percentage_of_your_work_time_time_performing_primary_or_secondary_job_functions_is_affected_by_a_mental_health_issue\\\",\\n    \\\"did_your_previous_employers_ever_formally_discuss_mental_health_as_part_of_a_wellness_campaign_or_other_official_communication\\\",\\n    \\\"have_you_had_a_mental_health_disorder_in_the_past\\\",\\n    \\\"how_willing_would_you_be_to_share_with_friends_and_family_that_you_have_a_mental_illness\\\",\\n    \\\"is_your_anonymity_protected_if_you_choose_to_take_advantage_of_mental_health_or_substance_abuse_treatment_resources_provided_by_your_employer\\\",\\n    \\\"was_your_anonymity_protected_if_you_chose_to_take_advantage_of_mental_health_or_substance_abuse_treatment_resources_with_previous_employers\\\",\\n    \\\"has_your_employer_ever_formally_discussed_mental_health_for_example_as_part_of_a_wellness_campaign_or_other_official_communication\\\",\\n    \\\"do_you_have_a_family_history_of_mental_illness\\\",\\n    \\\"do_you_currently_have_a_mental_health_disorder\\\",\\n    \\\"do_you_believe_your_productivity_is_ever_affected_by_a_mental_health_issue\\\",\\n]\\n\\n# Maps each column in quest_norm to numerics\\nfor col in norm_cols:\\n    all_df[col] = all_df[col].map(resp_dict)\";\n",
       "                var nbb_cells = Jupyter.notebook.get_cells();\n",
       "                for (var i = 0; i < nbb_cells.length; ++i) {\n",
       "                    if (nbb_cells[i].input_prompt_number == nbb_cell_id) {\n",
       "                        if (nbb_cells[i].get_text() == nbb_unformatted_code) {\n",
       "                             nbb_cells[i].set_text(nbb_formatted_code);\n",
       "                        }\n",
       "                        break;\n",
       "                    }\n",
       "                }\n",
       "            }, 500);\n",
       "            "
      ],
      "text/plain": [
       "<IPython.core.display.Javascript object>"
      ]
     },
     "metadata": {},
     "output_type": "display_data"
    }
   ],
   "source": [
    "# A dictionary used to map drop down responses to numeric values which can then be normalized\n",
    "resp_dict = {\n",
    "    \"Very open\": 10,\n",
    "    \"Somewhat open\": 8,\n",
    "    \"Neutral\": 5,\n",
    "    \"Somewhat not open\": 2,\n",
    "    \"Yes, always\": 2,\n",
    "    \"Yes, they all did\": 2,\n",
    "    \"Sometimes\": 1,\n",
    "    \"Yes\": 1,\n",
    "    \"Some did\": 1,\n",
    "    \"Not open at all\": 0,\n",
    "    \"Unsure\": 0,\n",
    "    \"Not applicable to me\": 0,\n",
    "    \"I don't know\": 0,\n",
    "    \"Don't Know\": 0,\n",
    "    \"Possibly\": 0,\n",
    "    \"Maybe\": 0,\n",
    "    \"No\": -1,\n",
    "    \"None did\": -1,\n",
    "    \"1-25%\": \"q1\",\n",
    "    \"26-50%\": \"q2\",\n",
    "    \"51-75%\": \"q3\",\n",
    "    \"76-100%\": \"q4\",\n",
    "}\n",
    "\n",
    "# A list of numeric keys from dict_quest which corrispond to dropdown response questions to be mapped to numeric values\n",
    "norm_cols = [\n",
    "    \"if_yes_what_percentage_of_your_work_time_time_performing_primary_or_secondary_job_functions_is_affected_by_a_mental_health_issue\",\n",
    "    \"did_your_previous_employers_ever_formally_discuss_mental_health_as_part_of_a_wellness_campaign_or_other_official_communication\",\n",
    "    \"have_you_had_a_mental_health_disorder_in_the_past\",\n",
    "    \"how_willing_would_you_be_to_share_with_friends_and_family_that_you_have_a_mental_illness\",\n",
    "    \"is_your_anonymity_protected_if_you_choose_to_take_advantage_of_mental_health_or_substance_abuse_treatment_resources_provided_by_your_employer\",\n",
    "    \"was_your_anonymity_protected_if_you_chose_to_take_advantage_of_mental_health_or_substance_abuse_treatment_resources_with_previous_employers\",\n",
    "    \"has_your_employer_ever_formally_discussed_mental_health_for_example_as_part_of_a_wellness_campaign_or_other_official_communication\",\n",
    "    \"do_you_have_a_family_history_of_mental_illness\",\n",
    "    \"do_you_currently_have_a_mental_health_disorder\",\n",
    "    \"do_you_believe_your_productivity_is_ever_affected_by_a_mental_health_issue\",\n",
    "]\n",
    "\n",
    "# Maps each column in quest_norm to numerics\n",
    "for col in norm_cols:\n",
    "    all_df[col] = all_df[col].map(resp_dict)"
   ]
  },
  {
   "cell_type": "markdown",
   "metadata": {},
   "source": [
    "#### High Cardinality Fields (Free-form Text)\n",
    "\n",
    "Some fields appear to be free-form text, and so have very high cardinality in their reponses. One such column is gender, which is manually mapped to a smaller subset of values.\n"
   ]
  },
  {
   "cell_type": "code",
   "execution_count": 24,
   "metadata": {},
   "outputs": [
    {
     "data": {
      "application/javascript": [
       "\n",
       "            setTimeout(function() {\n",
       "                var nbb_cell_id = 24;\n",
       "                var nbb_unformatted_code = \"# Cleans the text responses to question 8 \\\"what is your gender\\\"\\nall_df[\\\"what_is_your_gender\\\"] = column_cleaner(all_df[\\\"what_is_your_gender\\\"])\\n\\n# Creates a dictionary which maps the most common (binary) responses (mostly frequent text fillable typos) to \\\"what is your gender\\\"\\nm_list = [\\n    \\\"male\\\",\\n    \\\"m\\\",\\n    \\\"man\\\",\\n    \\\"cis_male\\\",\\n    \\\"male_cis\\\",\\n    \\\"sex_is_male\\\",\\n    \\\"malr\\\",\\n    \\\"dude\\\",\\n    \\\"mail\\\",\\n    \\\"male_trans_ftm\\\",\\n    \\\"cisdude\\\",\\n    \\\"m|\\\",\\n    \\\"cis_man\\\",\\n    \\\"male_androgynous\\\",\\n    \\\"cis_hetero_male\\\",\\n    \\\"male_ish\\\",\\n    \\\"ostensibly_male\\\",\\n    \\\"male_born_with_xy_chromosoms\\\",\\n    \\\"malel\\\",\\n    \\\"trans_man\\\",\\n    \\\"cisgender_male\\\",\\n]\\nf_list = [\\n    \\\"female\\\",\\n    \\\"i_identify_as_female\\\",\\n    \\\"female_assigned_at_birth\\\",\\n    \\\"f\\\",\\n    \\\"woman\\\",\\n    \\\"fm\\\",\\n    \\\"cis_female\\\",\\n    \\\"transitioned_m_f\\\",\\n    \\\"female_woman\\\",\\n    \\\"cisgender_female\\\",\\n    \\\"mtf\\\",\\n    \\\"fem\\\",\\n    \\\"cis_woman\\\",\\n    \\\"transgender_woman\\\",\\n    \\\"femalw\\\",\\n    \\\"femail\\\",\\n    \\\"female_cis\\\",\\n    \\\"my_sex_is_female\\\",\\n    \\\"female_cisgender\\\",\\n    \\\"woman_identified\\\",\\n    \\\"f_cisgender\\\",\\n    \\\"female_ish\\\",\\n    \\\"trans_woman\\\",\\n    \\\"transfeminine\\\",\\n    \\\"female_gender_non_binary\\\",\\n    \\\"cisgendered_woman\\\",\\n    \\\"trans_female\\\",\\n    \\\"gender_non_conforming_woman\\\",\\n]\\n\\n# Creates a dictionary from m_list and f_list with response keys and either m or f as values\\nsex_dict = {**dict.fromkeys(m_list, \\\"m\\\"), **dict.fromkeys(f_list, \\\"f\\\")}\\n\\n# Creates a new column 'sex' with catagories [m,f,o]\\nall_df[\\\"sex\\\"] = all_df[\\\"what_is_your_gender\\\"].map(sex_dict)\\n\\n# Joins to all_df a one hot encoding of 'sex'. Note 'sex' = other is encoded as 'm' = 0, 'f' = 0\\n# This includes all responses not found in sex_dict which represent <5% of responses\\nall_df = all_df.join(pd.get_dummies(all_df[\\\"sex\\\"]))\\n\\n# Adds label 'o' (other) to 'sex'\\nall_df[\\\"sex\\\"].fillna(\\\"o\\\", inplace=True)\\n\\n# Sets ages outside 15-75 to NaN\\nall_df.loc[\\n    (all_df[\\\"what_is_your_age\\\"] > 75) | (all_df[\\\"what_is_your_age\\\"] < 15),\\n    \\\"what_is_your_age\\\",\\n] = np.NaN\";\n",
       "                var nbb_formatted_code = \"# Cleans the text responses to question 8 \\\"what is your gender\\\"\\nall_df[\\\"what_is_your_gender\\\"] = column_cleaner(all_df[\\\"what_is_your_gender\\\"])\\n\\n# Creates a dictionary which maps the most common (binary) responses (mostly frequent text fillable typos) to \\\"what is your gender\\\"\\nm_list = [\\n    \\\"male\\\",\\n    \\\"m\\\",\\n    \\\"man\\\",\\n    \\\"cis_male\\\",\\n    \\\"male_cis\\\",\\n    \\\"sex_is_male\\\",\\n    \\\"malr\\\",\\n    \\\"dude\\\",\\n    \\\"mail\\\",\\n    \\\"male_trans_ftm\\\",\\n    \\\"cisdude\\\",\\n    \\\"m|\\\",\\n    \\\"cis_man\\\",\\n    \\\"male_androgynous\\\",\\n    \\\"cis_hetero_male\\\",\\n    \\\"male_ish\\\",\\n    \\\"ostensibly_male\\\",\\n    \\\"male_born_with_xy_chromosoms\\\",\\n    \\\"malel\\\",\\n    \\\"trans_man\\\",\\n    \\\"cisgender_male\\\",\\n]\\nf_list = [\\n    \\\"female\\\",\\n    \\\"i_identify_as_female\\\",\\n    \\\"female_assigned_at_birth\\\",\\n    \\\"f\\\",\\n    \\\"woman\\\",\\n    \\\"fm\\\",\\n    \\\"cis_female\\\",\\n    \\\"transitioned_m_f\\\",\\n    \\\"female_woman\\\",\\n    \\\"cisgender_female\\\",\\n    \\\"mtf\\\",\\n    \\\"fem\\\",\\n    \\\"cis_woman\\\",\\n    \\\"transgender_woman\\\",\\n    \\\"femalw\\\",\\n    \\\"femail\\\",\\n    \\\"female_cis\\\",\\n    \\\"my_sex_is_female\\\",\\n    \\\"female_cisgender\\\",\\n    \\\"woman_identified\\\",\\n    \\\"f_cisgender\\\",\\n    \\\"female_ish\\\",\\n    \\\"trans_woman\\\",\\n    \\\"transfeminine\\\",\\n    \\\"female_gender_non_binary\\\",\\n    \\\"cisgendered_woman\\\",\\n    \\\"trans_female\\\",\\n    \\\"gender_non_conforming_woman\\\",\\n]\\n\\n# Creates a dictionary from m_list and f_list with response keys and either m or f as values\\nsex_dict = {**dict.fromkeys(m_list, \\\"m\\\"), **dict.fromkeys(f_list, \\\"f\\\")}\\n\\n# Creates a new column 'sex' with catagories [m,f,o]\\nall_df[\\\"sex\\\"] = all_df[\\\"what_is_your_gender\\\"].map(sex_dict)\\n\\n# Joins to all_df a one hot encoding of 'sex'. Note 'sex' = other is encoded as 'm' = 0, 'f' = 0\\n# This includes all responses not found in sex_dict which represent <5% of responses\\nall_df = all_df.join(pd.get_dummies(all_df[\\\"sex\\\"]))\\n\\n# Adds label 'o' (other) to 'sex'\\nall_df[\\\"sex\\\"].fillna(\\\"o\\\", inplace=True)\\n\\n# Sets ages outside 15-75 to NaN\\nall_df.loc[\\n    (all_df[\\\"what_is_your_age\\\"] > 75) | (all_df[\\\"what_is_your_age\\\"] < 15),\\n    \\\"what_is_your_age\\\",\\n] = np.NaN\";\n",
       "                var nbb_cells = Jupyter.notebook.get_cells();\n",
       "                for (var i = 0; i < nbb_cells.length; ++i) {\n",
       "                    if (nbb_cells[i].input_prompt_number == nbb_cell_id) {\n",
       "                        if (nbb_cells[i].get_text() == nbb_unformatted_code) {\n",
       "                             nbb_cells[i].set_text(nbb_formatted_code);\n",
       "                        }\n",
       "                        break;\n",
       "                    }\n",
       "                }\n",
       "            }, 500);\n",
       "            "
      ],
      "text/plain": [
       "<IPython.core.display.Javascript object>"
      ]
     },
     "metadata": {},
     "output_type": "display_data"
    }
   ],
   "source": [
    "# Cleans the text responses to question 8 \"what is your gender\"\n",
    "all_df[\"what_is_your_gender\"] = column_cleaner(all_df[\"what_is_your_gender\"])\n",
    "\n",
    "# Creates a dictionary which maps the most common (binary) responses (mostly frequent text fillable typos) to \"what is your gender\"\n",
    "m_list = [\n",
    "    \"male\",\n",
    "    \"m\",\n",
    "    \"man\",\n",
    "    \"cis_male\",\n",
    "    \"male_cis\",\n",
    "    \"sex_is_male\",\n",
    "    \"malr\",\n",
    "    \"dude\",\n",
    "    \"mail\",\n",
    "    \"male_trans_ftm\",\n",
    "    \"cisdude\",\n",
    "    \"m|\",\n",
    "    \"cis_man\",\n",
    "    \"male_androgynous\",\n",
    "    \"cis_hetero_male\",\n",
    "    \"male_ish\",\n",
    "    \"ostensibly_male\",\n",
    "    \"male_born_with_xy_chromosoms\",\n",
    "    \"malel\",\n",
    "    \"trans_man\",\n",
    "    \"cisgender_male\",\n",
    "]\n",
    "f_list = [\n",
    "    \"female\",\n",
    "    \"i_identify_as_female\",\n",
    "    \"female_assigned_at_birth\",\n",
    "    \"f\",\n",
    "    \"woman\",\n",
    "    \"fm\",\n",
    "    \"cis_female\",\n",
    "    \"transitioned_m_f\",\n",
    "    \"female_woman\",\n",
    "    \"cisgender_female\",\n",
    "    \"mtf\",\n",
    "    \"fem\",\n",
    "    \"cis_woman\",\n",
    "    \"transgender_woman\",\n",
    "    \"femalw\",\n",
    "    \"femail\",\n",
    "    \"female_cis\",\n",
    "    \"my_sex_is_female\",\n",
    "    \"female_cisgender\",\n",
    "    \"woman_identified\",\n",
    "    \"f_cisgender\",\n",
    "    \"female_ish\",\n",
    "    \"trans_woman\",\n",
    "    \"transfeminine\",\n",
    "    \"female_gender_non_binary\",\n",
    "    \"cisgendered_woman\",\n",
    "    \"trans_female\",\n",
    "    \"gender_non_conforming_woman\",\n",
    "]\n",
    "\n",
    "# Creates a dictionary from m_list and f_list with response keys and either m or f as values\n",
    "sex_dict = {**dict.fromkeys(m_list, \"m\"), **dict.fromkeys(f_list, \"f\")}\n",
    "\n",
    "# Creates a new column 'sex' with catagories [m,f,o]\n",
    "all_df[\"sex\"] = all_df[\"what_is_your_gender\"].map(sex_dict)\n",
    "\n",
    "# Joins to all_df a one hot encoding of 'sex'. Note 'sex' = other is encoded as 'm' = 0, 'f' = 0\n",
    "# This includes all responses not found in sex_dict which represent <5% of responses\n",
    "all_df = all_df.join(pd.get_dummies(all_df[\"sex\"]))\n",
    "\n",
    "# Adds label 'o' (other) to 'sex'\n",
    "all_df[\"sex\"].fillna(\"o\", inplace=True)\n",
    "\n",
    "# Sets ages outside 15-75 to NaN\n",
    "all_df.loc[\n",
    "    (all_df[\"what_is_your_age\"] > 75) | (all_df[\"what_is_your_age\"] < 15),\n",
    "    \"what_is_your_age\",\n",
    "] = np.NaN"
   ]
  },
  {
   "cell_type": "markdown",
   "metadata": {},
   "source": [
    "#### Encoding"
   ]
  },
  {
   "cell_type": "code",
   "execution_count": 25,
   "metadata": {},
   "outputs": [
    {
     "data": {
      "application/javascript": [
       "\n",
       "            setTimeout(function() {\n",
       "                var nbb_cell_id = 25;\n",
       "                var nbb_unformatted_code = \"# One Hot Encodes Percentage of work time affected by mental health\\n\\nall_df = all_df.join(\\n    pd.DataFrame(\\n        pd.get_dummies(\\n            all_df[\\n                \\\"if_yes_what_percentage_of_your_work_time_time_performing_primary_or_secondary_job_functions_is_affected_by_a_mental_health_issue\\\"\\n            ]\\n        ),\\n        columns=[\\\"q1\\\", \\\"q2\\\", \\\"q3\\\", \\\"q4\\\"],\\n    )\\n)\";\n",
       "                var nbb_formatted_code = \"# One Hot Encodes Percentage of work time affected by mental health\\n\\nall_df = all_df.join(\\n    pd.DataFrame(\\n        pd.get_dummies(\\n            all_df[\\n                \\\"if_yes_what_percentage_of_your_work_time_time_performing_primary_or_secondary_job_functions_is_affected_by_a_mental_health_issue\\\"\\n            ]\\n        ),\\n        columns=[\\\"q1\\\", \\\"q2\\\", \\\"q3\\\", \\\"q4\\\"],\\n    )\\n)\";\n",
       "                var nbb_cells = Jupyter.notebook.get_cells();\n",
       "                for (var i = 0; i < nbb_cells.length; ++i) {\n",
       "                    if (nbb_cells[i].input_prompt_number == nbb_cell_id) {\n",
       "                        if (nbb_cells[i].get_text() == nbb_unformatted_code) {\n",
       "                             nbb_cells[i].set_text(nbb_formatted_code);\n",
       "                        }\n",
       "                        break;\n",
       "                    }\n",
       "                }\n",
       "            }, 500);\n",
       "            "
      ],
      "text/plain": [
       "<IPython.core.display.Javascript object>"
      ]
     },
     "metadata": {},
     "output_type": "display_data"
    }
   ],
   "source": [
    "# One Hot Encodes Percentage of work time affected by mental health\n",
    "\n",
    "all_df = all_df.join(\n",
    "    pd.DataFrame(\n",
    "        pd.get_dummies(\n",
    "            all_df[\n",
    "                \"if_yes_what_percentage_of_your_work_time_time_performing_primary_or_secondary_job_functions_is_affected_by_a_mental_health_issue\"\n",
    "            ]\n",
    "        ),\n",
    "        columns=[\"q1\", \"q2\", \"q3\", \"q4\"],\n",
    "    )\n",
    ")"
   ]
  },
  {
   "cell_type": "code",
   "execution_count": 26,
   "metadata": {},
   "outputs": [
    {
     "data": {
      "application/javascript": [
       "\n",
       "            setTimeout(function() {\n",
       "                var nbb_cell_id = 26;\n",
       "                var nbb_unformatted_code = \"# Joins to all_df a one hot encoding of 'How many employes...'.\\n# These responses are treated as a categorical variable as the size of the employing company and likely has a discrete relation with employee experience\\n\\nall_df = all_df.join(\\n    pd.get_dummies(all_df[\\\"how_many_employees_does_your_company_or_organization_have\\\"])\\n)\";\n",
       "                var nbb_formatted_code = \"# Joins to all_df a one hot encoding of 'How many employes...'.\\n# These responses are treated as a categorical variable as the size of the employing company and likely has a discrete relation with employee experience\\n\\nall_df = all_df.join(\\n    pd.get_dummies(all_df[\\\"how_many_employees_does_your_company_or_organization_have\\\"])\\n)\";\n",
       "                var nbb_cells = Jupyter.notebook.get_cells();\n",
       "                for (var i = 0; i < nbb_cells.length; ++i) {\n",
       "                    if (nbb_cells[i].input_prompt_number == nbb_cell_id) {\n",
       "                        if (nbb_cells[i].get_text() == nbb_unformatted_code) {\n",
       "                             nbb_cells[i].set_text(nbb_formatted_code);\n",
       "                        }\n",
       "                        break;\n",
       "                    }\n",
       "                }\n",
       "            }, 500);\n",
       "            "
      ],
      "text/plain": [
       "<IPython.core.display.Javascript object>"
      ]
     },
     "metadata": {},
     "output_type": "display_data"
    }
   ],
   "source": [
    "# Joins to all_df a one hot encoding of 'How many employees...'.\n",
    "# These responses are treated as a categorical variable as the size of the employing company and likely has a discrete relation with employee experience\n",
    "\n",
    "all_df = all_df.join(\n",
    "    pd.get_dummies(all_df[\"how_many_employees_does_your_company_or_organization_have\"])\n",
    ")\n",
    "\n",
    "\n"
   ]
  },
  {
   "cell_type": "markdown",
   "metadata": {},
   "source": [
    "#### Model\n",
    "\n",
    "This dataset has several issues, primarily due to the inconsistency between survey question between survey years and the low number of responses to many of the questions. A large number of the fields are not suitable for prediction.\n",
    "\n",
    "We were originally interested in predicting the reponse to the survey question: \n",
    " - Do you believe your productivity is ever affected by a mental health issue?"
   ]
  },
  {
   "cell_type": "code",
   "execution_count": 11,
   "metadata": {},
   "outputs": [
    {
     "data": {
      "text/html": [
       "<div>\n",
       "<style scoped>\n",
       "    .dataframe tbody tr th:only-of-type {\n",
       "        vertical-align: middle;\n",
       "    }\n",
       "\n",
       "    .dataframe tbody tr th {\n",
       "        vertical-align: top;\n",
       "    }\n",
       "\n",
       "    .dataframe thead th {\n",
       "        text-align: right;\n",
       "    }\n",
       "</style>\n",
       "<table border=\"1\" class=\"dataframe\">\n",
       "  <thead>\n",
       "    <tr style=\"text-align: right;\">\n",
       "      <th></th>\n",
       "      <th></th>\n",
       "      <th>what_is_your_age</th>\n",
       "      <th>do_you_believe_your_productivity_is_ever_affected_by_a_mental_health_issue</th>\n",
       "      <th>if_yes_what_percentage_of_your_work_time_time_performing_primary_or_secondary_job_functions_is_affected_by_a_mental_health_issue</th>\n",
       "    </tr>\n",
       "    <tr>\n",
       "      <th>do_you_currently_have_a_mental_health_disorder</th>\n",
       "      <th>have_you_had_a_mental_health_disorder_in_the_past</th>\n",
       "      <th></th>\n",
       "      <th></th>\n",
       "      <th></th>\n",
       "    </tr>\n",
       "  </thead>\n",
       "  <tbody>\n",
       "    <tr>\n",
       "      <th rowspan=\"3\" valign=\"top\">-1</th>\n",
       "      <th>-1</th>\n",
       "      <td>607</td>\n",
       "      <td>514</td>\n",
       "      <td>583</td>\n",
       "    </tr>\n",
       "    <tr>\n",
       "      <th>0</th>\n",
       "      <td>113</td>\n",
       "      <td>90</td>\n",
       "      <td>101</td>\n",
       "    </tr>\n",
       "    <tr>\n",
       "      <th>1</th>\n",
       "      <td>145</td>\n",
       "      <td>121</td>\n",
       "      <td>127</td>\n",
       "    </tr>\n",
       "    <tr>\n",
       "      <th rowspan=\"3\" valign=\"top\">0</th>\n",
       "      <th>-1</th>\n",
       "      <td>129</td>\n",
       "      <td>108</td>\n",
       "      <td>115</td>\n",
       "    </tr>\n",
       "    <tr>\n",
       "      <th>0</th>\n",
       "      <td>330</td>\n",
       "      <td>268</td>\n",
       "      <td>281</td>\n",
       "    </tr>\n",
       "    <tr>\n",
       "      <th>1</th>\n",
       "      <td>192</td>\n",
       "      <td>156</td>\n",
       "      <td>159</td>\n",
       "    </tr>\n",
       "    <tr>\n",
       "      <th rowspan=\"3\" valign=\"top\">1</th>\n",
       "      <th>-1</th>\n",
       "      <td>53</td>\n",
       "      <td>49</td>\n",
       "      <td>50</td>\n",
       "    </tr>\n",
       "    <tr>\n",
       "      <th>0</th>\n",
       "      <td>91</td>\n",
       "      <td>74</td>\n",
       "      <td>75</td>\n",
       "    </tr>\n",
       "    <tr>\n",
       "      <th>1</th>\n",
       "      <td>934</td>\n",
       "      <td>761</td>\n",
       "      <td>776</td>\n",
       "    </tr>\n",
       "  </tbody>\n",
       "</table>\n",
       "</div>"
      ],
      "text/plain": [
       "                                                                                                  what_is_your_age  \\\n",
       "do_you_currently_have_a_mental_health_disorder have_you_had_a_mental_health_disorder_in_the_past                     \n",
       "-1                                             -1                                                              607   \n",
       "                                                0                                                              113   \n",
       "                                                1                                                              145   \n",
       " 0                                             -1                                                              129   \n",
       "                                                0                                                              330   \n",
       "                                                1                                                              192   \n",
       " 1                                             -1                                                               53   \n",
       "                                                0                                                               91   \n",
       "                                                1                                                              934   \n",
       "\n",
       "                                                                                                  do_you_believe_your_productivity_is_ever_affected_by_a_mental_health_issue  \\\n",
       "do_you_currently_have_a_mental_health_disorder have_you_had_a_mental_health_disorder_in_the_past                                                                               \n",
       "-1                                             -1                                                                                               514                            \n",
       "                                                0                                                                                                90                            \n",
       "                                                1                                                                                               121                            \n",
       " 0                                             -1                                                                                               108                            \n",
       "                                                0                                                                                               268                            \n",
       "                                                1                                                                                               156                            \n",
       " 1                                             -1                                                                                                49                            \n",
       "                                                0                                                                                                74                            \n",
       "                                                1                                                                                               761                            \n",
       "\n",
       "                                                                                                  if_yes_what_percentage_of_your_work_time_time_performing_primary_or_secondary_job_functions_is_affected_by_a_mental_health_issue  \n",
       "do_you_currently_have_a_mental_health_disorder have_you_had_a_mental_health_disorder_in_the_past                                                                                                                                    \n",
       "-1                                             -1                                                                                               583                                                                                 \n",
       "                                                0                                                                                               101                                                                                 \n",
       "                                                1                                                                                               127                                                                                 \n",
       " 0                                             -1                                                                                               115                                                                                 \n",
       "                                                0                                                                                               281                                                                                 \n",
       "                                                1                                                                                               159                                                                                 \n",
       " 1                                             -1                                                                                                50                                                                                 \n",
       "                                                0                                                                                                75                                                                                 \n",
       "                                                1                                                                                               776                                                                                 "
      ]
     },
     "execution_count": 11,
     "metadata": {},
     "output_type": "execute_result"
    },
    {
     "data": {
      "application/javascript": [
       "\n",
       "            setTimeout(function() {\n",
       "                var nbb_cell_id = 11;\n",
       "                var nbb_unformatted_code = \"all_df.groupby(\\n    [\\n        \\\"do_you_currently_have_a_mental_health_disorder\\\",\\n        \\\"have_you_had_a_mental_health_disorder_in_the_past\\\",\\n    ]\\n).agg(\\n    {\\n        \\\"what_is_your_age\\\": \\\"size\\\",\\n        \\\"do_you_believe_your_productivity_is_ever_affected_by_a_mental_health_issue\\\": lambda x: x.isnull().sum(),\\n        \\\"if_yes_what_percentage_of_your_work_time_time_performing_primary_or_secondary_job_functions_is_affected_by_a_mental_health_issue\\\": lambda x: x.isnull().sum(),\\n    }\\n)\";\n",
       "                var nbb_formatted_code = \"all_df.groupby(\\n    [\\n        \\\"do_you_currently_have_a_mental_health_disorder\\\",\\n        \\\"have_you_had_a_mental_health_disorder_in_the_past\\\",\\n    ]\\n).agg(\\n    {\\n        \\\"what_is_your_age\\\": \\\"size\\\",\\n        \\\"do_you_believe_your_productivity_is_ever_affected_by_a_mental_health_issue\\\": lambda x: x.isnull().sum(),\\n        \\\"if_yes_what_percentage_of_your_work_time_time_performing_primary_or_secondary_job_functions_is_affected_by_a_mental_health_issue\\\": lambda x: x.isnull().sum(),\\n    }\\n)\";\n",
       "                var nbb_cells = Jupyter.notebook.get_cells();\n",
       "                for (var i = 0; i < nbb_cells.length; ++i) {\n",
       "                    if (nbb_cells[i].input_prompt_number == nbb_cell_id) {\n",
       "                        if (nbb_cells[i].get_text() == nbb_unformatted_code) {\n",
       "                             nbb_cells[i].set_text(nbb_formatted_code);\n",
       "                        }\n",
       "                        break;\n",
       "                    }\n",
       "                }\n",
       "            }, 500);\n",
       "            "
      ],
      "text/plain": [
       "<IPython.core.display.Javascript object>"
      ]
     },
     "metadata": {},
     "output_type": "display_data"
    }
   ],
   "source": [
    "# Let's just check some null responses first\n",
    "all_df.groupby(\n",
    "    [\n",
    "        \"do_you_currently_have_a_mental_health_disorder\",\n",
    "        \"have_you_had_a_mental_health_disorder_in_the_past\",\n",
    "    ]\n",
    ").agg(\n",
    "    {\n",
    "        \"what_is_your_age\": \"size\",\n",
    "        \"do_you_believe_your_productivity_is_ever_affected_by_a_mental_health_issue\": lambda x: x.isnull().sum(),\n",
    "        \"if_yes_what_percentage_of_your_work_time_time_performing_primary_or_secondary_job_functions_is_affected_by_a_mental_health_issue\": lambda x: x.isnull().sum(),\n",
    "    }\n",
    ")"
   ]
  },
  {
   "cell_type": "markdown",
   "metadata": {},
   "source": [
    "However, there are too few reponses to the question within this survey dataset. Instead, we will choose our label to be;\n",
    "\n",
    " - Would you  be willing to bring up a physical health issue with a potential employer in an interview?"
   ]
  },
  {
   "cell_type": "markdown",
   "metadata": {},
   "source": [
    "#### Imputation"
   ]
  },
  {
   "cell_type": "code",
   "execution_count": 27,
   "metadata": {
    "scrolled": false
   },
   "outputs": [
    {
     "data": {
      "application/javascript": [
       "\n",
       "            setTimeout(function() {\n",
       "                var nbb_cell_id = 27;\n",
       "                var nbb_unformatted_code = \"# Imputes the missing values using KNN clustering\\nimputer = KNNImputer(n_neighbors=2, weights=\\\"uniform\\\")\\n\\nimpute_cols = [\\n    \\\"is_your_employer_primarily_a_tech_company_organization\\\",\\n    \\\"is_your_primary_role_within_your_company_related_to_tech_it\\\",\\n    \\\"do_you_believe_your_productivity_is_ever_affected_by_a_mental_health_issue\\\",\\n    \\\"have_you_had_a_mental_health_disorder_in_the_past\\\",\\n    \\\"was_your_anonymity_protected_if_you_chose_to_take_advantage_of_mental_health_or_substance_abuse_treatment_resources_with_previous_employers\\\",\\n    \\\"how_willing_would_you_be_to_share_with_friends_and_family_that_you_have_a_mental_illness\\\",\\n    \\\"has_your_employer_ever_formally_discussed_mental_health_for_example_as_part_of_a_wellness_campaign_or_other_official_communication\\\",\\n    \\\"did_your_previous_employers_ever_formally_discuss_mental_health_as_part_of_a_wellness_campaign_or_other_official_communication\\\",\\n    \\\"is_your_anonymity_protected_if_you_choose_to_take_advantage_of_mental_health_or_substance_abuse_treatment_resources_provided_by_your_employer\\\",\\n    \\\"what_is_your_age\\\",\\n]\\n\\nall_df.update(\\n    pd.DataFrame(imputer.fit_transform(all_df[impute_cols]), columns=impute_cols)\\n)\";\n",
       "                var nbb_formatted_code = \"# Imputes the missing values using KNN clustering\\nimputer = KNNImputer(n_neighbors=2, weights=\\\"uniform\\\")\\n\\nimpute_cols = [\\n    \\\"is_your_employer_primarily_a_tech_company_organization\\\",\\n    \\\"is_your_primary_role_within_your_company_related_to_tech_it\\\",\\n    \\\"do_you_believe_your_productivity_is_ever_affected_by_a_mental_health_issue\\\",\\n    \\\"have_you_had_a_mental_health_disorder_in_the_past\\\",\\n    \\\"was_your_anonymity_protected_if_you_chose_to_take_advantage_of_mental_health_or_substance_abuse_treatment_resources_with_previous_employers\\\",\\n    \\\"how_willing_would_you_be_to_share_with_friends_and_family_that_you_have_a_mental_illness\\\",\\n    \\\"has_your_employer_ever_formally_discussed_mental_health_for_example_as_part_of_a_wellness_campaign_or_other_official_communication\\\",\\n    \\\"did_your_previous_employers_ever_formally_discuss_mental_health_as_part_of_a_wellness_campaign_or_other_official_communication\\\",\\n    \\\"is_your_anonymity_protected_if_you_choose_to_take_advantage_of_mental_health_or_substance_abuse_treatment_resources_provided_by_your_employer\\\",\\n    \\\"what_is_your_age\\\",\\n]\\n\\nall_df.update(\\n    pd.DataFrame(imputer.fit_transform(all_df[impute_cols]), columns=impute_cols)\\n)\";\n",
       "                var nbb_cells = Jupyter.notebook.get_cells();\n",
       "                for (var i = 0; i < nbb_cells.length; ++i) {\n",
       "                    if (nbb_cells[i].input_prompt_number == nbb_cell_id) {\n",
       "                        if (nbb_cells[i].get_text() == nbb_unformatted_code) {\n",
       "                             nbb_cells[i].set_text(nbb_formatted_code);\n",
       "                        }\n",
       "                        break;\n",
       "                    }\n",
       "                }\n",
       "            }, 500);\n",
       "            "
      ],
      "text/plain": [
       "<IPython.core.display.Javascript object>"
      ]
     },
     "metadata": {},
     "output_type": "display_data"
    }
   ],
   "source": [
    "# Imputes the missing values using KNN clustering\n",
    "imputer = KNNImputer(n_neighbors=2, weights=\"uniform\")\n",
    "\n",
    "impute_cols = [\n",
    "    \"is_your_employer_primarily_a_tech_company_organization\",\n",
    "    \"is_your_primary_role_within_your_company_related_to_tech_it\",\n",
    "    \"do_you_believe_your_productivity_is_ever_affected_by_a_mental_health_issue\",\n",
    "    \"have_you_had_a_mental_health_disorder_in_the_past\",\n",
    "    \"was_your_anonymity_protected_if_you_chose_to_take_advantage_of_mental_health_or_substance_abuse_treatment_resources_with_previous_employers\",\n",
    "    \"how_willing_would_you_be_to_share_with_friends_and_family_that_you_have_a_mental_illness\",\n",
    "    \"has_your_employer_ever_formally_discussed_mental_health_for_example_as_part_of_a_wellness_campaign_or_other_official_communication\",\n",
    "    \"did_your_previous_employers_ever_formally_discuss_mental_health_as_part_of_a_wellness_campaign_or_other_official_communication\",\n",
    "    \"is_your_anonymity_protected_if_you_choose_to_take_advantage_of_mental_health_or_substance_abuse_treatment_resources_provided_by_your_employer\",\n",
    "    \"what_is_your_age\",\n",
    "]\n",
    "\n",
    "all_df.update(\n",
    "    pd.DataFrame(imputer.fit_transform(all_df[impute_cols]), columns=impute_cols)\n",
    ")"
   ]
  },
  {
   "cell_type": "code",
   "execution_count": 29,
   "metadata": {},
   "outputs": [
    {
     "data": {
      "application/javascript": [
       "\n",
       "            setTimeout(function() {\n",
       "                var nbb_cell_id = 29;\n",
       "                var nbb_unformatted_code = \"# Select the label as the response to \\nall_y_df = all_df[\\n    \\\"would_you_be_willing_to_bring_up_a_physical_health_issue_with_a_potential_employer_in_an_interview\\\"\\n].map({\\\"Yes\\\": 2, \\\"Maybe\\\": 1, \\\"No\\\": 0})\\n\\n# The remaining responses and one hot variables are the features\\nall_x_df = all_df[\\n    [\\n        \\\"is_your_employer_primarily_a_tech_company_organization\\\",\\n        \\\"is_your_primary_role_within_your_company_related_to_tech_it\\\",\\n        \\\"do_you_currently_have_a_mental_health_disorder\\\",\\n        \\\"have_you_had_a_mental_health_disorder_in_the_past\\\",\\n        \\\"do_you_have_a_family_history_of_mental_illness\\\",\\n        \\\"do_you_believe_your_productivity_is_ever_affected_by_a_mental_health_issue\\\",\\n        \\\"how_willing_would_you_be_to_share_with_friends_and_family_that_you_have_a_mental_illness\\\",\\n        \\\"did_your_previous_employers_ever_formally_discuss_mental_health_as_part_of_a_wellness_campaign_or_other_official_communication\\\",\\n        \\\"has_your_employer_ever_formally_discussed_mental_health_for_example_as_part_of_a_wellness_campaign_or_other_official_communication\\\",\\n        \\\"is_your_anonymity_protected_if_you_choose_to_take_advantage_of_mental_health_or_substance_abuse_treatment_resources_provided_by_your_employer\\\",\\n        \\\"was_your_anonymity_protected_if_you_chose_to_take_advantage_of_mental_health_or_substance_abuse_treatment_resources_with_previous_employers\\\",\\n        \\\"what_is_your_age\\\",\\n        \\\"m\\\",\\n        \\\"f\\\",\\n        \\\"q1\\\",\\n        \\\"q2\\\",\\n        \\\"q3\\\",\\n        \\\"q4\\\",\\n        \\\"1-5\\\",\\n        \\\"6-25\\\",\\n        \\\"26-100\\\",\\n        \\\"100-500\\\",\\n        \\\"500-1000\\\",\\n        \\\"More than 1000\\\",\\n    ]\\n]\\n\\n\\n# Train test split before scaling\\nX_train, X_test, y_train, y_test = train_test_split(\\n    all_x_df, all_y_df, test_size=0.10, random_state=42069\\n)\";\n",
       "                var nbb_formatted_code = \"# Select the label as the response to\\nall_y_df = all_df[\\n    \\\"would_you_be_willing_to_bring_up_a_physical_health_issue_with_a_potential_employer_in_an_interview\\\"\\n].map({\\\"Yes\\\": 2, \\\"Maybe\\\": 1, \\\"No\\\": 0})\\n\\n# The remaining responses and one hot variables are the features\\nall_x_df = all_df[\\n    [\\n        \\\"is_your_employer_primarily_a_tech_company_organization\\\",\\n        \\\"is_your_primary_role_within_your_company_related_to_tech_it\\\",\\n        \\\"do_you_currently_have_a_mental_health_disorder\\\",\\n        \\\"have_you_had_a_mental_health_disorder_in_the_past\\\",\\n        \\\"do_you_have_a_family_history_of_mental_illness\\\",\\n        \\\"do_you_believe_your_productivity_is_ever_affected_by_a_mental_health_issue\\\",\\n        \\\"how_willing_would_you_be_to_share_with_friends_and_family_that_you_have_a_mental_illness\\\",\\n        \\\"did_your_previous_employers_ever_formally_discuss_mental_health_as_part_of_a_wellness_campaign_or_other_official_communication\\\",\\n        \\\"has_your_employer_ever_formally_discussed_mental_health_for_example_as_part_of_a_wellness_campaign_or_other_official_communication\\\",\\n        \\\"is_your_anonymity_protected_if_you_choose_to_take_advantage_of_mental_health_or_substance_abuse_treatment_resources_provided_by_your_employer\\\",\\n        \\\"was_your_anonymity_protected_if_you_chose_to_take_advantage_of_mental_health_or_substance_abuse_treatment_resources_with_previous_employers\\\",\\n        \\\"what_is_your_age\\\",\\n        \\\"m\\\",\\n        \\\"f\\\",\\n        \\\"q1\\\",\\n        \\\"q2\\\",\\n        \\\"q3\\\",\\n        \\\"q4\\\",\\n        \\\"1-5\\\",\\n        \\\"6-25\\\",\\n        \\\"26-100\\\",\\n        \\\"100-500\\\",\\n        \\\"500-1000\\\",\\n        \\\"More than 1000\\\",\\n    ]\\n]\\n\\n\\n# Train test split before scaling\\nX_train, X_test, y_train, y_test = train_test_split(\\n    all_x_df, all_y_df, test_size=0.10, random_state=42069\\n)\";\n",
       "                var nbb_cells = Jupyter.notebook.get_cells();\n",
       "                for (var i = 0; i < nbb_cells.length; ++i) {\n",
       "                    if (nbb_cells[i].input_prompt_number == nbb_cell_id) {\n",
       "                        if (nbb_cells[i].get_text() == nbb_unformatted_code) {\n",
       "                             nbb_cells[i].set_text(nbb_formatted_code);\n",
       "                        }\n",
       "                        break;\n",
       "                    }\n",
       "                }\n",
       "            }, 500);\n",
       "            "
      ],
      "text/plain": [
       "<IPython.core.display.Javascript object>"
      ]
     },
     "metadata": {},
     "output_type": "display_data"
    }
   ],
   "source": [
    "# Select the label as the response to\n",
    "all_y_df = all_df[\n",
    "    \"would_you_be_willing_to_bring_up_a_physical_health_issue_with_a_potential_employer_in_an_interview\"\n",
    "].map({\"Yes\": 2, \"Maybe\": 1, \"No\": 0})\n",
    "\n",
    "# The remaining responses and one hot variables are the features\n",
    "all_x_df = all_df[\n",
    "    [\n",
    "        \"is_your_employer_primarily_a_tech_company_organization\",\n",
    "        \"is_your_primary_role_within_your_company_related_to_tech_it\",\n",
    "        \"do_you_currently_have_a_mental_health_disorder\",\n",
    "        \"have_you_had_a_mental_health_disorder_in_the_past\",\n",
    "        \"do_you_have_a_family_history_of_mental_illness\",\n",
    "        \"do_you_believe_your_productivity_is_ever_affected_by_a_mental_health_issue\",\n",
    "        \"how_willing_would_you_be_to_share_with_friends_and_family_that_you_have_a_mental_illness\",\n",
    "        \"did_your_previous_employers_ever_formally_discuss_mental_health_as_part_of_a_wellness_campaign_or_other_official_communication\",\n",
    "        \"has_your_employer_ever_formally_discussed_mental_health_for_example_as_part_of_a_wellness_campaign_or_other_official_communication\",\n",
    "        \"is_your_anonymity_protected_if_you_choose_to_take_advantage_of_mental_health_or_substance_abuse_treatment_resources_provided_by_your_employer\",\n",
    "        \"was_your_anonymity_protected_if_you_chose_to_take_advantage_of_mental_health_or_substance_abuse_treatment_resources_with_previous_employers\",\n",
    "        \"what_is_your_age\",\n",
    "        \"m\",\n",
    "        \"f\",\n",
    "        \"q1\",\n",
    "        \"q2\",\n",
    "        \"q3\",\n",
    "        \"q4\",\n",
    "        \"1-5\",\n",
    "        \"6-25\",\n",
    "        \"26-100\",\n",
    "        \"100-500\",\n",
    "        \"500-1000\",\n",
    "        \"More than 1000\",\n",
    "    ]\n",
    "]\n",
    "\n",
    "\n",
    "# Train test split before scaling\n",
    "X_train, X_test, y_train, y_test = train_test_split(\n",
    "    all_x_df, all_y_df, test_size=0.10, random_state=42069\n",
    ")"
   ]
  },
  {
   "cell_type": "markdown",
   "metadata": {},
   "source": [
    "#### Random Forest - Feature Importance"
   ]
  },
  {
   "cell_type": "code",
   "execution_count": 30,
   "metadata": {},
   "outputs": [
    {
     "data": {
      "image/png": "[encoded data removed]",
      "text/plain": [
       "<Figure size 640x480 with 1 Axes>"
      ]
     },
     "metadata": {},
     "output_type": "display_data"
    },
    {
     "data": {
      "application/javascript": [
       "\n",
       "            setTimeout(function() {\n",
       "                var nbb_cell_id = 30;\n",
       "                var nbb_unformatted_code = \"rf = RandomForestClassifier(random_state=0)\\nrf.fit(X_train, y_train)\\nf_i = list(zip(X_train.columns, rf.feature_importances_))\\nf_i.sort(key=lambda x: x[1])\\nplt.barh([x[0] for x in f_i], [x[1] for x in f_i])\\n\\nplt.show()\";\n",
       "                var nbb_formatted_code = \"rf = RandomForestClassifier(random_state=0)\\nrf.fit(X_train, y_train)\\nf_i = list(zip(X_train.columns, rf.feature_importances_))\\nf_i.sort(key=lambda x: x[1])\\nplt.barh([x[0] for x in f_i], [x[1] for x in f_i])\\n\\nplt.show()\";\n",
       "                var nbb_cells = Jupyter.notebook.get_cells();\n",
       "                for (var i = 0; i < nbb_cells.length; ++i) {\n",
       "                    if (nbb_cells[i].input_prompt_number == nbb_cell_id) {\n",
       "                        if (nbb_cells[i].get_text() == nbb_unformatted_code) {\n",
       "                             nbb_cells[i].set_text(nbb_formatted_code);\n",
       "                        }\n",
       "                        break;\n",
       "                    }\n",
       "                }\n",
       "            }, 500);\n",
       "            "
      ],
      "text/plain": [
       "<IPython.core.display.Javascript object>"
      ]
     },
     "metadata": {},
     "output_type": "display_data"
    }
   ],
   "source": [
    "rf = RandomForestClassifier(random_state=0)\n",
    "rf.fit(X_train, y_train)\n",
    "f_i = list(zip(X_train.columns, rf.feature_importances_))\n",
    "f_i.sort(key=lambda x: x[1])\n",
    "plt.barh([x[0] for x in f_i], [x[1] for x in f_i])\n",
    "\n",
    "plt.show()"
   ]
  },
  {
   "cell_type": "markdown",
   "metadata": {},
   "source": [
    "#### Model Pipeline - Cross Validation\n",
    "\n",
    "We use a grid search to select the best model out of:\n",
    " - Logistic Regression\n",
    " - Support Vector Machine\n",
    " - Random Forest\n",
    " - XGBoost\n",
    " \n",
    " We also grid search over the number of features (SelectKBest). We ensure (after iterations) that the final model does not have hyperparameters that are at the edge of the grid search values."
   ]
  },
  {
   "cell_type": "code",
   "execution_count": 20,
   "metadata": {},
   "outputs": [
    {
     "name": "stdout",
     "output_type": "stream",
     "text": [
      "\n",
      " Best estimator:  Pipeline(steps=[('minmax_scaler', MinMaxScaler()),\n",
      "                ('selector',\n",
      "                 SelectKBest(k='all',\n",
      "                             score_func=<function chi2 at 0x0000017C2C416820>)),\n",
      "                ('estimator',\n",
      "                 XGBClassifier(base_score=0.5, booster='gbtree', callbacks=None,\n",
      "                               colsample_bylevel=1, colsample_bynode=1,\n",
      "                               colsample_bytree=1, early_stopping_rounds=None,\n",
      "                               enable_categorical=False, eval_metric=None,\n",
      "                               feature_types=None, g...=-1,\n",
      "                               grow_policy='depthwise', importance_type=None,\n",
      "                               interaction_constraints='',\n",
      "                               learning_rate=0.300000012, max_bin=256,\n",
      "                               max_cat_threshold=64, max_cat_to_onehot=4,\n",
      "                               max_delta_step=0, max_depth=2, max_leaves=0,\n",
      "                               min_child_weight=1, missing=nan,\n",
      "                               monotone_constraints='()', n_estimators=10,\n",
      "                               n_jobs=0, num_parallel_tree=1,\n",
      "                               objective='multi:softprob', predictor='auto', ...))])\n",
      "Max mean training score: \n",
      "\n",
      "0.4430805601018367\n",
      "\n",
      " Best estimator params: \n",
      "{'estimator': XGBClassifier(base_score=0.5, booster='gbtree', callbacks=None,\n",
      "              colsample_bylevel=1, colsample_bynode=1, colsample_bytree=1,\n",
      "              early_stopping_rounds=None, enable_categorical=False,\n",
      "              eval_metric=None, feature_types=None, gamma=0.1, gpu_id=-1,\n",
      "              grow_policy='depthwise', importance_type=None,\n",
      "              interaction_constraints='', learning_rate=0.300000012,\n",
      "              max_bin=256, max_cat_threshold=64, max_cat_to_onehot=4,\n",
      "              max_delta_step=0, max_depth=2, max_leaves=0, min_child_weight=1,\n",
      "              missing=nan, monotone_constraints='()', n_estimators=10, n_jobs=0,\n",
      "              num_parallel_tree=1, objective='multi:softprob', predictor='auto', ...),\n",
      " 'estimator__base_score': 0.5,\n",
      " 'estimator__booster': 'gbtree',\n",
      " 'estimator__callbacks': None,\n",
      " 'estimator__colsample_bylevel': 1,\n",
      " 'estimator__colsample_bynode': 1,\n",
      " 'estimator__colsample_bytree': 1,\n",
      " 'estimator__early_stopping_rounds': None,\n",
      " 'estimator__enable_categorical': False,\n",
      " 'estimator__eval_metric': None,\n",
      " 'estimator__feature_types': None,\n",
      " 'estimator__gamma': 0.1,\n",
      " 'estimator__gpu_id': -1,\n",
      " 'estimator__grow_policy': 'depthwise',\n",
      " 'estimator__importance_type': None,\n",
      " 'estimator__interaction_constraints': '',\n",
      " 'estimator__learning_rate': 0.300000012,\n",
      " 'estimator__max_bin': 256,\n",
      " 'estimator__max_cat_threshold': 64,\n",
      " 'estimator__max_cat_to_onehot': 4,\n",
      " 'estimator__max_delta_step': 0,\n",
      " 'estimator__max_depth': 2,\n",
      " 'estimator__max_leaves': 0,\n",
      " 'estimator__min_child_weight': 1,\n",
      " 'estimator__missing': nan,\n",
      " 'estimator__monotone_constraints': '()',\n",
      " 'estimator__n_estimators': 10,\n",
      " 'estimator__n_jobs': 0,\n",
      " 'estimator__num_parallel_tree': 1,\n",
      " 'estimator__objective': 'multi:softprob',\n",
      " 'estimator__predictor': 'auto',\n",
      " 'estimator__random_state': 0,\n",
      " 'estimator__reg_alpha': 0,\n",
      " 'estimator__reg_lambda': 1,\n",
      " 'estimator__sampling_method': 'uniform',\n",
      " 'estimator__scale_pos_weight': None,\n",
      " 'estimator__subsample': 1,\n",
      " 'estimator__tree_method': 'exact',\n",
      " 'estimator__use_label_encoder': None,\n",
      " 'estimator__validate_parameters': 1,\n",
      " 'estimator__verbosity': None,\n",
      " 'memory': None,\n",
      " 'minmax_scaler': MinMaxScaler(),\n",
      " 'minmax_scaler__copy': True,\n",
      " 'minmax_scaler__feature_range': (0, 1),\n",
      " 'selector': SelectKBest(k='all', score_func=<function chi2 at 0x0000017C2C416820>),\n",
      " 'selector__k': 'all',\n",
      " 'selector__score_func': <function chi2 at 0x0000017C2C416820>,\n",
      " 'steps': [('minmax_scaler', MinMaxScaler()),\n",
      "           ('selector',\n",
      "            SelectKBest(k='all', score_func=<function chi2 at 0x0000017C2C416820>)),\n",
      "           ('estimator',\n",
      "            XGBClassifier(base_score=0.5, booster='gbtree', callbacks=None,\n",
      "              colsample_bylevel=1, colsample_bynode=1, colsample_bytree=1,\n",
      "              early_stopping_rounds=None, enable_categorical=False,\n",
      "              eval_metric=None, feature_types=None, gamma=0.1, gpu_id=-1,\n",
      "              grow_policy='depthwise', importance_type=None,\n",
      "              interaction_constraints='', learning_rate=0.300000012,\n",
      "              max_bin=256, max_cat_threshold=64, max_cat_to_onehot=4,\n",
      "              max_delta_step=0, max_depth=2, max_leaves=0, min_child_weight=1,\n",
      "              missing=nan, monotone_constraints='()', n_estimators=10, n_jobs=0,\n",
      "              num_parallel_tree=1, objective='multi:softprob', predictor='auto', ...))],\n",
      " 'verbose': False}\n"
     ]
    },
    {
     "data": {
      "application/javascript": [
       "\n",
       "            setTimeout(function() {\n",
       "                var nbb_cell_id = 20;\n",
       "                var nbb_unformatted_code = \"pipeline = Pipeline(\\n    [\\n        (\\\"minmax_scaler\\\", MinMaxScaler()),\\n        (\\\"selector\\\", SelectKBest(score_func=chi2, k=\\\"all\\\")),\\n        (\\\"estimator\\\", RandomForestClassifier(random_state=0)),\\n    ]\\n)\\n\\nsearch_space = [\\n    {\\\"selector__k\\\": [2, 5, 10]},\\n         {\\n             \\\"estimator\\\": [LogisticRegression(solver=\\\"liblinear\\\")],\\n             \\\"estimator__C\\\": [0.01, 0.1, 1.0, 10.0],\\n             \\\"estimator__penalty\\\": [\\\"l1\\\", \\\"l2\\\"],\\n         },\\n             {\\n                 \\\"estimator\\\": [svm.SVC()],\\n                 \\\"estimator__C\\\": [0.01, 0.1, 1.0, 10.0],\\n                 \\\"estimator__kernel\\\": [\\\"linear\\\", \\\"poly\\\", \\\"rbf\\\"],\\n            },\\n    {\\n        \\\"estimator\\\": [RandomForestClassifier(random_state=0)],\\n        \\\"estimator__max_depth\\\": [1, 2, 3, 4, 5, 6],\\n        \\\"estimator__criterion\\\": [\\\"gini\\\", \\\"entropy\\\"],\\n    },\\n         {\\n             \\\"estimator\\\": [XGBClassifier(random_state=0)],\\n             \\\"estimator__max_depth\\\": [2, 4, 6, 8, 10],\\n             \\\"estimator__n_estimators\\\": [10, 100, 500],\\n             \\\"estimator__min_child_weight\\\": [1, 3, 5, 7],\\n             \\\"estimator__gamma\\\": [0.0, 0.1, 0.2, 0.3, 0.4],\\n         },\\n]\\n\\n# Search parameter space\\nclf_grid = GridSearchCV(pipeline, search_space, cv=10, verbose=0)\\nclf_grid = clf_grid.fit(X_train, y_train)\\nbest_clf = clf_grid.best_estimator_\\n\\n# Print results\\n# print('Mean training scores: \\\\n', *grid_clf.cv_results_['mean_test_score'], sep = '\\\\n')\\nprint(\\\"\\\\n Best estimator: \\\", best_clf)\\nprint(\\n    \\\"Max mean training score: \\\\n\\\",\\n    np.max(clf_grid.cv_results_[\\\"mean_test_score\\\"]),\\n    sep=\\\"\\\\n\\\",\\n)\\nprint(\\\"\\\\n Best estimator params: \\\")\\npprint.pprint(best_clf.get_params())\";\n",
       "                var nbb_formatted_code = \"pipeline = Pipeline(\\n    [\\n        (\\\"minmax_scaler\\\", MinMaxScaler()),\\n        (\\\"selector\\\", SelectKBest(score_func=chi2, k=\\\"all\\\")),\\n        (\\\"estimator\\\", RandomForestClassifier(random_state=0)),\\n    ]\\n)\\n\\nsearch_space = [\\n    {\\\"selector__k\\\": [2, 5, 10]},\\n    {\\n        \\\"estimator\\\": [LogisticRegression(solver=\\\"liblinear\\\")],\\n        \\\"estimator__C\\\": [0.01, 0.1, 1.0, 10.0],\\n        \\\"estimator__penalty\\\": [\\\"l1\\\", \\\"l2\\\"],\\n    },\\n    {\\n        \\\"estimator\\\": [svm.SVC()],\\n        \\\"estimator__C\\\": [0.01, 0.1, 1.0, 10.0],\\n        \\\"estimator__kernel\\\": [\\\"linear\\\", \\\"poly\\\", \\\"rbf\\\"],\\n    },\\n    {\\n        \\\"estimator\\\": [RandomForestClassifier(random_state=0)],\\n        \\\"estimator__max_depth\\\": [1, 2, 3, 4, 5, 6],\\n        \\\"estimator__criterion\\\": [\\\"gini\\\", \\\"entropy\\\"],\\n    },\\n    {\\n        \\\"estimator\\\": [XGBClassifier(random_state=0)],\\n        \\\"estimator__max_depth\\\": [2, 4, 6, 8, 10],\\n        \\\"estimator__n_estimators\\\": [10, 100, 500],\\n        \\\"estimator__min_child_weight\\\": [1, 3, 5, 7],\\n        \\\"estimator__gamma\\\": [0.0, 0.1, 0.2, 0.3, 0.4],\\n    },\\n]\\n\\n# Search parameter space\\nclf_grid = GridSearchCV(pipeline, search_space, cv=10, verbose=0)\\nclf_grid = clf_grid.fit(X_train, y_train)\\nbest_clf = clf_grid.best_estimator_\\n\\n# Print results\\n# print('Mean training scores: \\\\n', *grid_clf.cv_results_['mean_test_score'], sep = '\\\\n')\\nprint(\\\"\\\\n Best estimator: \\\", best_clf)\\nprint(\\n    \\\"Max mean training score: \\\\n\\\",\\n    np.max(clf_grid.cv_results_[\\\"mean_test_score\\\"]),\\n    sep=\\\"\\\\n\\\",\\n)\\nprint(\\\"\\\\n Best estimator params: \\\")\\npprint.pprint(best_clf.get_params())\";\n",
       "                var nbb_cells = Jupyter.notebook.get_cells();\n",
       "                for (var i = 0; i < nbb_cells.length; ++i) {\n",
       "                    if (nbb_cells[i].input_prompt_number == nbb_cell_id) {\n",
       "                        if (nbb_cells[i].get_text() == nbb_unformatted_code) {\n",
       "                             nbb_cells[i].set_text(nbb_formatted_code);\n",
       "                        }\n",
       "                        break;\n",
       "                    }\n",
       "                }\n",
       "            }, 500);\n",
       "            "
      ],
      "text/plain": [
       "<IPython.core.display.Javascript object>"
      ]
     },
     "metadata": {},
     "output_type": "display_data"
    }
   ],
   "source": [
    "pipeline = Pipeline(\n",
    "    [\n",
    "        (\"minmax_scaler\", MinMaxScaler()),\n",
    "        (\"selector\", SelectKBest(score_func=chi2, k=\"all\")),\n",
    "        (\"estimator\", RandomForestClassifier(random_state=0)),\n",
    "    ]\n",
    ")\n",
    "\n",
    "search_space = [\n",
    "    {\"selector__k\": [2, 5, 10]},\n",
    "    {\n",
    "        \"estimator\": [LogisticRegression(solver=\"liblinear\")],\n",
    "        \"estimator__C\": [0.01, 0.1, 1.0, 10.0],\n",
    "        \"estimator__penalty\": [\"l1\", \"l2\"],\n",
    "    },\n",
    "    {\n",
    "        \"estimator\": [svm.SVC()],\n",
    "        \"estimator__C\": [0.01, 0.1, 1.0, 10.0],\n",
    "        \"estimator__kernel\": [\"linear\", \"poly\", \"rbf\"],\n",
    "    },\n",
    "    {\n",
    "        \"estimator\": [RandomForestClassifier(random_state=0)],\n",
    "        \"estimator__max_depth\": [1, 2, 3, 4, 5, 6],\n",
    "        \"estimator__criterion\": [\"gini\", \"entropy\"],\n",
    "    },\n",
    "    {\n",
    "        \"estimator\": [XGBClassifier(random_state=0)],\n",
    "        \"estimator__max_depth\": [2, 4, 6, 8, 10],\n",
    "        \"estimator__n_estimators\": [10, 100, 500],\n",
    "        \"estimator__min_child_weight\": [1, 3, 5, 7],\n",
    "        \"estimator__gamma\": [0.0, 0.1, 0.2, 0.3, 0.4],\n",
    "    },\n",
    "]\n",
    "\n",
    "# Search parameter space\n",
    "clf_grid = GridSearchCV(pipeline, search_space, cv=10, verbose=0)\n",
    "clf_grid = clf_grid.fit(X_train, y_train)\n",
    "best_clf = clf_grid.best_estimator_\n",
    "\n",
    "# Print results\n",
    "# print('Mean training scores: \\n', *grid_clf.cv_results_['mean_test_score'], sep = '\\n')\n",
    "print(\"\\n Best estimator: \", best_clf)\n",
    "print(\n",
    "    \"Max mean training score: \\n\",\n",
    "    np.max(clf_grid.cv_results_[\"mean_test_score\"]),\n",
    "    sep=\"\\n\",\n",
    ")\n",
    "print(\"\\n Best estimator params: \")\n",
    "pprint.pprint(best_clf.get_params())"
   ]
  },
  {
   "cell_type": "code",
   "execution_count": 23,
   "metadata": {},
   "outputs": [
    {
     "name": "stdout",
     "output_type": "stream",
     "text": [
      "\n",
      " Best estimator:  Pipeline(steps=[('minmax_scaler', MinMaxScaler()),\n",
      "                ('selector',\n",
      "                 SelectKBest(k='all',\n",
      "                             score_func=<function chi2 at 0x0000017C2C416820>)),\n",
      "                ('estimator',\n",
      "                 XGBClassifier(base_score=0.5, booster='gbtree', callbacks=None,\n",
      "                               colsample_bylevel=1, colsample_bynode=1,\n",
      "                               colsample_bytree=1, early_stopping_rounds=None,\n",
      "                               enable_categorical=False, eval_metric=None,\n",
      "                               feature_types=None, g...=-1,\n",
      "                               grow_policy='depthwise', importance_type=None,\n",
      "                               interaction_constraints='',\n",
      "                               learning_rate=0.300000012, max_bin=256,\n",
      "                               max_cat_threshold=64, max_cat_to_onehot=4,\n",
      "                               max_delta_step=0, max_depth=2, max_leaves=0,\n",
      "                               min_child_weight=1, missing=nan,\n",
      "                               monotone_constraints='()', n_estimators=10,\n",
      "                               n_jobs=0, num_parallel_tree=1,\n",
      "                               objective='multi:softprob', predictor='auto', ...))])\n",
      "Max mean training score: \n",
      "\n",
      "0.4430805601018367\n"
     ]
    },
    {
     "data": {
      "application/javascript": [
       "\n",
       "            setTimeout(function() {\n",
       "                var nbb_cell_id = 23;\n",
       "                var nbb_unformatted_code = \"print(\\\"\\\\n Best estimator: \\\", best_clf)\\nprint(\\n    \\\"Max mean training score: \\\\n\\\",\\n    np.max(clf_grid.cv_results_[\\\"mean_test_score\\\"]),\\n    sep=\\\"\\\\n\\\",)\";\n",
       "                var nbb_formatted_code = \"print(\\\"\\\\n Best estimator: \\\", best_clf)\\nprint(\\n    \\\"Max mean training score: \\\\n\\\",\\n    np.max(clf_grid.cv_results_[\\\"mean_test_score\\\"]),\\n    sep=\\\"\\\\n\\\",\\n)\";\n",
       "                var nbb_cells = Jupyter.notebook.get_cells();\n",
       "                for (var i = 0; i < nbb_cells.length; ++i) {\n",
       "                    if (nbb_cells[i].input_prompt_number == nbb_cell_id) {\n",
       "                        if (nbb_cells[i].get_text() == nbb_unformatted_code) {\n",
       "                             nbb_cells[i].set_text(nbb_formatted_code);\n",
       "                        }\n",
       "                        break;\n",
       "                    }\n",
       "                }\n",
       "            }, 500);\n",
       "            "
      ],
      "text/plain": [
       "<IPython.core.display.Javascript object>"
      ]
     },
     "metadata": {},
     "output_type": "display_data"
    }
   ],
   "source": [
    "print(\"\\n Best estimator: \", best_clf)\n",
    "print(\n",
    "    \"Max mean training score: \\n\",\n",
    "    np.max(clf_grid.cv_results_[\"mean_test_score\"]),\n",
    "    sep=\"\\n\",\n",
    ")"
   ]
  },
  {
   "cell_type": "markdown",
   "metadata": {},
   "source": [
    "### Final Model and Conclusions\n",
    "\n",
    "The optimal model chosen was the XGBoost Model. Unfortunately due to the poor quality of this survey dataset, the final model has low predictive power."
   ]
  },
  {
   "cell_type": "code",
   "execution_count": null,
   "metadata": {},
   "outputs": [],
   "source": []
  }
 ],
 "metadata": {
  "kernelspec": {
   "display_name": "Python 3 (ipykernel)",
   "language": "python",
   "name": "python3"
  },
  "language_info": {
   "codemirror_mode": {
    "name": "ipython",
    "version": 3
   },
   "file_extension": ".py",
   "mimetype": "text/x-python",
   "name": "python",
   "nbconvert_exporter": "python",
   "pygments_lexer": "ipython3",
   "version": "3.9.15"
  }
 },
 "nbformat": 4,
 "nbformat_minor": 4
}
